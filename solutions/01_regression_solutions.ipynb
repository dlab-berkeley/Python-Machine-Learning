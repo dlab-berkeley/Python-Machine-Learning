{
 "cells": [
  {
   "cell_type": "markdown",
   "id": "a027a99e-1ac6-4336-b87a-f0d5d79e22e2",
   "metadata": {},
   "source": [
    "# Python Machine Learning: Regression Solutions"
   ]
  },
  {
   "cell_type": "code",
   "execution_count": null,
   "id": "8546cbf5-1c72-40c5-be75-234d1c3c9f3b",
   "metadata": {},
   "outputs": [],
   "source": [
    "import pandas as pd\n",
    "import numpy as np\n",
    "import matplotlib.pyplot as plt\n",
    "\n",
    "from sklearn.linear_model import LinearRegression\n",
    "from sklearn.model_selection import train_test_split\n",
    "\n",
    "%matplotlib inline"
   ]
  },
  {
   "cell_type": "code",
   "execution_count": null,
   "id": "772d7956-975b-4489-8336-40dc93e3f528",
   "metadata": {},
   "outputs": [],
   "source": [
    "data = pd.read_csv('../data/auto-mpg.csv')"
   ]
  },
  {
   "cell_type": "markdown",
   "id": "59c90903-4781-4a14-a73f-5322e7003705",
   "metadata": {},
   "source": [
    "---\n",
    "### Challenge 1: More EDA\n",
    "\n",
    "Create the following plots, or examine the following distributions, while exploring your data:\n",
    "\n",
    "1. A histogram of the displacement.\n",
    "2. A histogram of the horsepower.\n",
    "3. A histogram of the weight.\n",
    "4. A histogram of the acceleration.\n",
    "5. What are the unique model years, and their counts?\n",
    "6. What are the unique origin values, and their counts?\n",
    "\n",
    "---"
   ]
  },
  {
   "cell_type": "code",
   "execution_count": null,
   "id": "859bccf7-82fa-4095-a6ff-523ef9eb7759",
   "metadata": {},
   "outputs": [],
   "source": [
    "ax = data['displacement'].hist(grid=False, bins=np.linspace(75, 450, 15))\n",
    "ax.set_xlabel('Displacement')\n",
    "ax.set_ylabel('Frequency')\n",
    "plt.show()"
   ]
  },
  {
   "cell_type": "code",
   "execution_count": null,
   "id": "631de034-f513-4199-9e76-e2a1388d0475",
   "metadata": {},
   "outputs": [],
   "source": [
    "ax = data['horsepower'].hist(grid=False, bins=np.linspace(45, 230, 15))\n",
    "ax.set_xlabel('Horsepower')\n",
    "ax.set_ylabel('Frequency')\n",
    "plt.show()"
   ]
  },
  {
   "cell_type": "code",
   "execution_count": null,
   "id": "0b5c0f99-584f-4d52-ad12-051eeb238067",
   "metadata": {},
   "outputs": [],
   "source": [
    "ax = data['weight'].hist(grid=False)\n",
    "ax.set_xlabel('Weight')\n",
    "ax.set_ylabel('Frequency')\n",
    "plt.show()"
   ]
  },
  {
   "cell_type": "code",
   "execution_count": null,
   "id": "95c88602-8d09-4b1c-ab93-d7a0329cee4f",
   "metadata": {},
   "outputs": [],
   "source": [
    "ax = data['acceleration'].hist(grid=False)\n",
    "ax.set_xlabel('Acceleration')\n",
    "ax.set_ylabel('Frequency')\n",
    "plt.show()"
   ]
  },
  {
   "cell_type": "code",
   "execution_count": null,
   "id": "e40bdacb-9b47-491a-995c-961430fcb4b2",
   "metadata": {},
   "outputs": [],
   "source": [
    "data['model year'].value_counts().sort_index()"
   ]
  },
  {
   "cell_type": "code",
   "execution_count": null,
   "id": "d56a338a-1929-4c19-a7bc-3beeb7045335",
   "metadata": {},
   "outputs": [],
   "source": [
    "data['origin'].value_counts().sort_index()"
   ]
  },
  {
   "cell_type": "markdown",
   "id": "c391bc78-fb9c-441c-8c04-e6708645c157",
   "metadata": {},
   "source": [
    "---\n",
    "### Challenge 2: Mean Absolute Error\n",
    "\n",
    "Another commonly used metric in regression is the **Mean Absolute Error (MAE)**. As the name suggests, this can be calculated by taking the mean of the absolute errors. Calculate the mean absolute error on the training and test data with your trained model. We've imported the MAE for you below:\n",
    "\n",
    "---"
   ]
  },
  {
   "cell_type": "code",
   "execution_count": null,
   "id": "5b6f6d56-5967-468c-bcd2-0ceb8819e630",
   "metadata": {},
   "outputs": [],
   "source": [
    "# Remove the response variable and car name\n",
    "X = data.drop(columns=['car name', 'mpg'])\n",
    "# Assign response variable to its own variable\n",
    "y = data['mpg'].astype(np.float64)"
   ]
  },
  {
   "cell_type": "code",
   "execution_count": null,
   "id": "edc3dbcb-9610-4342-96a3-5a4b7d400a15",
   "metadata": {},
   "outputs": [],
   "source": [
    "X_train, X_test, y_train, y_test = train_test_split(X, y, test_size=0.2, random_state=23)"
   ]
  },
  {
   "cell_type": "code",
   "execution_count": null,
   "id": "f6eb59e4-1597-468e-b18d-ef5ecc519caf",
   "metadata": {},
   "outputs": [],
   "source": [
    "model = LinearRegression()"
   ]
  },
  {
   "cell_type": "code",
   "execution_count": null,
   "id": "0994de85-ae86-43aa-9fe1-0ded209edbc9",
   "metadata": {},
   "outputs": [],
   "source": [
    "model.fit(X_train, y_train)"
   ]
  },
  {
   "cell_type": "code",
   "execution_count": null,
   "id": "8c54289e-f6d0-4892-84bb-8728d8591402",
   "metadata": {},
   "outputs": [],
   "source": [
    "y_train_pred = model.predict(X_train)\n",
    "y_test_pred = model.predict(X_test)"
   ]
  },
  {
   "cell_type": "code",
   "execution_count": null,
   "id": "1a7e56aa-35d8-4066-9fe1-29de73c359c3",
   "metadata": {},
   "outputs": [],
   "source": [
    "from sklearn.metrics import mean_absolute_error\n",
    "print(mean_absolute_error(y_train, y_train_pred))\n",
    "print(mean_absolute_error(y_test, y_test_pred))"
   ]
  },
  {
   "cell_type": "markdown",
   "id": "c4205dbf-87e5-4bbc-97e2-f80c3bde8530",
   "metadata": {},
   "source": [
    "---\n",
    "### Challenge 3: Feature Engineering\n",
    "\n",
    "You might notice that the `origin` variable has only three values. So, it's really a categorical variable, where each sample has one of three origins. In this scenario, we've treated it like a continuous variable. \n",
    "\n",
    "How can we properly treat this variable as categorical? This is a question of preprocessing and **feature engineering**.\n",
    "\n",
    "What we can do is replace the `origin` feature with two binary variables. The first tells us whether origin is equal to 2. The second tells us whether origin is equal to 3. If both are false, that means origin is equal to 1.\n",
    "\n",
    "By fitting a linear regression with these two binary features rather than treating `origin` as continuous, we can get a better sense for how the origin impacts the MPG.\n",
    "\n",
    "Create two new binary features corresponding to origin, and then recreate the training and test data. Then, fit a linear model to the new data. What do you find about the performance and new coefficients?\n",
    "\n",
    "---"
   ]
  },
  {
   "cell_type": "code",
   "execution_count": null,
   "id": "651f4a11-aa7f-45d5-84de-d3c6f8b551bd",
   "metadata": {},
   "outputs": [],
   "source": [
    "data['origin_2'] = (data['origin'] == 2).astype('int')\n",
    "data['origin_3'] = (data['origin'] == 3).astype('int')"
   ]
  },
  {
   "cell_type": "code",
   "execution_count": null,
   "id": "0ba5b282-fb1f-4550-a2e6-ce156ae4bb51",
   "metadata": {},
   "outputs": [],
   "source": [
    "# Remove the response variable and car name\n",
    "X = data.drop(columns=['car name', 'mpg', 'origin'])\n",
    "# Assign response variable to its own variable\n",
    "y = data['mpg'].astype(np.float64)"
   ]
  },
  {
   "cell_type": "code",
   "execution_count": null,
   "id": "b633c0f1-de8a-46ad-a573-7b37b50089a9",
   "metadata": {},
   "outputs": [],
   "source": [
    "# Split\n",
    "X_train, X_test, y_train, y_test = train_test_split(X, y, test_size=0.2, random_state=23)\n",
    "# Fit model\n",
    "model = LinearRegression()\n",
    "model.fit(X_train, y_train)\n",
    "# Evaluate model\n",
    "print(model.score(X_test, y_test))\n",
    "print(model.coef_)"
   ]
  }
 ],
 "metadata": {
  "kernelspec": {
   "display_name": "nlp",
   "language": "python",
   "name": "nlp"
  },
  "language_info": {
   "codemirror_mode": {
    "name": "ipython",
    "version": 3
   },
   "file_extension": ".py",
   "mimetype": "text/x-python",
   "name": "python",
   "nbconvert_exporter": "python",
   "pygments_lexer": "ipython3",
   "version": "3.9.7"
  }
 },
 "nbformat": 4,
 "nbformat_minor": 5
}
