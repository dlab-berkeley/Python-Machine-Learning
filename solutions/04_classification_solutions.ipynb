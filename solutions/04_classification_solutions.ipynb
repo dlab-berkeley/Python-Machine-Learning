{
 "cells": [
  {
   "cell_type": "markdown",
   "id": "599e3581",
   "metadata": {},
   "source": [
    "## Challenge 1: Model Evaluation\n",
    "\n",
    "1) What are the TP, FP, TN, FN in these model results?\n",
    "\n",
    "- TP: 26\n",
    "- FP: 3\n",
    "- TN: 34\n",
    "- FN: 4\n",
    "\n",
    "\n",
    "2) What is the precision and recall for this model?\n",
    "\n",
    "**precision**: 26 / 29 = 0.896\n",
    "**recall**: 26 / 30 =  0.867"
   ]
  }
 ],
 "metadata": {
  "kernelspec": {
   "display_name": "Python 3 (ipykernel)",
   "language": "python",
   "name": "python3"
  },
  "language_info": {
   "codemirror_mode": {
    "name": "ipython",
    "version": 3
   },
   "file_extension": ".py",
   "mimetype": "text/x-python",
   "name": "python",
   "nbconvert_exporter": "python",
   "pygments_lexer": "ipython3",
   "version": "3.9.12"
  }
 },
 "nbformat": 4,
 "nbformat_minor": 5
}
