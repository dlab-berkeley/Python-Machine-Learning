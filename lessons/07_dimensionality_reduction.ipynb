{
 "cells": [
  {
   "cell_type": "markdown",
   "metadata": {},
   "source": [
    "# Dimensionality Reduction\n",
    "\n",
    "\n",
    "What if there was a way you could reduce the number of dimensions in your data and still retain a significant portion of the data's identity?\n",
    "\n",
    "That is dimensionality reduction in a nutshell. It is a statistical technique that reduces a dataset of `m` dimensions down to `k` while minimizing the loss of information.\n",
    "\n",
    "**Dimensionality Reduction** can is useful for generalizating, visualizing, and compressing data."
   ]
  },
  {
   "cell_type": "code",
   "execution_count": null,
   "metadata": {},
   "outputs": [],
   "source": []
  },
  {
   "cell_type": "markdown",
   "metadata": {},
   "source": [
    "Part of the reason why dimensionality reduction works is because the redundancy that exists in datasets. If you have a dataset of `N` features that are all highly correlated with another, then you don't really have `N` features worth of signal.\n",
    "\n",
    "Think about the results of a survey asking subjects on their political opinions. The survey asks a respondent to rate how strongly they support/oppose issues on topics such as taxes, abortion, the environment, etc...\n",
    "\n",
    "Opinions on gun control probably correlate with opinions on abortion and opinions on healtcare probably correlate with opinions on military spending.\n",
    "\n",
    "A dimensionality reduction technique could compress the results of this survey down to a single dimension that effectively represents a left-right political spectrum. And because of the multicollinearity in the data, the loss of information wouldn't be equal in proportion to the decrease in dimensions."
   ]
  },
  {
   "cell_type": "code",
   "execution_count": null,
   "metadata": {},
   "outputs": [],
   "source": []
  },
  {
   "cell_type": "code",
   "execution_count": 1,
   "metadata": {},
   "outputs": [],
   "source": [
    "#imports\n",
    "import pandas as pd\n",
    "import numpy as np\n",
    "import matplotlib.pyplot as plt\n",
    "plt.style.use(\"ggplot\")\n",
    "\n",
    "from sklearn.preprocessing import StandardScaler\n",
    "from sklearn.decomposition import PCA\n",
    "from sklearn.manifold import TSNE"
   ]
  },
  {
   "cell_type": "markdown",
   "metadata": {},
   "source": [
    "### World Happiness Report\n",
    "\n",
    "The data for originates  from the [2022 World Happiness report](https://worldhappiness.report/ed/2022/) and was downloaded from this [kaggle repo](https://www.kaggle.com/datasets/ajaypalsinghlo/world-happiness-report-2022). The following data dictionary explains what the variables mean. You can read the full report [here](https://happiness-report.s3.amazonaws.com/2022/WHR+22.pdf).\n",
    "\n",
    "**happiness_score:** The national average response to the question of life evaluations. Question asks “Please imagine a ladder, with steps numbered from 0 at the bottom to 10 at the top. The top of the ladder represents the best possible life for you and the bottom of the ladder represents the worst possible life for you. On which step of the ladder would you say you personally feel you stand at this time?”\n",
    "\n",
    "**gdp:** GDP per capita (variable name gdp) in purchasing power parity (PPP) at constant 2017 international dollar prices.\n",
    "\n",
    "**life_expectancy:** Healthy life expectancies at birth are based on the data extracted from the World Health Organization’s (WHO) Global Health Observatory data repository \n",
    "\n",
    "**social_support:** The national average of the binary responses (either 0 or 1) to the GWP (Gallup World Poll) question “If you were in trouble, do you have relatives or friends you can count on to help you whenever you need them, or not?”\n",
    "\n",
    "**freedom:** Freedom to make life choices is the national average of responses to the GWP question “Are you satisfied or dissatisfied with your freedom to choose what you do with your life?”\n",
    "\n",
    "**generosity:** Generosity is the residual of regressing national average of response to the GWP question “Have you donated money to a charity in the past month?” on GDP per capita.\n",
    "\n",
    "**corruption:** The measure is the national average of the survey responses to two questions in the GWP: “Is corruption widespread throughout the government or not” and “Is corruption widespread within businesses or\n",
    "not?” The overall perception is just the average of the two 0-or-1 responses. The corruption perception at the national level is just the average response of the overall perception at the individual level."
   ]
  },
  {
   "cell_type": "code",
   "execution_count": 2,
   "metadata": {},
   "outputs": [
    {
     "data": {
      "text/html": [
       "<div>\n",
       "<style scoped>\n",
       "    .dataframe tbody tr th:only-of-type {\n",
       "        vertical-align: middle;\n",
       "    }\n",
       "\n",
       "    .dataframe tbody tr th {\n",
       "        vertical-align: top;\n",
       "    }\n",
       "\n",
       "    .dataframe thead th {\n",
       "        text-align: right;\n",
       "    }\n",
       "</style>\n",
       "<table border=\"1\" class=\"dataframe\">\n",
       "  <thead>\n",
       "    <tr style=\"text-align: right;\">\n",
       "      <th></th>\n",
       "      <th>rank</th>\n",
       "      <th>country</th>\n",
       "      <th>happiness_score</th>\n",
       "      <th>gdp</th>\n",
       "      <th>social_support</th>\n",
       "      <th>life_expectancy</th>\n",
       "      <th>freedom</th>\n",
       "      <th>generosity</th>\n",
       "      <th>corruption</th>\n",
       "      <th>continent</th>\n",
       "    </tr>\n",
       "  </thead>\n",
       "  <tbody>\n",
       "    <tr>\n",
       "      <th>0</th>\n",
       "      <td>1</td>\n",
       "      <td>Finland</td>\n",
       "      <td>7.821</td>\n",
       "      <td>1.892</td>\n",
       "      <td>1.258</td>\n",
       "      <td>0.775</td>\n",
       "      <td>0.736</td>\n",
       "      <td>0.109</td>\n",
       "      <td>0.534</td>\n",
       "      <td>Europe</td>\n",
       "    </tr>\n",
       "    <tr>\n",
       "      <th>1</th>\n",
       "      <td>2</td>\n",
       "      <td>Denmark</td>\n",
       "      <td>7.636</td>\n",
       "      <td>1.953</td>\n",
       "      <td>1.243</td>\n",
       "      <td>0.777</td>\n",
       "      <td>0.719</td>\n",
       "      <td>0.188</td>\n",
       "      <td>0.532</td>\n",
       "      <td>Europe</td>\n",
       "    </tr>\n",
       "    <tr>\n",
       "      <th>2</th>\n",
       "      <td>3</td>\n",
       "      <td>Iceland</td>\n",
       "      <td>7.557</td>\n",
       "      <td>1.936</td>\n",
       "      <td>1.320</td>\n",
       "      <td>0.803</td>\n",
       "      <td>0.718</td>\n",
       "      <td>0.270</td>\n",
       "      <td>0.191</td>\n",
       "      <td>Europe</td>\n",
       "    </tr>\n",
       "    <tr>\n",
       "      <th>3</th>\n",
       "      <td>4</td>\n",
       "      <td>Switzerland</td>\n",
       "      <td>7.512</td>\n",
       "      <td>2.026</td>\n",
       "      <td>1.226</td>\n",
       "      <td>0.822</td>\n",
       "      <td>0.677</td>\n",
       "      <td>0.147</td>\n",
       "      <td>0.461</td>\n",
       "      <td>Europe</td>\n",
       "    </tr>\n",
       "    <tr>\n",
       "      <th>4</th>\n",
       "      <td>5</td>\n",
       "      <td>Netherlands</td>\n",
       "      <td>7.415</td>\n",
       "      <td>1.945</td>\n",
       "      <td>1.206</td>\n",
       "      <td>0.787</td>\n",
       "      <td>0.651</td>\n",
       "      <td>0.271</td>\n",
       "      <td>0.419</td>\n",
       "      <td>Europe</td>\n",
       "    </tr>\n",
       "  </tbody>\n",
       "</table>\n",
       "</div>"
      ],
      "text/plain": [
       "   rank      country  happiness_score    gdp  social_support  life_expectancy  \\\n",
       "0     1      Finland            7.821  1.892           1.258            0.775   \n",
       "1     2      Denmark            7.636  1.953           1.243            0.777   \n",
       "2     3      Iceland            7.557  1.936           1.320            0.803   \n",
       "3     4  Switzerland            7.512  2.026           1.226            0.822   \n",
       "4     5  Netherlands            7.415  1.945           1.206            0.787   \n",
       "\n",
       "   freedom  generosity  corruption continent  \n",
       "0    0.736       0.109       0.534    Europe  \n",
       "1    0.719       0.188       0.532    Europe  \n",
       "2    0.718       0.270       0.191    Europe  \n",
       "3    0.677       0.147       0.461    Europe  \n",
       "4    0.651       0.271       0.419    Europe  "
      ]
     },
     "execution_count": 2,
     "metadata": {},
     "output_type": "execute_result"
    }
   ],
   "source": [
    "happiness = pd.read_csv(\"data/world_happiness.csv\")\n",
    "happiness.head()"
   ]
  },
  {
   "cell_type": "code",
   "execution_count": 3,
   "metadata": {},
   "outputs": [
    {
     "name": "stdout",
     "output_type": "stream",
     "text": [
      "<class 'pandas.core.frame.DataFrame'>\n",
      "RangeIndex: 146 entries, 0 to 145\n",
      "Data columns (total 10 columns):\n",
      " #   Column           Non-Null Count  Dtype  \n",
      "---  ------           --------------  -----  \n",
      " 0   rank             146 non-null    int64  \n",
      " 1   country          146 non-null    object \n",
      " 2   happiness_score  146 non-null    float64\n",
      " 3   gdp              146 non-null    float64\n",
      " 4   social_support   146 non-null    float64\n",
      " 5   life_expectancy  146 non-null    float64\n",
      " 6   freedom          146 non-null    float64\n",
      " 7   generosity       146 non-null    float64\n",
      " 8   corruption       146 non-null    float64\n",
      " 9   continent        146 non-null    object \n",
      "dtypes: float64(7), int64(1), object(2)\n",
      "memory usage: 11.5+ KB\n"
     ]
    }
   ],
   "source": [
    "happiness.info()"
   ]
  },
  {
   "cell_type": "code",
   "execution_count": null,
   "metadata": {},
   "outputs": [],
   "source": []
  },
  {
   "cell_type": "markdown",
   "metadata": {},
   "source": [
    "Dimensionality reduction is most effective when there is significant redundancy in the data. By redundancy, we mean a high level of multicollinearity in the data — frequent high correlations between variables in the data.\n",
    "\n",
    "Let's look at the correlation table for the world happiness data to see if that is the case."
   ]
  },
  {
   "cell_type": "code",
   "execution_count": 4,
   "metadata": {},
   "outputs": [
    {
     "data": {
      "text/html": [
       "<div>\n",
       "<style scoped>\n",
       "    .dataframe tbody tr th:only-of-type {\n",
       "        vertical-align: middle;\n",
       "    }\n",
       "\n",
       "    .dataframe tbody tr th {\n",
       "        vertical-align: top;\n",
       "    }\n",
       "\n",
       "    .dataframe thead th {\n",
       "        text-align: right;\n",
       "    }\n",
       "</style>\n",
       "<table border=\"1\" class=\"dataframe\">\n",
       "  <thead>\n",
       "    <tr style=\"text-align: right;\">\n",
       "      <th></th>\n",
       "      <th>rank</th>\n",
       "      <th>happiness_score</th>\n",
       "      <th>gdp</th>\n",
       "      <th>social_support</th>\n",
       "      <th>life_expectancy</th>\n",
       "      <th>freedom</th>\n",
       "      <th>generosity</th>\n",
       "      <th>corruption</th>\n",
       "    </tr>\n",
       "  </thead>\n",
       "  <tbody>\n",
       "    <tr>\n",
       "      <th>rank</th>\n",
       "      <td>1.000000</td>\n",
       "      <td>-0.980856</td>\n",
       "      <td>-0.792137</td>\n",
       "      <td>-0.773773</td>\n",
       "      <td>-0.750945</td>\n",
       "      <td>-0.623040</td>\n",
       "      <td>-0.032831</td>\n",
       "      <td>-0.403199</td>\n",
       "    </tr>\n",
       "    <tr>\n",
       "      <th>happiness_score</th>\n",
       "      <td>-0.980856</td>\n",
       "      <td>1.000000</td>\n",
       "      <td>0.763677</td>\n",
       "      <td>0.777889</td>\n",
       "      <td>0.740260</td>\n",
       "      <td>0.624822</td>\n",
       "      <td>0.063785</td>\n",
       "      <td>0.416216</td>\n",
       "    </tr>\n",
       "    <tr>\n",
       "      <th>gdp</th>\n",
       "      <td>-0.792137</td>\n",
       "      <td>0.763677</td>\n",
       "      <td>1.000000</td>\n",
       "      <td>0.722421</td>\n",
       "      <td>0.815386</td>\n",
       "      <td>0.458591</td>\n",
       "      <td>-0.164472</td>\n",
       "      <td>0.377589</td>\n",
       "    </tr>\n",
       "    <tr>\n",
       "      <th>social_support</th>\n",
       "      <td>-0.773773</td>\n",
       "      <td>0.777889</td>\n",
       "      <td>0.722421</td>\n",
       "      <td>1.000000</td>\n",
       "      <td>0.666760</td>\n",
       "      <td>0.480466</td>\n",
       "      <td>-0.002339</td>\n",
       "      <td>0.223352</td>\n",
       "    </tr>\n",
       "    <tr>\n",
       "      <th>life_expectancy</th>\n",
       "      <td>-0.750945</td>\n",
       "      <td>0.740260</td>\n",
       "      <td>0.815386</td>\n",
       "      <td>0.666760</td>\n",
       "      <td>1.000000</td>\n",
       "      <td>0.433166</td>\n",
       "      <td>-0.098133</td>\n",
       "      <td>0.362626</td>\n",
       "    </tr>\n",
       "    <tr>\n",
       "      <th>freedom</th>\n",
       "      <td>-0.623040</td>\n",
       "      <td>0.624822</td>\n",
       "      <td>0.458591</td>\n",
       "      <td>0.480466</td>\n",
       "      <td>0.433166</td>\n",
       "      <td>1.000000</td>\n",
       "      <td>0.176800</td>\n",
       "      <td>0.402474</td>\n",
       "    </tr>\n",
       "    <tr>\n",
       "      <th>generosity</th>\n",
       "      <td>-0.032831</td>\n",
       "      <td>0.063785</td>\n",
       "      <td>-0.164472</td>\n",
       "      <td>-0.002339</td>\n",
       "      <td>-0.098133</td>\n",
       "      <td>0.176800</td>\n",
       "      <td>1.000000</td>\n",
       "      <td>0.096107</td>\n",
       "    </tr>\n",
       "    <tr>\n",
       "      <th>corruption</th>\n",
       "      <td>-0.403199</td>\n",
       "      <td>0.416216</td>\n",
       "      <td>0.377589</td>\n",
       "      <td>0.223352</td>\n",
       "      <td>0.362626</td>\n",
       "      <td>0.402474</td>\n",
       "      <td>0.096107</td>\n",
       "      <td>1.000000</td>\n",
       "    </tr>\n",
       "  </tbody>\n",
       "</table>\n",
       "</div>"
      ],
      "text/plain": [
       "                     rank  happiness_score       gdp  social_support  \\\n",
       "rank             1.000000        -0.980856 -0.792137       -0.773773   \n",
       "happiness_score -0.980856         1.000000  0.763677        0.777889   \n",
       "gdp             -0.792137         0.763677  1.000000        0.722421   \n",
       "social_support  -0.773773         0.777889  0.722421        1.000000   \n",
       "life_expectancy -0.750945         0.740260  0.815386        0.666760   \n",
       "freedom         -0.623040         0.624822  0.458591        0.480466   \n",
       "generosity      -0.032831         0.063785 -0.164472       -0.002339   \n",
       "corruption      -0.403199         0.416216  0.377589        0.223352   \n",
       "\n",
       "                 life_expectancy   freedom  generosity  corruption  \n",
       "rank                   -0.750945 -0.623040   -0.032831   -0.403199  \n",
       "happiness_score         0.740260  0.624822    0.063785    0.416216  \n",
       "gdp                     0.815386  0.458591   -0.164472    0.377589  \n",
       "social_support          0.666760  0.480466   -0.002339    0.223352  \n",
       "life_expectancy         1.000000  0.433166   -0.098133    0.362626  \n",
       "freedom                 0.433166  1.000000    0.176800    0.402474  \n",
       "generosity             -0.098133  0.176800    1.000000    0.096107  \n",
       "corruption              0.362626  0.402474    0.096107    1.000000  "
      ]
     },
     "execution_count": 4,
     "metadata": {},
     "output_type": "execute_result"
    }
   ],
   "source": [
    "happiness.corr()"
   ]
  },
  {
   "cell_type": "markdown",
   "metadata": {},
   "source": [
    "Do you observe high multicollinearity?"
   ]
  },
  {
   "cell_type": "code",
   "execution_count": null,
   "metadata": {},
   "outputs": [],
   "source": []
  },
  {
   "cell_type": "markdown",
   "metadata": {},
   "source": [
    "## Principal Component Analysis \n",
    "\n",
    "Principal component analysis (PCA) is the most commonly used dimensionality reduction algorithm. It works by transforming a high dimensonal dataset into a smaller one while still retaining a significant amount of the information. The principal components are the outputted variables that are a linear mixture of the original variables. This transformed data are all uncorrelated with one another, with the most valuable informational compressed into the the first few components. \n",
    "\n",
    "![](https://miro.medium.com/max/600/1*e_kBZQz2hsa7de6TxpgJqg.gif)\n",
    "Source: Towards Data Science\n",
    "\n",
    "PCA first aims to understand how the variables of the data differ from their means and if the relationship between the variables and their means varies across variables. So in order to complete this part, PCA calculates the covariance matrix which has the dimensions of N x N features. Here's the formula to calculate covariance:\n",
    "\n",
    "![](https://www.gstatic.com/education/formulas2/443397389/en/covariance_formula.svg)\n",
    "\n",
    "Next up we have to calculate the eigenvectors and eigenvalues. These are linear algebra calculations that are calculated from the covariance matrix. We use the eigenvectors and eigenvalues to calculate the principal components.\n",
    "\n",
    "The eigenvectors are defined as the directions of axes of the principal components while the eigenvalue refers to the magnitidue of the eigenvector.\n",
    "![](https://miro.medium.com/max/600/1*BpwgqgR-dVZSmIPKTaM4JQ.gif)\n",
    "\n",
    "\n",
    "PCA then computes the eigenvectors and orders them from greatest to least — this explains why the first component has the most signal.\n",
    "\n",
    "Finally PCA transforms the original data by taking the dot product of the transposed eigenvectors and the original dataset.\n"
   ]
  },
  {
   "cell_type": "code",
   "execution_count": null,
   "metadata": {},
   "outputs": [],
   "source": []
  },
  {
   "cell_type": "markdown",
   "metadata": {},
   "source": [
    "![](https://devopedia.org/images/article/139/4543.1548137789.jpg)\n",
    "\n",
    "Source: Devopedia"
   ]
  },
  {
   "cell_type": "code",
   "execution_count": null,
   "metadata": {},
   "outputs": [],
   "source": []
  },
  {
   "cell_type": "code",
   "execution_count": null,
   "metadata": {},
   "outputs": [],
   "source": []
  },
  {
   "cell_type": "markdown",
   "metadata": {},
   "source": [
    "Grab the numerical data and initialize the PCA algorithm"
   ]
  },
  {
   "cell_type": "code",
   "execution_count": 5,
   "metadata": {},
   "outputs": [],
   "source": [
    "X = happiness.select_dtypes(\"number\").drop(\"rank\", axis = 1)"
   ]
  },
  {
   "cell_type": "markdown",
   "metadata": {},
   "source": [
    "We need to scale data because PCA is sensitive to variables with higher variances/ranges. Therefore we want the algorithm working data with all similar variances to avoid that kind of bias."
   ]
  },
  {
   "cell_type": "code",
   "execution_count": 6,
   "metadata": {},
   "outputs": [
    {
     "data": {
      "text/html": [
       "<div>\n",
       "<style scoped>\n",
       "    .dataframe tbody tr th:only-of-type {\n",
       "        vertical-align: middle;\n",
       "    }\n",
       "\n",
       "    .dataframe tbody tr th {\n",
       "        vertical-align: top;\n",
       "    }\n",
       "\n",
       "    .dataframe thead th {\n",
       "        text-align: right;\n",
       "    }\n",
       "</style>\n",
       "<table border=\"1\" class=\"dataframe\">\n",
       "  <thead>\n",
       "    <tr style=\"text-align: right;\">\n",
       "      <th></th>\n",
       "      <th>happiness_score</th>\n",
       "      <th>gdp</th>\n",
       "      <th>social_support</th>\n",
       "      <th>life_expectancy</th>\n",
       "      <th>freedom</th>\n",
       "      <th>generosity</th>\n",
       "      <th>corruption</th>\n",
       "    </tr>\n",
       "  </thead>\n",
       "  <tbody>\n",
       "    <tr>\n",
       "      <th>0</th>\n",
       "      <td>2.093431</td>\n",
       "      <td>1.145968</td>\n",
       "      <td>1.261414</td>\n",
       "      <td>1.074531</td>\n",
       "      <td>1.505066</td>\n",
       "      <td>-0.465089</td>\n",
       "      <td>2.984171</td>\n",
       "    </tr>\n",
       "    <tr>\n",
       "      <th>1</th>\n",
       "      <td>1.922627</td>\n",
       "      <td>1.291131</td>\n",
       "      <td>1.207681</td>\n",
       "      <td>1.085912</td>\n",
       "      <td>1.388114</td>\n",
       "      <td>0.492316</td>\n",
       "      <td>2.968432</td>\n",
       "    </tr>\n",
       "    <tr>\n",
       "      <th>2</th>\n",
       "      <td>1.849689</td>\n",
       "      <td>1.250676</td>\n",
       "      <td>1.483508</td>\n",
       "      <td>1.233865</td>\n",
       "      <td>1.381234</td>\n",
       "      <td>1.486078</td>\n",
       "      <td>0.285018</td>\n",
       "    </tr>\n",
       "    <tr>\n",
       "      <th>3</th>\n",
       "      <td>1.808142</td>\n",
       "      <td>1.464851</td>\n",
       "      <td>1.146784</td>\n",
       "      <td>1.341984</td>\n",
       "      <td>1.099173</td>\n",
       "      <td>-0.004565</td>\n",
       "      <td>2.409715</td>\n",
       "    </tr>\n",
       "    <tr>\n",
       "      <th>4</th>\n",
       "      <td>1.718586</td>\n",
       "      <td>1.272094</td>\n",
       "      <td>1.075141</td>\n",
       "      <td>1.142817</td>\n",
       "      <td>0.920305</td>\n",
       "      <td>1.498197</td>\n",
       "      <td>2.079207</td>\n",
       "    </tr>\n",
       "  </tbody>\n",
       "</table>\n",
       "</div>"
      ],
      "text/plain": [
       "   happiness_score       gdp  social_support  life_expectancy   freedom  \\\n",
       "0         2.093431  1.145968        1.261414         1.074531  1.505066   \n",
       "1         1.922627  1.291131        1.207681         1.085912  1.388114   \n",
       "2         1.849689  1.250676        1.483508         1.233865  1.381234   \n",
       "3         1.808142  1.464851        1.146784         1.341984  1.099173   \n",
       "4         1.718586  1.272094        1.075141         1.142817  0.920305   \n",
       "\n",
       "   generosity  corruption  \n",
       "0   -0.465089    2.984171  \n",
       "1    0.492316    2.968432  \n",
       "2    1.486078    0.285018  \n",
       "3   -0.004565    2.409715  \n",
       "4    1.498197    2.079207  "
      ]
     },
     "execution_count": 6,
     "metadata": {},
     "output_type": "execute_result"
    }
   ],
   "source": [
    "scale = StandardScaler()\n",
    "Xs = scale.fit_transform(X)\n",
    "Xs = pd.DataFrame(Xs, columns=X.columns)\n",
    "Xs.head()"
   ]
  },
  {
   "cell_type": "code",
   "execution_count": null,
   "metadata": {},
   "outputs": [],
   "source": []
  },
  {
   "cell_type": "code",
   "execution_count": 7,
   "metadata": {},
   "outputs": [
    {
     "data": {
      "text/plain": [
       "array([[-3.84898152,  0.60809671],\n",
       "       [-3.7708422 ,  1.30721183],\n",
       "       [-3.17810199,  1.20410592],\n",
       "       [-3.6304752 ,  0.53104787],\n",
       "       [-3.23043835,  1.67763432]])"
      ]
     },
     "execution_count": 7,
     "metadata": {},
     "output_type": "execute_result"
    }
   ],
   "source": [
    "#Intialize PCA model and set n_components = 2\n",
    "pca = PCA(n_components=2)\n",
    "\n",
    "#Fit and transforms\n",
    "Xp = pca.fit_transform(Xs)\n",
    "Xp[:5, :]"
   ]
  },
  {
   "cell_type": "markdown",
   "metadata": {},
   "source": [
    "Picking a value for `n_components` is not required. We can apply pca to our data without setting a value for `n_components` and it will return a dataset with the same dimensions."
   ]
  },
  {
   "cell_type": "code",
   "execution_count": 8,
   "metadata": {},
   "outputs": [
    {
     "data": {
      "text/plain": [
       "array([[-3.84898152,  0.60809671,  1.93490153, -0.16679461,  0.79600574,\n",
       "         0.48341062, -0.06977181],\n",
       "       [-3.7708422 ,  1.30721183,  1.59029752,  0.32794393,  0.60051768,\n",
       "         0.19562056, -0.13602136],\n",
       "       [-3.17810199,  1.20410592, -1.12797516,  0.14743245, -0.10591391,\n",
       "         0.11150016, -0.19574114],\n",
       "       [-3.6304752 ,  0.53104787,  1.33792014,  0.35149583,  0.33839789,\n",
       "         0.19589715, -0.13154452],\n",
       "       [-3.23043835,  1.67763432,  0.52198095,  0.906662  ,  0.20466777,\n",
       "         0.0841653 , -0.23390804]])"
      ]
     },
     "execution_count": 8,
     "metadata": {},
     "output_type": "execute_result"
    }
   ],
   "source": [
    "pca = PCA()\n",
    "Xp = pca.fit_transform(Xs)\n",
    "Xp[:5, :]"
   ]
  },
  {
   "cell_type": "code",
   "execution_count": 9,
   "metadata": {},
   "outputs": [
    {
     "data": {
      "text/plain": [
       "(146, 7)"
      ]
     },
     "execution_count": 9,
     "metadata": {},
     "output_type": "execute_result"
    }
   ],
   "source": [
    "#Shape\n",
    "Xp.shape"
   ]
  },
  {
   "cell_type": "markdown",
   "metadata": {},
   "source": [
    "To get the first two components, select the first two columns."
   ]
  },
  {
   "cell_type": "code",
   "execution_count": 10,
   "metadata": {},
   "outputs": [
    {
     "data": {
      "text/plain": [
       "array([[-3.84898152,  0.60809671],\n",
       "       [-3.7708422 ,  1.30721183],\n",
       "       [-3.17810199,  1.20410592],\n",
       "       [-3.6304752 ,  0.53104787],\n",
       "       [-3.23043835,  1.67763432]])"
      ]
     },
     "execution_count": 10,
     "metadata": {},
     "output_type": "execute_result"
    }
   ],
   "source": [
    "#Overwrite Xp with just its first two columns.\n",
    "Xp = Xp[:, :2]\n",
    "Xp[:5, :]"
   ]
  },
  {
   "cell_type": "code",
   "execution_count": 11,
   "metadata": {},
   "outputs": [],
   "source": [
    "#Put pca data into dataframe\n",
    "Xp = pd.DataFrame(Xp, columns=[\"comp1\", \"comp2\"])"
   ]
  },
  {
   "cell_type": "markdown",
   "metadata": {},
   "source": [
    "The great thing about dimensionality reduction is that we can visualize highly dimensional data in 2d or 3d."
   ]
  },
  {
   "cell_type": "code",
   "execution_count": 12,
   "metadata": {},
   "outputs": [
    {
     "data": {
      "image/png": "[encoded data removed]",
      "text/plain": [
       "<Figure size 792x576 with 1 Axes>"
      ]
     },
     "metadata": {},
     "output_type": "display_data"
    }
   ],
   "source": [
    "#plot the pca data with a 2d scatter plot\n",
    "plt.figure(figsize=(11, 8))\n",
    "plt.scatter(x=Xp[\"comp1\"], y = Xp[\"comp2\"], s=80)\n",
    "plt.xlabel(\"Component 1\")\n",
    "plt.ylabel(\"Component 2\");"
   ]
  },
  {
   "cell_type": "markdown",
   "metadata": {},
   "source": [
    "Let's add continent label to chart."
   ]
  },
  {
   "cell_type": "code",
   "execution_count": 14,
   "metadata": {},
   "outputs": [
    {
     "data": {
      "image/png": "[encoded data removed]",
      "text/plain": [
       "<Figure size 792x576 with 1 Axes>"
      ]
     },
     "metadata": {},
     "output_type": "display_data"
    }
   ],
   "source": [
    "#Add continent to the pca dataset\n",
    "Xp[\"continent\"] = happiness[\"continent\"].tolist()\n",
    "\n",
    "plt.figure(figsize=(11, 8))\n",
    "for continent in Xp.continent.unique():\n",
    "    data = Xp[Xp.continent == continent]\n",
    "    \n",
    "#     data.plot.scatter(x = \"comp1\", y = \"comp2\", label = continent)\n",
    "    plt.scatter(x=data[\"comp1\"], y = data[\"comp2\"], label = continent, s=80)\n",
    "    plt.xlabel(\"Component 1\")\n",
    "    plt.ylabel(\"Component 2\")\n",
    "    plt.legend(fontsize = \"large\")\n",
    "    "
   ]
  },
  {
   "cell_type": "markdown",
   "metadata": {},
   "source": [
    "**Do you see any patterns or trends here?**"
   ]
  },
  {
   "cell_type": "code",
   "execution_count": null,
   "metadata": {},
   "outputs": [],
   "source": []
  },
  {
   "cell_type": "markdown",
   "metadata": {},
   "source": [
    "### Explained variance\n",
    "\n",
    "Explained variance informs us how much of the original signal/identity each component possesses from the original dataset. The `explained_variance_ratio_` is normalized version of this variable."
   ]
  },
  {
   "cell_type": "code",
   "execution_count": 15,
   "metadata": {},
   "outputs": [
    {
     "data": {
      "text/plain": [
       "array([0.549, 0.17 , 0.113, 0.075, 0.044, 0.025, 0.024])"
      ]
     },
     "execution_count": 15,
     "metadata": {},
     "output_type": "execute_result"
    }
   ],
   "source": [
    "#Explained variance ratio of each component\n",
    "exp_var_ratio = pca.explained_variance_ratio_.round(3)\n",
    "exp_var_ratio"
   ]
  },
  {
   "cell_type": "code",
   "execution_count": 16,
   "metadata": {},
   "outputs": [
    {
     "data": {
      "text/plain": [
       "array([0.549, 0.719, 0.832, 0.907, 0.951, 0.976, 1.   ])"
      ]
     },
     "execution_count": 16,
     "metadata": {},
     "output_type": "execute_result"
    }
   ],
   "source": [
    "#The cumulative sum of the explained variance ratio of each component\n",
    "exp_var_ratio_cs = exp_var_ratio.cumsum()\n",
    "exp_var_ratio_cs"
   ]
  },
  {
   "cell_type": "markdown",
   "metadata": {},
   "source": [
    "The first two components (a quarter of the original dimensions) net almost two-thirds of the data's explained variance.\n",
    "\n",
    "Cutting the number of dimensions in half leaves us with 87.7% of the signal."
   ]
  },
  {
   "cell_type": "code",
   "execution_count": 17,
   "metadata": {},
   "outputs": [
    {
     "data": {
      "text/plain": [
       "''"
      ]
     },
     "execution_count": 17,
     "metadata": {},
     "output_type": "execute_result"
    },
    {
     "data": {
      "image/png": "[encoded data removed]",
      "text/plain": [
       "<Figure size 792x576 with 1 Axes>"
      ]
     },
     "metadata": {},
     "output_type": "display_data"
    }
   ],
   "source": [
    "#Plot\n",
    "plt.figure(figsize=(11, 8))\n",
    "plt.bar(x=range(1, exp_var_ratio.shape[0] +1), height=exp_var_ratio, color = \"b\")\n",
    "plt.plot(range(1, exp_var_ratio.shape[0] +1), exp_var_ratio_cs, c = \"red\", marker = \"*\")\n",
    "plt.xlabel(\"N Components\", fontsize = 16)\n",
    "plt.ylabel(\"Explained Variance Ratio\",fontsize = 16)\n",
    "plt.xticks(fontsize=14)\n",
    "plt.yticks(fontsize=14)\n",
    ";"
   ]
  },
  {
   "cell_type": "code",
   "execution_count": null,
   "metadata": {},
   "outputs": [],
   "source": []
  },
  {
   "cell_type": "code",
   "execution_count": null,
   "metadata": {},
   "outputs": [],
   "source": []
  },
  {
   "cell_type": "markdown",
   "metadata": {},
   "source": [
    "### Eigenvectors\n",
    "\n",
    "[Sklearn](https://scikit-learn.org/stable/modules/generated/sklearn.decomposition.PCA.html): \"Principal axes in feature space, representing the directions of maximum variance in the data. Equivalently, the right singular vectors of the centered input data, parallel to its eigenvectors. The components are sorted by `explained_variance_`\"\n",
    "\n",
    "The `components_` attribute of PCA object is where the eigenvectors are stored. It is a matrix whose dimensions are equal to the number of components specificed by number of original dimensions\n",
    "\n"
   ]
  },
  {
   "cell_type": "code",
   "execution_count": 18,
   "metadata": {},
   "outputs": [
    {
     "data": {
      "text/plain": [
       "array([[-4.69925943e-01, -4.53383467e-01, -4.27465167e-01,\n",
       "        -4.40323873e-01, -3.53405508e-01,  1.81276547e-04,\n",
       "        -2.68525551e-01],\n",
       "       [ 4.65809795e-02, -2.33410966e-01, -1.02130012e-01,\n",
       "        -1.88375645e-01,  3.51448077e-01,  8.18651944e-01,\n",
       "         3.22066537e-01],\n",
       "       [-1.29612903e-01, -3.56893345e-03, -3.70522833e-01,\n",
       "        -2.85014557e-02,  2.67965308e-02, -3.85992084e-01,\n",
       "         8.33894665e-01],\n",
       "       [-1.81447648e-02,  1.84699031e-01,  3.90745351e-02,\n",
       "         3.05351300e-01, -8.16366647e-01,  3.88155721e-01,\n",
       "         2.31670959e-01],\n",
       "       [ 1.62779560e-01, -2.04237325e-01,  6.72859633e-01,\n",
       "        -5.90806185e-01, -2.24967161e-01, -1.22703625e-01,\n",
       "         2.53636536e-01],\n",
       "       [ 7.04562289e-01, -6.09461411e-01, -2.17961742e-01,\n",
       "         2.22259054e-01, -1.44634492e-01, -1.15545683e-01,\n",
       "        -3.11836454e-02],\n",
       "       [-4.86791412e-01, -5.40999249e-01,  4.09611518e-01,\n",
       "         5.27377207e-01,  1.13520394e-01, -4.17998129e-02,\n",
       "         9.90530983e-02]])"
      ]
     },
     "execution_count": 18,
     "metadata": {},
     "output_type": "execute_result"
    }
   ],
   "source": [
    "pca.components_"
   ]
  },
  {
   "cell_type": "code",
   "execution_count": 19,
   "metadata": {},
   "outputs": [
    {
     "data": {
      "text/plain": [
       "(7, 7)"
      ]
     },
     "execution_count": 19,
     "metadata": {},
     "output_type": "execute_result"
    }
   ],
   "source": [
    "pca.components_.shape"
   ]
  },
  {
   "cell_type": "code",
   "execution_count": 20,
   "metadata": {},
   "outputs": [
    {
     "data": {
      "text/plain": [
       "(146, 7)"
      ]
     },
     "execution_count": 20,
     "metadata": {},
     "output_type": "execute_result"
    }
   ],
   "source": [
    "X.shape"
   ]
  },
  {
   "cell_type": "markdown",
   "metadata": {},
   "source": [
    "In the following chart we will visualize the each feature's first and second eigenvector on a two dimensional plot."
   ]
  },
  {
   "cell_type": "code",
   "execution_count": 27,
   "metadata": {},
   "outputs": [
    {
     "data": {
      "image/png": "[encoded data removed]",
      "text/plain": [
       "<Figure size 864x792 with 1 Axes>"
      ]
     },
     "metadata": {},
     "output_type": "display_data"
    }
   ],
   "source": [
    "plt.figure(figsize = (12, 11))\n",
    "plt.grid(False)\n",
    "cols = X.columns\n",
    "for i in range(len(cols)):\n",
    "    x = pca.components_[i][0]\n",
    "    y = pca.components_[i][1]\n",
    "    plt.arrow(0, 0, x, y, color = \"black\", width = 0.005, alpha = .4)\n",
    "    plt.annotate(cols[i], xy = (x, y), fontsize = 12)"
   ]
  },
  {
   "cell_type": "code",
   "execution_count": null,
   "metadata": {},
   "outputs": [],
   "source": []
  },
  {
   "cell_type": "markdown",
   "metadata": {},
   "source": [
    "### ML with PCA\n",
    "\n",
    "One thing that also makes dimensionality reduction useful is that we can train machine learning models on dimensionality reduced data and achieve a similar performance.\n",
    "\n",
    "Let's analyze the relationship between principal components and the performance of a machine learning model. \n",
    "\n",
    "The plan\n",
    "1. Train a machine learning model on the untransformed data — this is our baseline. Observe accuracy score.\n",
    "2. Train a machine learning on the PCA transformed data for every value between 1 and the number of dimensions.\n",
    "3. Plot the number of components used to train a model versus their performance in terms of accuracy and time elapsed in training the model."
   ]
  },
  {
   "cell_type": "code",
   "execution_count": 32,
   "metadata": {},
   "outputs": [
    {
     "data": {
      "text/html": [
       "<div>\n",
       "<style scoped>\n",
       "    .dataframe tbody tr th:only-of-type {\n",
       "        vertical-align: middle;\n",
       "    }\n",
       "\n",
       "    .dataframe tbody tr th {\n",
       "        vertical-align: top;\n",
       "    }\n",
       "\n",
       "    .dataframe thead th {\n",
       "        text-align: right;\n",
       "    }\n",
       "</style>\n",
       "<table border=\"1\" class=\"dataframe\">\n",
       "  <thead>\n",
       "    <tr style=\"text-align: right;\">\n",
       "      <th></th>\n",
       "      <th>carat</th>\n",
       "      <th>cut</th>\n",
       "      <th>color</th>\n",
       "      <th>clarity</th>\n",
       "      <th>depth</th>\n",
       "      <th>table</th>\n",
       "      <th>price</th>\n",
       "      <th>x</th>\n",
       "      <th>y</th>\n",
       "      <th>z</th>\n",
       "    </tr>\n",
       "  </thead>\n",
       "  <tbody>\n",
       "    <tr>\n",
       "      <th>0</th>\n",
       "      <td>0.40</td>\n",
       "      <td>Very Good</td>\n",
       "      <td>H</td>\n",
       "      <td>VS2</td>\n",
       "      <td>62.1</td>\n",
       "      <td>56.0</td>\n",
       "      <td>746</td>\n",
       "      <td>4.72</td>\n",
       "      <td>4.75</td>\n",
       "      <td>2.94</td>\n",
       "    </tr>\n",
       "    <tr>\n",
       "      <th>1</th>\n",
       "      <td>0.71</td>\n",
       "      <td>Good</td>\n",
       "      <td>E</td>\n",
       "      <td>SI2</td>\n",
       "      <td>57.8</td>\n",
       "      <td>60.0</td>\n",
       "      <td>2215</td>\n",
       "      <td>5.86</td>\n",
       "      <td>5.83</td>\n",
       "      <td>3.38</td>\n",
       "    </tr>\n",
       "    <tr>\n",
       "      <th>2</th>\n",
       "      <td>0.33</td>\n",
       "      <td>Premium</td>\n",
       "      <td>G</td>\n",
       "      <td>VS1</td>\n",
       "      <td>61.9</td>\n",
       "      <td>58.0</td>\n",
       "      <td>666</td>\n",
       "      <td>4.43</td>\n",
       "      <td>4.46</td>\n",
       "      <td>2.75</td>\n",
       "    </tr>\n",
       "    <tr>\n",
       "      <th>3</th>\n",
       "      <td>1.70</td>\n",
       "      <td>Premium</td>\n",
       "      <td>G</td>\n",
       "      <td>SI2</td>\n",
       "      <td>61.9</td>\n",
       "      <td>58.0</td>\n",
       "      <td>10472</td>\n",
       "      <td>7.61</td>\n",
       "      <td>7.57</td>\n",
       "      <td>4.70</td>\n",
       "    </tr>\n",
       "    <tr>\n",
       "      <th>4</th>\n",
       "      <td>0.77</td>\n",
       "      <td>Ideal</td>\n",
       "      <td>E</td>\n",
       "      <td>SI1</td>\n",
       "      <td>61.6</td>\n",
       "      <td>57.0</td>\n",
       "      <td>3189</td>\n",
       "      <td>5.87</td>\n",
       "      <td>5.91</td>\n",
       "      <td>3.63</td>\n",
       "    </tr>\n",
       "  </tbody>\n",
       "</table>\n",
       "</div>"
      ],
      "text/plain": [
       "   carat        cut color clarity  depth  table  price     x     y     z\n",
       "0   0.40  Very Good     H     VS2   62.1   56.0    746  4.72  4.75  2.94\n",
       "1   0.71       Good     E     SI2   57.8   60.0   2215  5.86  5.83  3.38\n",
       "2   0.33    Premium     G     VS1   61.9   58.0    666  4.43  4.46  2.75\n",
       "3   1.70    Premium     G     SI2   61.9   58.0  10472  7.61  7.57  4.70\n",
       "4   0.77      Ideal     E     SI1   61.6   57.0   3189  5.87  5.91  3.63"
      ]
     },
     "execution_count": 32,
     "metadata": {},
     "output_type": "execute_result"
    }
   ],
   "source": [
    "#Load in diamonds data. We're gonna take a random sample of 15k rows to save time.\n",
    "\n",
    "diamonds = pd.read_csv(\"data/diamonds.csv\", index_col=[0]).sample(n=15000, random_state = 2).reset_index(drop=True)\n",
    "diamonds.head()"
   ]
  },
  {
   "cell_type": "code",
   "execution_count": null,
   "metadata": {},
   "outputs": [],
   "source": []
  },
  {
   "cell_type": "markdown",
   "metadata": {},
   "source": [
    "#### Diamond Data Dictionary\n",
    "**price:** price in US dollars (\\$326--\\$18,823)\n",
    "\n",
    "**carat:** weight of the diamond (0.2--5.01)\n",
    "\n",
    "**cut:** quality of the cut (Fair, Good, Very Good, Premium, Ideal)\n",
    "\n",
    "**color:** diamond colour, from J (worst) to D (best)\n",
    "\n",
    "**clarity:** a measurement of how clear the diamond is (I1 (worst), SI2, SI1, VS2, VS1, VVS2, VVS1, IF (best))\n",
    "\n",
    "**x** length in mm (0--10.74)\n",
    "\n",
    "**y** width in mm (0--58.9)\n",
    "\n",
    "**z** depth in mm (0--31.8)\n",
    "\n",
    "**depth** total depth percentage = z / mean(x, y) = 2 * z / (x + y) (43--79)\n",
    "\n",
    "**table** width of top of diamond relative to widest point (43--95)\n"
   ]
  },
  {
   "cell_type": "code",
   "execution_count": 33,
   "metadata": {},
   "outputs": [
    {
     "name": "stdout",
     "output_type": "stream",
     "text": [
      "<class 'pandas.core.frame.DataFrame'>\n",
      "RangeIndex: 15000 entries, 0 to 14999\n",
      "Data columns (total 10 columns):\n",
      " #   Column   Non-Null Count  Dtype  \n",
      "---  ------   --------------  -----  \n",
      " 0   carat    15000 non-null  float64\n",
      " 1   cut      15000 non-null  object \n",
      " 2   color    15000 non-null  object \n",
      " 3   clarity  15000 non-null  object \n",
      " 4   depth    15000 non-null  float64\n",
      " 5   table    15000 non-null  float64\n",
      " 6   price    15000 non-null  int64  \n",
      " 7   x        15000 non-null  float64\n",
      " 8   y        15000 non-null  float64\n",
      " 9   z        15000 non-null  float64\n",
      "dtypes: float64(6), int64(1), object(3)\n",
      "memory usage: 1.1+ MB\n"
     ]
    }
   ],
   "source": [
    "diamonds.info()"
   ]
  },
  {
   "cell_type": "code",
   "execution_count": 34,
   "metadata": {},
   "outputs": [],
   "source": [
    "#Imports \n",
    "from time import time\n",
    "from sklearn.model_selection import  cross_val_score, KFold\n",
    "from sklearn.linear_model import LogisticRegression\n",
    "\n",
    "#grab X and y\n",
    "\n",
    "X = diamonds.drop(\"cut\", axis = 1)\n",
    "y = diamonds[\"cut\"]\n"
   ]
  },
  {
   "cell_type": "code",
   "execution_count": 35,
   "metadata": {},
   "outputs": [
    {
     "data": {
      "text/html": [
       "<div>\n",
       "<style scoped>\n",
       "    .dataframe tbody tr th:only-of-type {\n",
       "        vertical-align: middle;\n",
       "    }\n",
       "\n",
       "    .dataframe tbody tr th {\n",
       "        vertical-align: top;\n",
       "    }\n",
       "\n",
       "    .dataframe thead th {\n",
       "        text-align: right;\n",
       "    }\n",
       "</style>\n",
       "<table border=\"1\" class=\"dataframe\">\n",
       "  <thead>\n",
       "    <tr style=\"text-align: right;\">\n",
       "      <th></th>\n",
       "      <th>carat</th>\n",
       "      <th>depth</th>\n",
       "      <th>table</th>\n",
       "      <th>price</th>\n",
       "      <th>x</th>\n",
       "      <th>y</th>\n",
       "      <th>z</th>\n",
       "    </tr>\n",
       "  </thead>\n",
       "  <tbody>\n",
       "    <tr>\n",
       "      <th>0</th>\n",
       "      <td>0.40</td>\n",
       "      <td>62.1</td>\n",
       "      <td>56.0</td>\n",
       "      <td>746</td>\n",
       "      <td>4.72</td>\n",
       "      <td>4.75</td>\n",
       "      <td>2.94</td>\n",
       "    </tr>\n",
       "    <tr>\n",
       "      <th>1</th>\n",
       "      <td>0.71</td>\n",
       "      <td>57.8</td>\n",
       "      <td>60.0</td>\n",
       "      <td>2215</td>\n",
       "      <td>5.86</td>\n",
       "      <td>5.83</td>\n",
       "      <td>3.38</td>\n",
       "    </tr>\n",
       "    <tr>\n",
       "      <th>2</th>\n",
       "      <td>0.33</td>\n",
       "      <td>61.9</td>\n",
       "      <td>58.0</td>\n",
       "      <td>666</td>\n",
       "      <td>4.43</td>\n",
       "      <td>4.46</td>\n",
       "      <td>2.75</td>\n",
       "    </tr>\n",
       "    <tr>\n",
       "      <th>3</th>\n",
       "      <td>1.70</td>\n",
       "      <td>61.9</td>\n",
       "      <td>58.0</td>\n",
       "      <td>10472</td>\n",
       "      <td>7.61</td>\n",
       "      <td>7.57</td>\n",
       "      <td>4.70</td>\n",
       "    </tr>\n",
       "    <tr>\n",
       "      <th>4</th>\n",
       "      <td>0.77</td>\n",
       "      <td>61.6</td>\n",
       "      <td>57.0</td>\n",
       "      <td>3189</td>\n",
       "      <td>5.87</td>\n",
       "      <td>5.91</td>\n",
       "      <td>3.63</td>\n",
       "    </tr>\n",
       "  </tbody>\n",
       "</table>\n",
       "</div>"
      ],
      "text/plain": [
       "   carat  depth  table  price     x     y     z\n",
       "0   0.40   62.1   56.0    746  4.72  4.75  2.94\n",
       "1   0.71   57.8   60.0   2215  5.86  5.83  3.38\n",
       "2   0.33   61.9   58.0    666  4.43  4.46  2.75\n",
       "3   1.70   61.9   58.0  10472  7.61  7.57  4.70\n",
       "4   0.77   61.6   57.0   3189  5.87  5.91  3.63"
      ]
     },
     "execution_count": 35,
     "metadata": {},
     "output_type": "execute_result"
    }
   ],
   "source": [
    "#To keep things simple let's use just numerical features\n",
    "\n",
    "X = X.select_dtypes(\"number\")\n",
    "X.head()"
   ]
  },
  {
   "cell_type": "code",
   "execution_count": 36,
   "metadata": {},
   "outputs": [
    {
     "data": {
      "text/plain": [
       "(15000, 7)"
      ]
     },
     "execution_count": 36,
     "metadata": {},
     "output_type": "execute_result"
    }
   ],
   "source": [
    "X.shape"
   ]
  },
  {
   "cell_type": "markdown",
   "metadata": {},
   "source": [
    "There are seven dimensions with which we're starting from."
   ]
  },
  {
   "cell_type": "code",
   "execution_count": 37,
   "metadata": {},
   "outputs": [],
   "source": [
    "#Scale the data\n",
    "\n",
    "diamonds_scaler = StandardScaler()\n",
    "Xs = diamonds_scaler.fit_transform(X)"
   ]
  },
  {
   "cell_type": "markdown",
   "metadata": {},
   "source": [
    "Establish the baseline scores. We'll be deriving the cross-validated accuracy score for our non-PCA datasets and we'll observe the time taken to train that model."
   ]
  },
  {
   "cell_type": "code",
   "execution_count": null,
   "metadata": {},
   "outputs": [],
   "source": []
  },
  {
   "cell_type": "code",
   "execution_count": 38,
   "metadata": {},
   "outputs": [
    {
     "name": "stdout",
     "output_type": "stream",
     "text": [
      "The baseline model achieved a 0.656 accuracy and took 3.268 seconds to complete\n"
     ]
    }
   ],
   "source": [
    "#Initialize k-fold with 5 splits\n",
    "kf = KFold(n_splits=5)\n",
    "#Intialize model\n",
    "lr = LogisticRegression(random_state=1, max_iter = 300)\n",
    "#Intialize time object\n",
    "start = time()\n",
    "#Run cross validation\n",
    "baseline_score = cross_val_score(lr, Xs, y, cv=kf, scoring = \"accuracy\").mean().round(3)\n",
    "end = time()\n",
    "baseline_elapsed = round(end-start, 3)\n",
    "\n",
    "print(\"The baseline model achieved a {} accuracy and took {} seconds to complete\".format(baseline_score, baseline_elapsed))"
   ]
  },
  {
   "cell_type": "markdown",
   "metadata": {},
   "source": [
    "Now we apply PCA to our data and train a model for a range of components between 1 and the number of dimensions of our data. We collect the cross-validated accuracy scores and then plot them."
   ]
  },
  {
   "cell_type": "code",
   "execution_count": 39,
   "metadata": {},
   "outputs": [],
   "source": [
    "#Intialize PCA model\n",
    "pca = PCA()\n",
    "\n",
    "#Transform data\n",
    "Xpca = pca.fit_transform(Xs)\n",
    "\n",
    "acc_scores = []\n",
    "\n",
    "times = []\n",
    "\n",
    "components_range = np.arange(1, Xs.shape[1] + 1)\n",
    "\n",
    "for comp in components_range:\n",
    "    #Slice the columns of the Xpca matrix using comp\n",
    "    pca_features = Xpca[:, :comp]\n",
    "    \n",
    "    #cross-validate\n",
    "    start = time()\n",
    "    cv_mean = cross_val_score(lr, pca_features, y, cv=kf, scoring = \"accuracy\").mean()\n",
    "    end = time()\n",
    "    elapsed = end - start\n",
    "    \n",
    "    acc_scores.append(cv_mean)\n",
    "    times.append(elapsed)\n",
    "    \n",
    "    "
   ]
  },
  {
   "cell_type": "code",
   "execution_count": 41,
   "metadata": {},
   "outputs": [
    {
     "data": {
      "image/png": "[encoded data removed]",
      "text/plain": [
       "<Figure size 1224x576 with 2 Axes>"
      ]
     },
     "metadata": {},
     "output_type": "display_data"
    }
   ],
   "source": [
    "#Plotting\n",
    "fig, (ax1, ax2) = plt.subplots(nrows=1, ncols=2, figsize = (17, 8))\n",
    "\n",
    "fig.tight_layout(pad = 3)\n",
    "ax1.bar(components_range, acc_scores)\n",
    "ax1.set_title(\"PCA Accuracy Scores\", fontsize= 20)\n",
    "ax1.set_xlabel(\"N Components\", fontsize = 15)\n",
    "ax1.set_ylabel(\"CV Accuracy\", fontsize = 15)\n",
    "ax1.hlines(y = baseline_score, xmin = components_range.min(), xmax = components_range.max(),\n",
    "          colors = \"black\", linestyles = \"dashed\")\n",
    "ax1.annotate(text = 'Baseline Accuracy', xy = (1, baseline_score*1.05),size = 14)\n",
    "ax1.set_ylim(bottom=0, top = baseline_score*1.2)\n",
    "ax1.grid(False)\n",
    "\n",
    "\n",
    "\n",
    "ax2.set_title(\"PCA Times\", fontsize= 20)\n",
    "ax2.bar(components_range, times, color = \"#1D8A99\")\n",
    "ax2.set_xlabel(\"N Components\", fontsize = 15)\n",
    "ax2.set_ylabel(\"Seconds Elapsed\", fontsize = 15)\n",
    "ax2.hlines(y = baseline_elapsed, xmin = components_range.min(), xmax = components_range.max(),\n",
    "          colors = \"black\", linestyles = \"dashed\")\n",
    "ax2.annotate(text = 'Baseline Time Elapsed', xy = (1, baseline_elapsed*1.05),size = 14)\n",
    "ax2.set_ylim(bottom=0, top = baseline_elapsed*1.2)\n",
    "ax2.grid(False);"
   ]
  },
  {
   "cell_type": "code",
   "execution_count": null,
   "metadata": {},
   "outputs": [],
   "source": []
  },
  {
   "cell_type": "code",
   "execution_count": null,
   "metadata": {},
   "outputs": [],
   "source": []
  },
  {
   "cell_type": "markdown",
   "metadata": {},
   "source": [
    "**What do these two charts tell us about the tell timing-vs-performance tradeoff when we train a model on PCA components**"
   ]
  },
  {
   "cell_type": "code",
   "execution_count": null,
   "metadata": {},
   "outputs": [],
   "source": []
  },
  {
   "cell_type": "markdown",
   "metadata": {},
   "source": [
    "## t-SNE\n",
    "\n",
    "![](https://tse2.mm.bing.net/th?id=OIP.OvotzpNWbWE8wZht7Pw3_QHaGF&w=690&c=7&pid=Api&p=0)\n",
    "\n",
    "t-SNE is another popular dimensionality reduction algorithm that is really popular when visualizing high-dimensional plots into a 2 or 3 d space. What gives it an advantage over PCA is that it's more suitable for non-linear data.\n",
    "\n",
    "t-SNE works by producing a joint probability distribution that effectively measures correlations between data. The basis for this distribution comes from calculating the euclidean distance between every datapoint pair, the smaller the distance means the higher probability that two points are similar.\n",
    "\n",
    "Next t-SNE initializes the output dimensions with random data and through a process to similar to gradient descent continously transforms the random so that its joint probability distribution is as similar possible to that of the original data."
   ]
  },
  {
   "cell_type": "markdown",
   "metadata": {},
   "source": [
    "### Coding t-SNE\n",
    "\n",
    "The most important parameter in t-SNE is perplexity whic is used to set the number of neighbors that are used in calculating the joint distributions mentioned previously. The following image shows four differents of t-SNE applied to the same dataset but with varying values for its perplexity parameter.\n",
    "\n",
    "![](https://tse2.mm.bing.net/th?id=OIP.C_e2LzgeM_TC7LcC15U_QQHaGj&w=690&c=7&pid=Api&p=0)\n",
    "\n",
    "\n",
    "For more how t-SNE works and how parameters impact its transformation check out [this excellent tutorial](https://distill.pub/2016/misread-tsne/)."
   ]
  },
  {
   "cell_type": "code",
   "execution_count": null,
   "metadata": {},
   "outputs": [],
   "source": []
  },
  {
   "cell_type": "markdown",
   "metadata": {},
   "source": [
    "Before we use t-SNE, let's all first install the [ploty-express plotting](https://plotly.com/python/plotly-express/) package which will let us create interactive visualizations.\n",
    "\n",
    "If you do not have plotly-express installed, run the following command."
   ]
  },
  {
   "cell_type": "code",
   "execution_count": 43,
   "metadata": {},
   "outputs": [],
   "source": [
    "#!pip install plotly-express"
   ]
  },
  {
   "cell_type": "markdown",
   "metadata": {},
   "source": [
    "Now let's apply t-SNE to the world happiness data."
   ]
  },
  {
   "cell_type": "code",
   "execution_count": 48,
   "metadata": {},
   "outputs": [
    {
     "data": {
      "text/html": [
       "<div>\n",
       "<style scoped>\n",
       "    .dataframe tbody tr th:only-of-type {\n",
       "        vertical-align: middle;\n",
       "    }\n",
       "\n",
       "    .dataframe tbody tr th {\n",
       "        vertical-align: top;\n",
       "    }\n",
       "\n",
       "    .dataframe thead th {\n",
       "        text-align: right;\n",
       "    }\n",
       "</style>\n",
       "<table border=\"1\" class=\"dataframe\">\n",
       "  <thead>\n",
       "    <tr style=\"text-align: right;\">\n",
       "      <th></th>\n",
       "      <th>happiness_score</th>\n",
       "      <th>gdp</th>\n",
       "      <th>social_support</th>\n",
       "      <th>life_expectancy</th>\n",
       "      <th>freedom</th>\n",
       "      <th>generosity</th>\n",
       "      <th>corruption</th>\n",
       "    </tr>\n",
       "  </thead>\n",
       "  <tbody>\n",
       "    <tr>\n",
       "      <th>0</th>\n",
       "      <td>7.821</td>\n",
       "      <td>1.892</td>\n",
       "      <td>1.258</td>\n",
       "      <td>0.775</td>\n",
       "      <td>0.736</td>\n",
       "      <td>0.109</td>\n",
       "      <td>0.534</td>\n",
       "    </tr>\n",
       "    <tr>\n",
       "      <th>1</th>\n",
       "      <td>7.636</td>\n",
       "      <td>1.953</td>\n",
       "      <td>1.243</td>\n",
       "      <td>0.777</td>\n",
       "      <td>0.719</td>\n",
       "      <td>0.188</td>\n",
       "      <td>0.532</td>\n",
       "    </tr>\n",
       "    <tr>\n",
       "      <th>2</th>\n",
       "      <td>7.557</td>\n",
       "      <td>1.936</td>\n",
       "      <td>1.320</td>\n",
       "      <td>0.803</td>\n",
       "      <td>0.718</td>\n",
       "      <td>0.270</td>\n",
       "      <td>0.191</td>\n",
       "    </tr>\n",
       "    <tr>\n",
       "      <th>3</th>\n",
       "      <td>7.512</td>\n",
       "      <td>2.026</td>\n",
       "      <td>1.226</td>\n",
       "      <td>0.822</td>\n",
       "      <td>0.677</td>\n",
       "      <td>0.147</td>\n",
       "      <td>0.461</td>\n",
       "    </tr>\n",
       "    <tr>\n",
       "      <th>4</th>\n",
       "      <td>7.415</td>\n",
       "      <td>1.945</td>\n",
       "      <td>1.206</td>\n",
       "      <td>0.787</td>\n",
       "      <td>0.651</td>\n",
       "      <td>0.271</td>\n",
       "      <td>0.419</td>\n",
       "    </tr>\n",
       "  </tbody>\n",
       "</table>\n",
       "</div>"
      ],
      "text/plain": [
       "   happiness_score    gdp  social_support  life_expectancy  freedom  \\\n",
       "0            7.821  1.892           1.258            0.775    0.736   \n",
       "1            7.636  1.953           1.243            0.777    0.719   \n",
       "2            7.557  1.936           1.320            0.803    0.718   \n",
       "3            7.512  2.026           1.226            0.822    0.677   \n",
       "4            7.415  1.945           1.206            0.787    0.651   \n",
       "\n",
       "   generosity  corruption  \n",
       "0       0.109       0.534  \n",
       "1       0.188       0.532  \n",
       "2       0.270       0.191  \n",
       "3       0.147       0.461  \n",
       "4       0.271       0.419  "
      ]
     },
     "execution_count": 48,
     "metadata": {},
     "output_type": "execute_result"
    }
   ],
   "source": [
    "#Redefine X\n",
    "X = happiness.iloc[:, 2:-1]\n",
    "X.head()"
   ]
  },
  {
   "cell_type": "code",
   "execution_count": 55,
   "metadata": {},
   "outputs": [
    {
     "data": {
      "text/html": [
       "<div>\n",
       "<style scoped>\n",
       "    .dataframe tbody tr th:only-of-type {\n",
       "        vertical-align: middle;\n",
       "    }\n",
       "\n",
       "    .dataframe tbody tr th {\n",
       "        vertical-align: top;\n",
       "    }\n",
       "\n",
       "    .dataframe thead th {\n",
       "        text-align: right;\n",
       "    }\n",
       "</style>\n",
       "<table border=\"1\" class=\"dataframe\">\n",
       "  <thead>\n",
       "    <tr style=\"text-align: right;\">\n",
       "      <th></th>\n",
       "      <th>tsne1</th>\n",
       "      <th>tsne2</th>\n",
       "    </tr>\n",
       "  </thead>\n",
       "  <tbody>\n",
       "    <tr>\n",
       "      <th>0</th>\n",
       "      <td>-1.690936</td>\n",
       "      <td>9.992281</td>\n",
       "    </tr>\n",
       "    <tr>\n",
       "      <th>1</th>\n",
       "      <td>-1.534124</td>\n",
       "      <td>9.834429</td>\n",
       "    </tr>\n",
       "    <tr>\n",
       "      <th>2</th>\n",
       "      <td>-1.991676</td>\n",
       "      <td>9.443829</td>\n",
       "    </tr>\n",
       "    <tr>\n",
       "      <th>3</th>\n",
       "      <td>-1.282660</td>\n",
       "      <td>9.679596</td>\n",
       "    </tr>\n",
       "    <tr>\n",
       "      <th>4</th>\n",
       "      <td>-1.676620</td>\n",
       "      <td>9.307104</td>\n",
       "    </tr>\n",
       "  </tbody>\n",
       "</table>\n",
       "</div>"
      ],
      "text/plain": [
       "      tsne1     tsne2\n",
       "0 -1.690936  9.992281\n",
       "1 -1.534124  9.834429\n",
       "2 -1.991676  9.443829\n",
       "3 -1.282660  9.679596\n",
       "4 -1.676620  9.307104"
      ]
     },
     "execution_count": 55,
     "metadata": {},
     "output_type": "execute_result"
    }
   ],
   "source": [
    "tsne = TSNE(n_components=2, perplexity=40, random_state=2, learning_rate=1)\n",
    "\n",
    "Xt = tsne.fit_transform(X)\n",
    "Xt = pd.DataFrame(Xt, columns=[\"tsne1\", \"tsne2\"])\n",
    "Xt.head()"
   ]
  },
  {
   "cell_type": "markdown",
   "metadata": {},
   "source": [
    "Re-produce the earlier plot where visualize the country dots color-encoded by continent"
   ]
  },
  {
   "cell_type": "code",
   "execution_count": 56,
   "metadata": {},
   "outputs": [
    {
     "data": {
      "image/png": "[encoded data removed]",
      "text/plain": [
       "<Figure size 792x576 with 1 Axes>"
      ]
     },
     "metadata": {},
     "output_type": "display_data"
    }
   ],
   "source": [
    "\n",
    "#Add continent to the pca dataset\n",
    "Xt[\"continent\"] = happiness[\"continent\"].tolist()\n",
    "\n",
    "plt.figure(figsize=(11, 8))\n",
    "for continent in Xt.continent.unique():\n",
    "    data = Xt[Xt.continent == continent]\n",
    "    \n",
    "#     data.plot.scatter(x = \"comp1\", y = \"comp2\", label = continent)\n",
    "    plt.scatter(x=data[\"tsne1\"], y = data[\"tsne2\"], label = continent, s=80)\n",
    "    plt.xlabel(\"TSNE 1\")\n",
    "    plt.ylabel(\"TSNE 2\")\n",
    "    plt.legend(fontsize = \"large\");\n",
    "    "
   ]
  },
  {
   "cell_type": "markdown",
   "metadata": {},
   "source": [
    "This chart is great and all but what I really would like to do is be able to hover my mouse over the dots to reveal more information about the country dots.\n",
    "\n",
    "That's where plotly-express comes in!"
   ]
  },
  {
   "cell_type": "code",
   "execution_count": null,
   "metadata": {},
   "outputs": [],
   "source": []
  },
  {
   "cell_type": "markdown",
   "metadata": {},
   "source": [
    "Let's create an interactive 2D plot using plotly-express."
   ]
  },
  {
   "cell_type": "code",
   "execution_count": 61,
   "metadata": {},
   "outputs": [
    {
     "data": {
      "application/vnd.plotly.v1+json": {
       "config": {
        "plotlyServerURL": "https://plot.ly"
       },
       "data": [
        {
         "customdata": [
          [
           "Finland"
          ],
          [
           "Denmark"
          ],
          [
           "Iceland"
          ],
          [
           "Switzerland"
          ],
          [
           "Netherlands"
          ],
          [
           "Luxembourg*"
          ],
          [
           "Sweden"
          ],
          [
           "Norway"
          ],
          [
           "Austria"
          ],
          [
           "Ireland"
          ],
          [
           "Germany"
          ],
          [
           "United Kingdom"
          ],
          [
           "Czechia"
          ],
          [
           "Belgium"
          ],
          [
           "France"
          ],
          [
           "Slovenia"
          ],
          [
           "Romania"
          ],
          [
           "Spain"
          ],
          [
           "Italy"
          ],
          [
           "Kosovo"
          ],
          [
           "Malta"
          ],
          [
           "Lithuania"
          ],
          [
           "Slovakia"
          ],
          [
           "Estonia"
          ],
          [
           "Cyprus"
          ],
          [
           "Latvia"
          ],
          [
           "Serbia"
          ],
          [
           "Croatia"
          ],
          [
           "Poland"
          ],
          [
           "Hungary"
          ],
          [
           "Portugal"
          ],
          [
           "Greece"
          ],
          [
           "Moldova"
          ],
          [
           "Belarus*"
          ],
          [
           "Bosnia and Herzegovina"
          ],
          [
           "Montenegro"
          ],
          [
           "North Cyprus*"
          ],
          [
           "Russia"
          ],
          [
           "Armenia"
          ],
          [
           "Bulgaria"
          ],
          [
           "North Macedonia"
          ],
          [
           "Albania"
          ],
          [
           "Azerbaijan*"
          ],
          [
           "Ukraine"
          ],
          [
           "Georgia"
          ],
          [
           "Turkey"
          ]
         ],
         "hovertemplate": "continent=Europe<br>tsne1=%{x}<br>tsne2=%{y}<br>country=%{customdata[0]}<extra></extra>",
         "legendgroup": "Europe",
         "marker": {
          "color": "#636efa",
          "symbol": "circle"
         },
         "mode": "markers",
         "name": "Europe",
         "orientation": "v",
         "showlegend": true,
         "type": "scatter",
         "x": [
          -1.6909359,
          -1.5341245,
          -1.991676,
          -1.2826596,
          -1.6766201,
          -0.8567951,
          -1.3212261,
          -1.0869389,
          -1.5072137,
          -0.68177825,
          -0.95094335,
          -1.0606773,
          -1.6566825,
          -1.019593,
          -0.8609093,
          -1.2545602,
          -1.2885493,
          -0.6143095,
          -0.2802204,
          -2.1660347,
          -0.57138056,
          -0.7670073,
          -0.7266616,
          -0.049014654,
          0.31549266,
          -0.4464159,
          -0.99812514,
          -0.34859005,
          -0.14528751,
          -0.14169517,
          0.18951382,
          0.6997108,
          -0.6319271,
          0.45051998,
          -0.1838254,
          0.47659224,
          1.4643657,
          0.96706235,
          0.11103426,
          0.86626285,
          0.60136706,
          0.46699816,
          0.9790487,
          0.98656166,
          0.8851914,
          2.026017
         ],
         "xaxis": "x",
         "y": [
          9.992281,
          9.834429,
          9.443829,
          9.679596,
          9.307104,
          9.52239,
          9.40229,
          9.396964,
          8.704415,
          8.710614,
          8.443842,
          8.157646,
          7.7175927,
          7.519334,
          7.205257,
          6.746508,
          5.573726,
          6.0599766,
          5.8307357,
          4.066895,
          6.213467,
          5.698919,
          5.3363433,
          5.905184,
          4.8482623,
          4.546882,
          3.8070219,
          4.1247573,
          4.333121,
          4.066301,
          3.7398677,
          3.0898845,
          1.5488853,
          2.0614445,
          1.2633183,
          0.1328378,
          0.26343116,
          -0.24978246,
          -1.2035099,
          -0.5941729,
          -2.116852,
          -2.798684,
          -1.5567986,
          -2.2007957,
          -3.6483364,
          -4.010744
         ],
         "yaxis": "y"
        },
        {
         "customdata": [
          [
           "Israel"
          ],
          [
           "Bahrain"
          ],
          [
           "United Arab Emirates"
          ],
          [
           "Saudi Arabia"
          ],
          [
           "Taiwan Province of China"
          ],
          [
           "Singapore"
          ],
          [
           "Kazakhstan"
          ],
          [
           "Kuwait*"
          ],
          [
           "Uzbekistan"
          ],
          [
           "Japan"
          ],
          [
           "South Korea"
          ],
          [
           "Philippines"
          ],
          [
           "Thailand"
          ],
          [
           "Kyrgyzstan"
          ],
          [
           "Mongolia"
          ],
          [
           "Malaysia"
          ],
          [
           "China"
          ],
          [
           "Vietnam"
          ],
          [
           "Turkmenistan*"
          ],
          [
           "Hong Kong S.A.R. of China"
          ],
          [
           "Tajikistan"
          ],
          [
           "Nepal"
          ],
          [
           "Indonesia"
          ],
          [
           "Bangladesh"
          ],
          [
           "Laos"
          ],
          [
           "Iraq"
          ],
          [
           "Iran"
          ],
          [
           "Cambodia"
          ],
          [
           "Pakistan"
          ],
          [
           "Palestinian Territories*"
          ],
          [
           "Myanmar"
          ],
          [
           "Sri Lanka"
          ],
          [
           "Yemen*"
          ],
          [
           "Jordan"
          ],
          [
           "India"
          ],
          [
           "Lebanon"
          ],
          [
           "Afghanistan"
          ]
         ],
         "hovertemplate": "continent=Asia<br>tsne1=%{x}<br>tsne2=%{y}<br>country=%{customdata[0]}<extra></extra>",
         "legendgroup": "Asia",
         "marker": {
          "color": "#EF553B",
          "symbol": "circle"
         },
         "mode": "markers",
         "name": "Asia",
         "orientation": "v",
         "showlegend": true,
         "type": "scatter",
         "x": [
          -1.9986106,
          -1.1928159,
          -0.4431588,
          -0.9874431,
          -0.5721791,
          0.17700998,
          -0.8777979,
          0.4742745,
          -1.8582866,
          0.6072766,
          0.90164465,
          -1.4677763,
          -0.3544318,
          -1.6700093,
          -0.53693926,
          0.50852716,
          0.052561745,
          -0.5293313,
          0.6010435,
          1.8587286,
          -0.96755433,
          -0.8477752,
          0.08026121,
          -0.35841802,
          -0.07111426,
          0.90237856,
          1.3368922,
          0.8692704,
          0.56386554,
          1.751224,
          1.353267,
          2.3930588,
          1.264412,
          2.3882663,
          2.1288435,
          2.687657,
          2.3676038
         ],
         "xaxis": "x",
         "y": [
          8.957641,
          6.871254,
          7.036427,
          6.4250746,
          6.424074,
          7.367343,
          4.6213226,
          4.520035,
          2.1177619,
          4.1257257,
          3.4468853,
          1.5191082,
          2.0924315,
          0.944554,
          0.9776418,
          1.0451934,
          0.14926645,
          -0.90657264,
          -0.2465168,
          0.453337,
          -2.4315462,
          -3.186322,
          -2.1310725,
          -3.9291813,
          -3.5546985,
          -4.2042313,
          -3.967416,
          -5.830132,
          -6.5808215,
          -6.2346263,
          -6.792218,
          -6.1579967,
          -7.5479136,
          -6.9230924,
          -8.225305,
          -9.17365,
          -9.660438
         ],
         "yaxis": "y"
        },
        {
         "customdata": [
          [
           "New Zealand"
          ],
          [
           "Australia"
          ]
         ],
         "hovertemplate": "continent=Oceania<br>tsne1=%{x}<br>tsne2=%{y}<br>country=%{customdata[0]}<extra></extra>",
         "legendgroup": "Oceania",
         "marker": {
          "color": "#00cc96",
          "symbol": "circle"
         },
         "mode": "markers",
         "name": "Oceania",
         "orientation": "v",
         "showlegend": true,
         "type": "scatter",
         "x": [
          -1.0578591,
          -1.5518762
         ],
         "xaxis": "x",
         "y": [
          9.028359,
          8.732131
         ],
         "yaxis": "y"
        },
        {
         "customdata": [
          [
           "Canada"
          ],
          [
           "United States"
          ],
          [
           "Costa Rica"
          ],
          [
           "Panama"
          ],
          [
           "Guatemala*"
          ],
          [
           "Nicaragua"
          ],
          [
           "Mexico"
          ],
          [
           "El Salvador"
          ],
          [
           "Honduras"
          ],
          [
           "Jamaica"
          ],
          [
           "Dominican Republic"
          ]
         ],
         "hovertemplate": "continent=North America<br>tsne1=%{x}<br>tsne2=%{y}<br>country=%{customdata[0]}<extra></extra>",
         "legendgroup": "North America",
         "marker": {
          "color": "#ab63fa",
          "symbol": "circle"
         },
         "mode": "markers",
         "name": "North America",
         "orientation": "v",
         "showlegend": true,
         "type": "scatter",
         "x": [
          -1.1261001,
          -1.5008227,
          -1.6117992,
          -0.6977712,
          -2.1012332,
          -2.1296751,
          -1.1034818,
          -1.9827688,
          -1.9474974,
          -0.9763063,
          0.05637442
         ],
         "xaxis": "x",
         "y": [
          8.453683,
          8.078822,
          5.995972,
          5.0065894,
          2.932922,
          2.283703,
          3.2678685,
          2.4764216,
          1.7695893,
          1.2822194,
          1.0115054
         ],
         "yaxis": "y"
        },
        {
         "customdata": [
          [
           "Uruguay"
          ],
          [
           "Brazil"
          ],
          [
           "Chile"
          ],
          [
           "Argentina"
          ],
          [
           "Colombia"
          ],
          [
           "Bolivia"
          ],
          [
           "Paraguay"
          ],
          [
           "Peru"
          ],
          [
           "Ecuador"
          ],
          [
           "Venezuela"
          ]
         ],
         "hovertemplate": "continent=South America<br>tsne1=%{x}<br>tsne2=%{y}<br>country=%{customdata[0]}<extra></extra>",
         "legendgroup": "South America",
         "marker": {
          "color": "#FFA15A",
          "symbol": "circle"
         },
         "mode": "markers",
         "name": "South America",
         "orientation": "v",
         "showlegend": true,
         "type": "scatter",
         "x": [
          -1.4038595,
          -1.4921675,
          -0.49875203,
          -0.27130684,
          -0.31587002,
          -0.76953715,
          -0.1453945,
          -0.25052378,
          -0.27904707,
          -1.6769543
         ],
         "xaxis": "x",
         "y": [
          5.7692966,
          4.01893,
          4.138003,
          2.887023,
          1.0796974,
          -0.3275633,
          0.15993336,
          -0.32431433,
          -0.5312304,
          -6.4005904
         ],
         "yaxis": "y"
        },
        {
         "customdata": [
          [
           "Mauritius"
          ],
          [
           "Libya*"
          ],
          [
           "Ivory Coast"
          ],
          [
           "South Africa"
          ],
          [
           "Gambia*"
          ],
          [
           "Algeria"
          ],
          [
           "Liberia*"
          ],
          [
           "Congo"
          ],
          [
           "Morocco"
          ],
          [
           "Mozambique"
          ],
          [
           "Cameroon"
          ],
          [
           "Senegal"
          ],
          [
           "Niger*"
          ],
          [
           "Gabon"
          ],
          [
           "Guinea"
          ],
          [
           "Ghana"
          ],
          [
           "Burkina Faso"
          ],
          [
           "Benin"
          ],
          [
           "Comoros*"
          ],
          [
           "Uganda"
          ],
          [
           "Nigeria"
          ],
          [
           "Kenya"
          ],
          [
           "Tunisia"
          ],
          [
           "Mali"
          ],
          [
           "Namibia"
          ],
          [
           "Eswatini, Kingdom of*"
          ],
          [
           "Madagascar*"
          ],
          [
           "Egypt"
          ],
          [
           "Chad*"
          ],
          [
           "Ethiopia"
          ],
          [
           "Mauritania*"
          ],
          [
           "Togo"
          ],
          [
           "Zambia"
          ],
          [
           "Malawi"
          ],
          [
           "Tanzania"
          ],
          [
           "Sierra Leone"
          ],
          [
           "Lesotho*"
          ],
          [
           "Botswana*"
          ],
          [
           "Rwanda*"
          ],
          [
           "Zimbabwe"
          ]
         ],
         "hovertemplate": "continent=Africa<br>tsne1=%{x}<br>tsne2=%{y}<br>country=%{customdata[0]}<extra></extra>",
         "legendgroup": "Africa",
         "marker": {
          "color": "#19d3f3",
          "symbol": "circle"
         },
         "mode": "markers",
         "name": "Africa",
         "orientation": "v",
         "showlegend": true,
         "type": "scatter",
         "x": [
          -0.6333498,
          0.52380085,
          -0.5517139,
          1.0449464,
          -1.0212276,
          1.3384521,
          -1.0754536,
          -0.46056068,
          0.07646788,
          -1.149464,
          -0.32343322,
          -0.34920162,
          -0.9918217,
          1.1526136,
          -0.3045849,
          0.35885957,
          -0.023411382,
          -0.45135948,
          0.14251181,
          0.5334987,
          1.0470023,
          0.80107105,
          1.8926051,
          0.2990373,
          1.8479462,
          1.8244333,
          0.5663164,
          2.3199787,
          0.51590866,
          1.2025603,
          1.8767384,
          0.8280634,
          1.779825,
          1.3015431,
          1.7378718,
          1.5869565,
          2.1680505,
          2.7392159,
          1.7583739,
          2.3835855
         ],
         "xaxis": "x",
         "y": [
          3.3458042,
          -1.3264571,
          -4.3861427,
          -1.8984206,
          -5.0595984,
          -2.7818441,
          -5.445831,
          -4.987268,
          -4.3616085,
          -5.6811357,
          -5.023082,
          -4.9421096,
          -5.7640505,
          -3.7720783,
          -5.770059,
          -5.15751,
          -6.3982005,
          -6.9977407,
          -6.686139,
          -6.58364,
          -6.268102,
          -6.3836327,
          -5.593312,
          -7.1017714,
          -6.1877484,
          -6.5288982,
          -7.520813,
          -6.558337,
          -7.8292108,
          -7.377556,
          -7.1763015,
          -8.135222,
          -8.348594,
          -8.751371,
          -8.49754,
          -8.869051,
          -8.692164,
          -8.388913,
          -9.316504,
          -9.142536
         ],
         "yaxis": "y"
        }
       ],
       "layout": {
        "legend": {
         "title": {
          "text": "continent"
         },
         "tracegroupgap": 0
        },
        "margin": {
         "t": 60
        },
        "template": {
         "data": {
          "bar": [
           {
            "error_x": {
             "color": "#2a3f5f"
            },
            "error_y": {
             "color": "#2a3f5f"
            },
            "marker": {
             "line": {
              "color": "#E5ECF6",
              "width": 0.5
             },
             "pattern": {
              "fillmode": "overlay",
              "size": 10,
              "solidity": 0.2
             }
            },
            "type": "bar"
           }
          ],
          "barpolar": [
           {
            "marker": {
             "line": {
              "color": "#E5ECF6",
              "width": 0.5
             },
             "pattern": {
              "fillmode": "overlay",
              "size": 10,
              "solidity": 0.2
             }
            },
            "type": "barpolar"
           }
          ],
          "carpet": [
           {
            "aaxis": {
             "endlinecolor": "#2a3f5f",
             "gridcolor": "white",
             "linecolor": "white",
             "minorgridcolor": "white",
             "startlinecolor": "#2a3f5f"
            },
            "baxis": {
             "endlinecolor": "#2a3f5f",
             "gridcolor": "white",
             "linecolor": "white",
             "minorgridcolor": "white",
             "startlinecolor": "#2a3f5f"
            },
            "type": "carpet"
           }
          ],
          "choropleth": [
           {
            "colorbar": {
             "outlinewidth": 0,
             "ticks": ""
            },
            "type": "choropleth"
           }
          ],
          "contour": [
           {
            "colorbar": {
             "outlinewidth": 0,
             "ticks": ""
            },
            "colorscale": [
             [
              0,
              "#0d0887"
             ],
             [
              0.1111111111111111,
              "#46039f"
             ],
             [
              0.2222222222222222,
              "#7201a8"
             ],
             [
              0.3333333333333333,
              "#9c179e"
             ],
             [
              0.4444444444444444,
              "#bd3786"
             ],
             [
              0.5555555555555556,
              "#d8576b"
             ],
             [
              0.6666666666666666,
              "#ed7953"
             ],
             [
              0.7777777777777778,
              "#fb9f3a"
             ],
             [
              0.8888888888888888,
              "#fdca26"
             ],
             [
              1,
              "#f0f921"
             ]
            ],
            "type": "contour"
           }
          ],
          "contourcarpet": [
           {
            "colorbar": {
             "outlinewidth": 0,
             "ticks": ""
            },
            "type": "contourcarpet"
           }
          ],
          "heatmap": [
           {
            "colorbar": {
             "outlinewidth": 0,
             "ticks": ""
            },
            "colorscale": [
             [
              0,
              "#0d0887"
             ],
             [
              0.1111111111111111,
              "#46039f"
             ],
             [
              0.2222222222222222,
              "#7201a8"
             ],
             [
              0.3333333333333333,
              "#9c179e"
             ],
             [
              0.4444444444444444,
              "#bd3786"
             ],
             [
              0.5555555555555556,
              "#d8576b"
             ],
             [
              0.6666666666666666,
              "#ed7953"
             ],
             [
              0.7777777777777778,
              "#fb9f3a"
             ],
             [
              0.8888888888888888,
              "#fdca26"
             ],
             [
              1,
              "#f0f921"
             ]
            ],
            "type": "heatmap"
           }
          ],
          "heatmapgl": [
           {
            "colorbar": {
             "outlinewidth": 0,
             "ticks": ""
            },
            "colorscale": [
             [
              0,
              "#0d0887"
             ],
             [
              0.1111111111111111,
              "#46039f"
             ],
             [
              0.2222222222222222,
              "#7201a8"
             ],
             [
              0.3333333333333333,
              "#9c179e"
             ],
             [
              0.4444444444444444,
              "#bd3786"
             ],
             [
              0.5555555555555556,
              "#d8576b"
             ],
             [
              0.6666666666666666,
              "#ed7953"
             ],
             [
              0.7777777777777778,
              "#fb9f3a"
             ],
             [
              0.8888888888888888,
              "#fdca26"
             ],
             [
              1,
              "#f0f921"
             ]
            ],
            "type": "heatmapgl"
           }
          ],
          "histogram": [
           {
            "marker": {
             "pattern": {
              "fillmode": "overlay",
              "size": 10,
              "solidity": 0.2
             }
            },
            "type": "histogram"
           }
          ],
          "histogram2d": [
           {
            "colorbar": {
             "outlinewidth": 0,
             "ticks": ""
            },
            "colorscale": [
             [
              0,
              "#0d0887"
             ],
             [
              0.1111111111111111,
              "#46039f"
             ],
             [
              0.2222222222222222,
              "#7201a8"
             ],
             [
              0.3333333333333333,
              "#9c179e"
             ],
             [
              0.4444444444444444,
              "#bd3786"
             ],
             [
              0.5555555555555556,
              "#d8576b"
             ],
             [
              0.6666666666666666,
              "#ed7953"
             ],
             [
              0.7777777777777778,
              "#fb9f3a"
             ],
             [
              0.8888888888888888,
              "#fdca26"
             ],
             [
              1,
              "#f0f921"
             ]
            ],
            "type": "histogram2d"
           }
          ],
          "histogram2dcontour": [
           {
            "colorbar": {
             "outlinewidth": 0,
             "ticks": ""
            },
            "colorscale": [
             [
              0,
              "#0d0887"
             ],
             [
              0.1111111111111111,
              "#46039f"
             ],
             [
              0.2222222222222222,
              "#7201a8"
             ],
             [
              0.3333333333333333,
              "#9c179e"
             ],
             [
              0.4444444444444444,
              "#bd3786"
             ],
             [
              0.5555555555555556,
              "#d8576b"
             ],
             [
              0.6666666666666666,
              "#ed7953"
             ],
             [
              0.7777777777777778,
              "#fb9f3a"
             ],
             [
              0.8888888888888888,
              "#fdca26"
             ],
             [
              1,
              "#f0f921"
             ]
            ],
            "type": "histogram2dcontour"
           }
          ],
          "mesh3d": [
           {
            "colorbar": {
             "outlinewidth": 0,
             "ticks": ""
            },
            "type": "mesh3d"
           }
          ],
          "parcoords": [
           {
            "line": {
             "colorbar": {
              "outlinewidth": 0,
              "ticks": ""
             }
            },
            "type": "parcoords"
           }
          ],
          "pie": [
           {
            "automargin": true,
            "type": "pie"
           }
          ],
          "scatter": [
           {
            "marker": {
             "colorbar": {
              "outlinewidth": 0,
              "ticks": ""
             }
            },
            "type": "scatter"
           }
          ],
          "scatter3d": [
           {
            "line": {
             "colorbar": {
              "outlinewidth": 0,
              "ticks": ""
             }
            },
            "marker": {
             "colorbar": {
              "outlinewidth": 0,
              "ticks": ""
             }
            },
            "type": "scatter3d"
           }
          ],
          "scattercarpet": [
           {
            "marker": {
             "colorbar": {
              "outlinewidth": 0,
              "ticks": ""
             }
            },
            "type": "scattercarpet"
           }
          ],
          "scattergeo": [
           {
            "marker": {
             "colorbar": {
              "outlinewidth": 0,
              "ticks": ""
             }
            },
            "type": "scattergeo"
           }
          ],
          "scattergl": [
           {
            "marker": {
             "colorbar": {
              "outlinewidth": 0,
              "ticks": ""
             }
            },
            "type": "scattergl"
           }
          ],
          "scattermapbox": [
           {
            "marker": {
             "colorbar": {
              "outlinewidth": 0,
              "ticks": ""
             }
            },
            "type": "scattermapbox"
           }
          ],
          "scatterpolar": [
           {
            "marker": {
             "colorbar": {
              "outlinewidth": 0,
              "ticks": ""
             }
            },
            "type": "scatterpolar"
           }
          ],
          "scatterpolargl": [
           {
            "marker": {
             "colorbar": {
              "outlinewidth": 0,
              "ticks": ""
             }
            },
            "type": "scatterpolargl"
           }
          ],
          "scatterternary": [
           {
            "marker": {
             "colorbar": {
              "outlinewidth": 0,
              "ticks": ""
             }
            },
            "type": "scatterternary"
           }
          ],
          "surface": [
           {
            "colorbar": {
             "outlinewidth": 0,
             "ticks": ""
            },
            "colorscale": [
             [
              0,
              "#0d0887"
             ],
             [
              0.1111111111111111,
              "#46039f"
             ],
             [
              0.2222222222222222,
              "#7201a8"
             ],
             [
              0.3333333333333333,
              "#9c179e"
             ],
             [
              0.4444444444444444,
              "#bd3786"
             ],
             [
              0.5555555555555556,
              "#d8576b"
             ],
             [
              0.6666666666666666,
              "#ed7953"
             ],
             [
              0.7777777777777778,
              "#fb9f3a"
             ],
             [
              0.8888888888888888,
              "#fdca26"
             ],
             [
              1,
              "#f0f921"
             ]
            ],
            "type": "surface"
           }
          ],
          "table": [
           {
            "cells": {
             "fill": {
              "color": "#EBF0F8"
             },
             "line": {
              "color": "white"
             }
            },
            "header": {
             "fill": {
              "color": "#C8D4E3"
             },
             "line": {
              "color": "white"
             }
            },
            "type": "table"
           }
          ]
         },
         "layout": {
          "annotationdefaults": {
           "arrowcolor": "#2a3f5f",
           "arrowhead": 0,
           "arrowwidth": 1
          },
          "autotypenumbers": "strict",
          "coloraxis": {
           "colorbar": {
            "outlinewidth": 0,
            "ticks": ""
           }
          },
          "colorscale": {
           "diverging": [
            [
             0,
             "#8e0152"
            ],
            [
             0.1,
             "#c51b7d"
            ],
            [
             0.2,
             "#de77ae"
            ],
            [
             0.3,
             "#f1b6da"
            ],
            [
             0.4,
             "#fde0ef"
            ],
            [
             0.5,
             "#f7f7f7"
            ],
            [
             0.6,
             "#e6f5d0"
            ],
            [
             0.7,
             "#b8e186"
            ],
            [
             0.8,
             "#7fbc41"
            ],
            [
             0.9,
             "#4d9221"
            ],
            [
             1,
             "#276419"
            ]
           ],
           "sequential": [
            [
             0,
             "#0d0887"
            ],
            [
             0.1111111111111111,
             "#46039f"
            ],
            [
             0.2222222222222222,
             "#7201a8"
            ],
            [
             0.3333333333333333,
             "#9c179e"
            ],
            [
             0.4444444444444444,
             "#bd3786"
            ],
            [
             0.5555555555555556,
             "#d8576b"
            ],
            [
             0.6666666666666666,
             "#ed7953"
            ],
            [
             0.7777777777777778,
             "#fb9f3a"
            ],
            [
             0.8888888888888888,
             "#fdca26"
            ],
            [
             1,
             "#f0f921"
            ]
           ],
           "sequentialminus": [
            [
             0,
             "#0d0887"
            ],
            [
             0.1111111111111111,
             "#46039f"
            ],
            [
             0.2222222222222222,
             "#7201a8"
            ],
            [
             0.3333333333333333,
             "#9c179e"
            ],
            [
             0.4444444444444444,
             "#bd3786"
            ],
            [
             0.5555555555555556,
             "#d8576b"
            ],
            [
             0.6666666666666666,
             "#ed7953"
            ],
            [
             0.7777777777777778,
             "#fb9f3a"
            ],
            [
             0.8888888888888888,
             "#fdca26"
            ],
            [
             1,
             "#f0f921"
            ]
           ]
          },
          "colorway": [
           "#636efa",
           "#EF553B",
           "#00cc96",
           "#ab63fa",
           "#FFA15A",
           "#19d3f3",
           "#FF6692",
           "#B6E880",
           "#FF97FF",
           "#FECB52"
          ],
          "font": {
           "color": "#2a3f5f"
          },
          "geo": {
           "bgcolor": "white",
           "lakecolor": "white",
           "landcolor": "#E5ECF6",
           "showlakes": true,
           "showland": true,
           "subunitcolor": "white"
          },
          "hoverlabel": {
           "align": "left"
          },
          "hovermode": "closest",
          "mapbox": {
           "style": "light"
          },
          "paper_bgcolor": "white",
          "plot_bgcolor": "#E5ECF6",
          "polar": {
           "angularaxis": {
            "gridcolor": "white",
            "linecolor": "white",
            "ticks": ""
           },
           "bgcolor": "#E5ECF6",
           "radialaxis": {
            "gridcolor": "white",
            "linecolor": "white",
            "ticks": ""
           }
          },
          "scene": {
           "xaxis": {
            "backgroundcolor": "#E5ECF6",
            "gridcolor": "white",
            "gridwidth": 2,
            "linecolor": "white",
            "showbackground": true,
            "ticks": "",
            "zerolinecolor": "white"
           },
           "yaxis": {
            "backgroundcolor": "#E5ECF6",
            "gridcolor": "white",
            "gridwidth": 2,
            "linecolor": "white",
            "showbackground": true,
            "ticks": "",
            "zerolinecolor": "white"
           },
           "zaxis": {
            "backgroundcolor": "#E5ECF6",
            "gridcolor": "white",
            "gridwidth": 2,
            "linecolor": "white",
            "showbackground": true,
            "ticks": "",
            "zerolinecolor": "white"
           }
          },
          "shapedefaults": {
           "line": {
            "color": "#2a3f5f"
           }
          },
          "ternary": {
           "aaxis": {
            "gridcolor": "white",
            "linecolor": "white",
            "ticks": ""
           },
           "baxis": {
            "gridcolor": "white",
            "linecolor": "white",
            "ticks": ""
           },
           "bgcolor": "#E5ECF6",
           "caxis": {
            "gridcolor": "white",
            "linecolor": "white",
            "ticks": ""
           }
          },
          "title": {
           "x": 0.05
          },
          "xaxis": {
           "automargin": true,
           "gridcolor": "white",
           "linecolor": "white",
           "ticks": "",
           "title": {
            "standoff": 15
           },
           "zerolinecolor": "white",
           "zerolinewidth": 2
          },
          "yaxis": {
           "automargin": true,
           "gridcolor": "white",
           "linecolor": "white",
           "ticks": "",
           "title": {
            "standoff": 15
           },
           "zerolinecolor": "white",
           "zerolinewidth": 2
          }
         }
        },
        "xaxis": {
         "anchor": "y",
         "domain": [
          0,
          1
         ],
         "title": {
          "text": "tsne1"
         }
        },
        "yaxis": {
         "anchor": "x",
         "domain": [
          0,
          1
         ],
         "title": {
          "text": "tsne2"
         }
        }
       }
      },
      "text/html": [
       "<div>                            <div id=\"d717ca6f-239b-469e-b52d-688120ad9302\" class=\"plotly-graph-div\" style=\"height:525px; width:100%;\"></div>            <script type=\"text/javascript\">                require([\"plotly\"], function(Plotly) {                    window.PLOTLYENV=window.PLOTLYENV || {};                                    if (document.getElementById(\"d717ca6f-239b-469e-b52d-688120ad9302\")) {                    Plotly.newPlot(                        \"d717ca6f-239b-469e-b52d-688120ad9302\",                        [{\"customdata\":[[\"Finland\"],[\"Denmark\"],[\"Iceland\"],[\"Switzerland\"],[\"Netherlands\"],[\"Luxembourg*\"],[\"Sweden\"],[\"Norway\"],[\"Austria\"],[\"Ireland\"],[\"Germany\"],[\"United Kingdom\"],[\"Czechia\"],[\"Belgium\"],[\"France\"],[\"Slovenia\"],[\"Romania\"],[\"Spain\"],[\"Italy\"],[\"Kosovo\"],[\"Malta\"],[\"Lithuania\"],[\"Slovakia\"],[\"Estonia\"],[\"Cyprus\"],[\"Latvia\"],[\"Serbia\"],[\"Croatia\"],[\"Poland\"],[\"Hungary\"],[\"Portugal\"],[\"Greece\"],[\"Moldova\"],[\"Belarus*\"],[\"Bosnia and Herzegovina\"],[\"Montenegro\"],[\"North Cyprus*\"],[\"Russia\"],[\"Armenia\"],[\"Bulgaria\"],[\"North Macedonia\"],[\"Albania\"],[\"Azerbaijan*\"],[\"Ukraine\"],[\"Georgia\"],[\"Turkey\"]],\"hovertemplate\":\"continent=Europe<br>tsne1=%{x}<br>tsne2=%{y}<br>country=%{customdata[0]}<extra></extra>\",\"legendgroup\":\"Europe\",\"marker\":{\"color\":\"#636efa\",\"symbol\":\"circle\"},\"mode\":\"markers\",\"name\":\"Europe\",\"orientation\":\"v\",\"showlegend\":true,\"x\":[-1.6909359,-1.5341245,-1.991676,-1.2826596,-1.6766201,-0.8567951,-1.3212261,-1.0869389,-1.5072137,-0.68177825,-0.95094335,-1.0606773,-1.6566825,-1.019593,-0.8609093,-1.2545602,-1.2885493,-0.6143095,-0.2802204,-2.1660347,-0.57138056,-0.7670073,-0.7266616,-0.049014654,0.31549266,-0.4464159,-0.99812514,-0.34859005,-0.14528751,-0.14169517,0.18951382,0.6997108,-0.6319271,0.45051998,-0.1838254,0.47659224,1.4643657,0.96706235,0.11103426,0.86626285,0.60136706,0.46699816,0.9790487,0.98656166,0.8851914,2.026017],\"xaxis\":\"x\",\"y\":[9.992281,9.834429,9.443829,9.679596,9.307104,9.52239,9.40229,9.396964,8.704415,8.710614,8.443842,8.157646,7.7175927,7.519334,7.205257,6.746508,5.573726,6.0599766,5.8307357,4.066895,6.213467,5.698919,5.3363433,5.905184,4.8482623,4.546882,3.8070219,4.1247573,4.333121,4.066301,3.7398677,3.0898845,1.5488853,2.0614445,1.2633183,0.1328378,0.26343116,-0.24978246,-1.2035099,-0.5941729,-2.116852,-2.798684,-1.5567986,-2.2007957,-3.6483364,-4.010744],\"yaxis\":\"y\",\"type\":\"scatter\"},{\"customdata\":[[\"Israel\"],[\"Bahrain\"],[\"United Arab Emirates\"],[\"Saudi Arabia\"],[\"Taiwan Province of China\"],[\"Singapore\"],[\"Kazakhstan\"],[\"Kuwait*\"],[\"Uzbekistan\"],[\"Japan\"],[\"South Korea\"],[\"Philippines\"],[\"Thailand\"],[\"Kyrgyzstan\"],[\"Mongolia\"],[\"Malaysia\"],[\"China\"],[\"Vietnam\"],[\"Turkmenistan*\"],[\"Hong Kong S.A.R. of China\"],[\"Tajikistan\"],[\"Nepal\"],[\"Indonesia\"],[\"Bangladesh\"],[\"Laos\"],[\"Iraq\"],[\"Iran\"],[\"Cambodia\"],[\"Pakistan\"],[\"Palestinian Territories*\"],[\"Myanmar\"],[\"Sri Lanka\"],[\"Yemen*\"],[\"Jordan\"],[\"India\"],[\"Lebanon\"],[\"Afghanistan\"]],\"hovertemplate\":\"continent=Asia<br>tsne1=%{x}<br>tsne2=%{y}<br>country=%{customdata[0]}<extra></extra>\",\"legendgroup\":\"Asia\",\"marker\":{\"color\":\"#EF553B\",\"symbol\":\"circle\"},\"mode\":\"markers\",\"name\":\"Asia\",\"orientation\":\"v\",\"showlegend\":true,\"x\":[-1.9986106,-1.1928159,-0.4431588,-0.9874431,-0.5721791,0.17700998,-0.8777979,0.4742745,-1.8582866,0.6072766,0.90164465,-1.4677763,-0.3544318,-1.6700093,-0.53693926,0.50852716,0.052561745,-0.5293313,0.6010435,1.8587286,-0.96755433,-0.8477752,0.08026121,-0.35841802,-0.07111426,0.90237856,1.3368922,0.8692704,0.56386554,1.751224,1.353267,2.3930588,1.264412,2.3882663,2.1288435,2.687657,2.3676038],\"xaxis\":\"x\",\"y\":[8.957641,6.871254,7.036427,6.4250746,6.424074,7.367343,4.6213226,4.520035,2.1177619,4.1257257,3.4468853,1.5191082,2.0924315,0.944554,0.9776418,1.0451934,0.14926645,-0.90657264,-0.2465168,0.453337,-2.4315462,-3.186322,-2.1310725,-3.9291813,-3.5546985,-4.2042313,-3.967416,-5.830132,-6.5808215,-6.2346263,-6.792218,-6.1579967,-7.5479136,-6.9230924,-8.225305,-9.17365,-9.660438],\"yaxis\":\"y\",\"type\":\"scatter\"},{\"customdata\":[[\"New Zealand\"],[\"Australia\"]],\"hovertemplate\":\"continent=Oceania<br>tsne1=%{x}<br>tsne2=%{y}<br>country=%{customdata[0]}<extra></extra>\",\"legendgroup\":\"Oceania\",\"marker\":{\"color\":\"#00cc96\",\"symbol\":\"circle\"},\"mode\":\"markers\",\"name\":\"Oceania\",\"orientation\":\"v\",\"showlegend\":true,\"x\":[-1.0578591,-1.5518762],\"xaxis\":\"x\",\"y\":[9.028359,8.732131],\"yaxis\":\"y\",\"type\":\"scatter\"},{\"customdata\":[[\"Canada\"],[\"United States\"],[\"Costa Rica\"],[\"Panama\"],[\"Guatemala*\"],[\"Nicaragua\"],[\"Mexico\"],[\"El Salvador\"],[\"Honduras\"],[\"Jamaica\"],[\"Dominican Republic\"]],\"hovertemplate\":\"continent=North America<br>tsne1=%{x}<br>tsne2=%{y}<br>country=%{customdata[0]}<extra></extra>\",\"legendgroup\":\"North America\",\"marker\":{\"color\":\"#ab63fa\",\"symbol\":\"circle\"},\"mode\":\"markers\",\"name\":\"North America\",\"orientation\":\"v\",\"showlegend\":true,\"x\":[-1.1261001,-1.5008227,-1.6117992,-0.6977712,-2.1012332,-2.1296751,-1.1034818,-1.9827688,-1.9474974,-0.9763063,0.05637442],\"xaxis\":\"x\",\"y\":[8.453683,8.078822,5.995972,5.0065894,2.932922,2.283703,3.2678685,2.4764216,1.7695893,1.2822194,1.0115054],\"yaxis\":\"y\",\"type\":\"scatter\"},{\"customdata\":[[\"Uruguay\"],[\"Brazil\"],[\"Chile\"],[\"Argentina\"],[\"Colombia\"],[\"Bolivia\"],[\"Paraguay\"],[\"Peru\"],[\"Ecuador\"],[\"Venezuela\"]],\"hovertemplate\":\"continent=South America<br>tsne1=%{x}<br>tsne2=%{y}<br>country=%{customdata[0]}<extra></extra>\",\"legendgroup\":\"South America\",\"marker\":{\"color\":\"#FFA15A\",\"symbol\":\"circle\"},\"mode\":\"markers\",\"name\":\"South America\",\"orientation\":\"v\",\"showlegend\":true,\"x\":[-1.4038595,-1.4921675,-0.49875203,-0.27130684,-0.31587002,-0.76953715,-0.1453945,-0.25052378,-0.27904707,-1.6769543],\"xaxis\":\"x\",\"y\":[5.7692966,4.01893,4.138003,2.887023,1.0796974,-0.3275633,0.15993336,-0.32431433,-0.5312304,-6.4005904],\"yaxis\":\"y\",\"type\":\"scatter\"},{\"customdata\":[[\"Mauritius\"],[\"Libya*\"],[\"Ivory Coast\"],[\"South Africa\"],[\"Gambia*\"],[\"Algeria\"],[\"Liberia*\"],[\"Congo\"],[\"Morocco\"],[\"Mozambique\"],[\"Cameroon\"],[\"Senegal\"],[\"Niger*\"],[\"Gabon\"],[\"Guinea\"],[\"Ghana\"],[\"Burkina Faso\"],[\"Benin\"],[\"Comoros*\"],[\"Uganda\"],[\"Nigeria\"],[\"Kenya\"],[\"Tunisia\"],[\"Mali\"],[\"Namibia\"],[\"Eswatini, Kingdom of*\"],[\"Madagascar*\"],[\"Egypt\"],[\"Chad*\"],[\"Ethiopia\"],[\"Mauritania*\"],[\"Togo\"],[\"Zambia\"],[\"Malawi\"],[\"Tanzania\"],[\"Sierra Leone\"],[\"Lesotho*\"],[\"Botswana*\"],[\"Rwanda*\"],[\"Zimbabwe\"]],\"hovertemplate\":\"continent=Africa<br>tsne1=%{x}<br>tsne2=%{y}<br>country=%{customdata[0]}<extra></extra>\",\"legendgroup\":\"Africa\",\"marker\":{\"color\":\"#19d3f3\",\"symbol\":\"circle\"},\"mode\":\"markers\",\"name\":\"Africa\",\"orientation\":\"v\",\"showlegend\":true,\"x\":[-0.6333498,0.52380085,-0.5517139,1.0449464,-1.0212276,1.3384521,-1.0754536,-0.46056068,0.07646788,-1.149464,-0.32343322,-0.34920162,-0.9918217,1.1526136,-0.3045849,0.35885957,-0.023411382,-0.45135948,0.14251181,0.5334987,1.0470023,0.80107105,1.8926051,0.2990373,1.8479462,1.8244333,0.5663164,2.3199787,0.51590866,1.2025603,1.8767384,0.8280634,1.779825,1.3015431,1.7378718,1.5869565,2.1680505,2.7392159,1.7583739,2.3835855],\"xaxis\":\"x\",\"y\":[3.3458042,-1.3264571,-4.3861427,-1.8984206,-5.0595984,-2.7818441,-5.445831,-4.987268,-4.3616085,-5.6811357,-5.023082,-4.9421096,-5.7640505,-3.7720783,-5.770059,-5.15751,-6.3982005,-6.9977407,-6.686139,-6.58364,-6.268102,-6.3836327,-5.593312,-7.1017714,-6.1877484,-6.5288982,-7.520813,-6.558337,-7.8292108,-7.377556,-7.1763015,-8.135222,-8.348594,-8.751371,-8.49754,-8.869051,-8.692164,-8.388913,-9.316504,-9.142536],\"yaxis\":\"y\",\"type\":\"scatter\"}],                        {\"template\":{\"data\":{\"bar\":[{\"error_x\":{\"color\":\"#2a3f5f\"},\"error_y\":{\"color\":\"#2a3f5f\"},\"marker\":{\"line\":{\"color\":\"#E5ECF6\",\"width\":0.5},\"pattern\":{\"fillmode\":\"overlay\",\"size\":10,\"solidity\":0.2}},\"type\":\"bar\"}],\"barpolar\":[{\"marker\":{\"line\":{\"color\":\"#E5ECF6\",\"width\":0.5},\"pattern\":{\"fillmode\":\"overlay\",\"size\":10,\"solidity\":0.2}},\"type\":\"barpolar\"}],\"carpet\":[{\"aaxis\":{\"endlinecolor\":\"#2a3f5f\",\"gridcolor\":\"white\",\"linecolor\":\"white\",\"minorgridcolor\":\"white\",\"startlinecolor\":\"#2a3f5f\"},\"baxis\":{\"endlinecolor\":\"#2a3f5f\",\"gridcolor\":\"white\",\"linecolor\":\"white\",\"minorgridcolor\":\"white\",\"startlinecolor\":\"#2a3f5f\"},\"type\":\"carpet\"}],\"choropleth\":[{\"colorbar\":{\"outlinewidth\":0,\"ticks\":\"\"},\"type\":\"choropleth\"}],\"contour\":[{\"colorbar\":{\"outlinewidth\":0,\"ticks\":\"\"},\"colorscale\":[[0.0,\"#0d0887\"],[0.1111111111111111,\"#46039f\"],[0.2222222222222222,\"#7201a8\"],[0.3333333333333333,\"#9c179e\"],[0.4444444444444444,\"#bd3786\"],[0.5555555555555556,\"#d8576b\"],[0.6666666666666666,\"#ed7953\"],[0.7777777777777778,\"#fb9f3a\"],[0.8888888888888888,\"#fdca26\"],[1.0,\"#f0f921\"]],\"type\":\"contour\"}],\"contourcarpet\":[{\"colorbar\":{\"outlinewidth\":0,\"ticks\":\"\"},\"type\":\"contourcarpet\"}],\"heatmap\":[{\"colorbar\":{\"outlinewidth\":0,\"ticks\":\"\"},\"colorscale\":[[0.0,\"#0d0887\"],[0.1111111111111111,\"#46039f\"],[0.2222222222222222,\"#7201a8\"],[0.3333333333333333,\"#9c179e\"],[0.4444444444444444,\"#bd3786\"],[0.5555555555555556,\"#d8576b\"],[0.6666666666666666,\"#ed7953\"],[0.7777777777777778,\"#fb9f3a\"],[0.8888888888888888,\"#fdca26\"],[1.0,\"#f0f921\"]],\"type\":\"heatmap\"}],\"heatmapgl\":[{\"colorbar\":{\"outlinewidth\":0,\"ticks\":\"\"},\"colorscale\":[[0.0,\"#0d0887\"],[0.1111111111111111,\"#46039f\"],[0.2222222222222222,\"#7201a8\"],[0.3333333333333333,\"#9c179e\"],[0.4444444444444444,\"#bd3786\"],[0.5555555555555556,\"#d8576b\"],[0.6666666666666666,\"#ed7953\"],[0.7777777777777778,\"#fb9f3a\"],[0.8888888888888888,\"#fdca26\"],[1.0,\"#f0f921\"]],\"type\":\"heatmapgl\"}],\"histogram\":[{\"marker\":{\"pattern\":{\"fillmode\":\"overlay\",\"size\":10,\"solidity\":0.2}},\"type\":\"histogram\"}],\"histogram2d\":[{\"colorbar\":{\"outlinewidth\":0,\"ticks\":\"\"},\"colorscale\":[[0.0,\"#0d0887\"],[0.1111111111111111,\"#46039f\"],[0.2222222222222222,\"#7201a8\"],[0.3333333333333333,\"#9c179e\"],[0.4444444444444444,\"#bd3786\"],[0.5555555555555556,\"#d8576b\"],[0.6666666666666666,\"#ed7953\"],[0.7777777777777778,\"#fb9f3a\"],[0.8888888888888888,\"#fdca26\"],[1.0,\"#f0f921\"]],\"type\":\"histogram2d\"}],\"histogram2dcontour\":[{\"colorbar\":{\"outlinewidth\":0,\"ticks\":\"\"},\"colorscale\":[[0.0,\"#0d0887\"],[0.1111111111111111,\"#46039f\"],[0.2222222222222222,\"#7201a8\"],[0.3333333333333333,\"#9c179e\"],[0.4444444444444444,\"#bd3786\"],[0.5555555555555556,\"#d8576b\"],[0.6666666666666666,\"#ed7953\"],[0.7777777777777778,\"#fb9f3a\"],[0.8888888888888888,\"#fdca26\"],[1.0,\"#f0f921\"]],\"type\":\"histogram2dcontour\"}],\"mesh3d\":[{\"colorbar\":{\"outlinewidth\":0,\"ticks\":\"\"},\"type\":\"mesh3d\"}],\"parcoords\":[{\"line\":{\"colorbar\":{\"outlinewidth\":0,\"ticks\":\"\"}},\"type\":\"parcoords\"}],\"pie\":[{\"automargin\":true,\"type\":\"pie\"}],\"scatter\":[{\"marker\":{\"colorbar\":{\"outlinewidth\":0,\"ticks\":\"\"}},\"type\":\"scatter\"}],\"scatter3d\":[{\"line\":{\"colorbar\":{\"outlinewidth\":0,\"ticks\":\"\"}},\"marker\":{\"colorbar\":{\"outlinewidth\":0,\"ticks\":\"\"}},\"type\":\"scatter3d\"}],\"scattercarpet\":[{\"marker\":{\"colorbar\":{\"outlinewidth\":0,\"ticks\":\"\"}},\"type\":\"scattercarpet\"}],\"scattergeo\":[{\"marker\":{\"colorbar\":{\"outlinewidth\":0,\"ticks\":\"\"}},\"type\":\"scattergeo\"}],\"scattergl\":[{\"marker\":{\"colorbar\":{\"outlinewidth\":0,\"ticks\":\"\"}},\"type\":\"scattergl\"}],\"scattermapbox\":[{\"marker\":{\"colorbar\":{\"outlinewidth\":0,\"ticks\":\"\"}},\"type\":\"scattermapbox\"}],\"scatterpolar\":[{\"marker\":{\"colorbar\":{\"outlinewidth\":0,\"ticks\":\"\"}},\"type\":\"scatterpolar\"}],\"scatterpolargl\":[{\"marker\":{\"colorbar\":{\"outlinewidth\":0,\"ticks\":\"\"}},\"type\":\"scatterpolargl\"}],\"scatterternary\":[{\"marker\":{\"colorbar\":{\"outlinewidth\":0,\"ticks\":\"\"}},\"type\":\"scatterternary\"}],\"surface\":[{\"colorbar\":{\"outlinewidth\":0,\"ticks\":\"\"},\"colorscale\":[[0.0,\"#0d0887\"],[0.1111111111111111,\"#46039f\"],[0.2222222222222222,\"#7201a8\"],[0.3333333333333333,\"#9c179e\"],[0.4444444444444444,\"#bd3786\"],[0.5555555555555556,\"#d8576b\"],[0.6666666666666666,\"#ed7953\"],[0.7777777777777778,\"#fb9f3a\"],[0.8888888888888888,\"#fdca26\"],[1.0,\"#f0f921\"]],\"type\":\"surface\"}],\"table\":[{\"cells\":{\"fill\":{\"color\":\"#EBF0F8\"},\"line\":{\"color\":\"white\"}},\"header\":{\"fill\":{\"color\":\"#C8D4E3\"},\"line\":{\"color\":\"white\"}},\"type\":\"table\"}]},\"layout\":{\"annotationdefaults\":{\"arrowcolor\":\"#2a3f5f\",\"arrowhead\":0,\"arrowwidth\":1},\"autotypenumbers\":\"strict\",\"coloraxis\":{\"colorbar\":{\"outlinewidth\":0,\"ticks\":\"\"}},\"colorscale\":{\"diverging\":[[0,\"#8e0152\"],[0.1,\"#c51b7d\"],[0.2,\"#de77ae\"],[0.3,\"#f1b6da\"],[0.4,\"#fde0ef\"],[0.5,\"#f7f7f7\"],[0.6,\"#e6f5d0\"],[0.7,\"#b8e186\"],[0.8,\"#7fbc41\"],[0.9,\"#4d9221\"],[1,\"#276419\"]],\"sequential\":[[0.0,\"#0d0887\"],[0.1111111111111111,\"#46039f\"],[0.2222222222222222,\"#7201a8\"],[0.3333333333333333,\"#9c179e\"],[0.4444444444444444,\"#bd3786\"],[0.5555555555555556,\"#d8576b\"],[0.6666666666666666,\"#ed7953\"],[0.7777777777777778,\"#fb9f3a\"],[0.8888888888888888,\"#fdca26\"],[1.0,\"#f0f921\"]],\"sequentialminus\":[[0.0,\"#0d0887\"],[0.1111111111111111,\"#46039f\"],[0.2222222222222222,\"#7201a8\"],[0.3333333333333333,\"#9c179e\"],[0.4444444444444444,\"#bd3786\"],[0.5555555555555556,\"#d8576b\"],[0.6666666666666666,\"#ed7953\"],[0.7777777777777778,\"#fb9f3a\"],[0.8888888888888888,\"#fdca26\"],[1.0,\"#f0f921\"]]},\"colorway\":[\"#636efa\",\"#EF553B\",\"#00cc96\",\"#ab63fa\",\"#FFA15A\",\"#19d3f3\",\"#FF6692\",\"#B6E880\",\"#FF97FF\",\"#FECB52\"],\"font\":{\"color\":\"#2a3f5f\"},\"geo\":{\"bgcolor\":\"white\",\"lakecolor\":\"white\",\"landcolor\":\"#E5ECF6\",\"showlakes\":true,\"showland\":true,\"subunitcolor\":\"white\"},\"hoverlabel\":{\"align\":\"left\"},\"hovermode\":\"closest\",\"mapbox\":{\"style\":\"light\"},\"paper_bgcolor\":\"white\",\"plot_bgcolor\":\"#E5ECF6\",\"polar\":{\"angularaxis\":{\"gridcolor\":\"white\",\"linecolor\":\"white\",\"ticks\":\"\"},\"bgcolor\":\"#E5ECF6\",\"radialaxis\":{\"gridcolor\":\"white\",\"linecolor\":\"white\",\"ticks\":\"\"}},\"scene\":{\"xaxis\":{\"backgroundcolor\":\"#E5ECF6\",\"gridcolor\":\"white\",\"gridwidth\":2,\"linecolor\":\"white\",\"showbackground\":true,\"ticks\":\"\",\"zerolinecolor\":\"white\"},\"yaxis\":{\"backgroundcolor\":\"#E5ECF6\",\"gridcolor\":\"white\",\"gridwidth\":2,\"linecolor\":\"white\",\"showbackground\":true,\"ticks\":\"\",\"zerolinecolor\":\"white\"},\"zaxis\":{\"backgroundcolor\":\"#E5ECF6\",\"gridcolor\":\"white\",\"gridwidth\":2,\"linecolor\":\"white\",\"showbackground\":true,\"ticks\":\"\",\"zerolinecolor\":\"white\"}},\"shapedefaults\":{\"line\":{\"color\":\"#2a3f5f\"}},\"ternary\":{\"aaxis\":{\"gridcolor\":\"white\",\"linecolor\":\"white\",\"ticks\":\"\"},\"baxis\":{\"gridcolor\":\"white\",\"linecolor\":\"white\",\"ticks\":\"\"},\"bgcolor\":\"#E5ECF6\",\"caxis\":{\"gridcolor\":\"white\",\"linecolor\":\"white\",\"ticks\":\"\"}},\"title\":{\"x\":0.05},\"xaxis\":{\"automargin\":true,\"gridcolor\":\"white\",\"linecolor\":\"white\",\"ticks\":\"\",\"title\":{\"standoff\":15},\"zerolinecolor\":\"white\",\"zerolinewidth\":2},\"yaxis\":{\"automargin\":true,\"gridcolor\":\"white\",\"linecolor\":\"white\",\"ticks\":\"\",\"title\":{\"standoff\":15},\"zerolinecolor\":\"white\",\"zerolinewidth\":2}}},\"xaxis\":{\"anchor\":\"y\",\"domain\":[0.0,1.0],\"title\":{\"text\":\"tsne1\"}},\"yaxis\":{\"anchor\":\"x\",\"domain\":[0.0,1.0],\"title\":{\"text\":\"tsne2\"}},\"legend\":{\"title\":{\"text\":\"continent\"},\"tracegroupgap\":0},\"margin\":{\"t\":60}},                        {\"responsive\": true}                    ).then(function(){\n",
       "                            \n",
       "var gd = document.getElementById('d717ca6f-239b-469e-b52d-688120ad9302');\n",
       "var x = new MutationObserver(function (mutations, observer) {{\n",
       "        var display = window.getComputedStyle(gd).display;\n",
       "        if (!display || display === 'none') {{\n",
       "            console.log([gd, 'removed!']);\n",
       "            Plotly.purge(gd);\n",
       "            observer.disconnect();\n",
       "        }}\n",
       "}});\n",
       "\n",
       "// Listen for the removal of the full notebook cells\n",
       "var notebookContainer = gd.closest('#notebook-container');\n",
       "if (notebookContainer) {{\n",
       "    x.observe(notebookContainer, {childList: true});\n",
       "}}\n",
       "\n",
       "// Listen for the clearing of the current output cell\n",
       "var outputEl = gd.closest('.output');\n",
       "if (outputEl) {{\n",
       "    x.observe(outputEl, {childList: true});\n",
       "}}\n",
       "\n",
       "                        })                };                });            </script>        </div>"
      ]
     },
     "metadata": {},
     "output_type": "display_data"
    }
   ],
   "source": [
    "\n",
    "\n",
    "#import plotly-express\n",
    "import plotly.express as px\n",
    "\n",
    "#Add the country name into Xt\n",
    "Xt[\"country\"] = happiness[\"country\"].tolist()\n",
    "\n",
    "#intialize plotting function\n",
    "fig = px.scatter(Xt, x=\"tsne1\", y = \"tsne2\", color=\"continent\", hover_data=[\"country\"])\n",
    "#generate plot\n",
    "fig.show()"
   ]
  },
  {
   "cell_type": "markdown",
   "metadata": {},
   "source": [
    "Hover your mouse over the dots to see which countries they represent."
   ]
  },
  {
   "cell_type": "code",
   "execution_count": null,
   "metadata": {},
   "outputs": [],
   "source": []
  },
  {
   "cell_type": "markdown",
   "metadata": {},
   "source": [
    "Let's improve the plot by making the dots larger and showing the original data when you hover over them."
   ]
  },
  {
   "cell_type": "code",
   "execution_count": 67,
   "metadata": {},
   "outputs": [
    {
     "data": {
      "application/vnd.plotly.v1+json": {
       "config": {
        "plotlyServerURL": "https://plot.ly"
       },
       "data": [
        {
         "customdata": [
          [
           "Finland",
           "Europe",
           7.821,
           1.892,
           0.3
          ],
          [
           "Denmark",
           "Europe",
           7.636,
           1.953,
           0.3
          ],
          [
           "Iceland",
           "Europe",
           7.557,
           1.936,
           0.3
          ],
          [
           "Switzerland",
           "Europe",
           7.512,
           2.026,
           0.3
          ],
          [
           "Netherlands",
           "Europe",
           7.415,
           1.945,
           0.3
          ],
          [
           "Luxembourg*",
           "Europe",
           7.404,
           2.209,
           0.3
          ],
          [
           "Sweden",
           "Europe",
           7.384,
           1.92,
           0.3
          ],
          [
           "Norway",
           "Europe",
           7.365,
           1.997,
           0.3
          ],
          [
           "Austria",
           "Europe",
           7.163,
           1.931,
           0.3
          ],
          [
           "Ireland",
           "Europe",
           7.041,
           2.129,
           0.3
          ],
          [
           "Germany",
           "Europe",
           7.034,
           1.924,
           0.3
          ],
          [
           "United Kingdom",
           "Europe",
           6.943,
           1.867,
           0.3
          ],
          [
           "Czechia",
           "Europe",
           6.92,
           1.815,
           0.3
          ],
          [
           "Belgium",
           "Europe",
           6.805,
           1.907,
           0.3
          ],
          [
           "France",
           "Europe",
           6.687,
           1.863,
           0.3
          ],
          [
           "Slovenia",
           "Europe",
           6.63,
           1.81,
           0.3
          ],
          [
           "Romania",
           "Europe",
           6.477,
           1.719,
           0.3
          ],
          [
           "Spain",
           "Europe",
           6.476,
           1.808,
           0.3
          ],
          [
           "Italy",
           "Europe",
           6.467,
           1.834,
           0.3
          ],
          [
           "Kosovo",
           "Europe",
           6.455,
           1.362,
           0.3
          ],
          [
           "Malta",
           "Europe",
           6.447,
           1.838,
           0.3
          ],
          [
           "Lithuania",
           "Europe",
           6.446,
           1.804,
           0.3
          ],
          [
           "Slovakia",
           "Europe",
           6.391,
           1.736,
           0.3
          ],
          [
           "Estonia",
           "Europe",
           6.341,
           1.793,
           0.3
          ],
          [
           "Cyprus",
           "Europe",
           6.221,
           1.815,
           0.3
          ],
          [
           "Latvia",
           "Europe",
           6.18,
           1.732,
           0.3
          ],
          [
           "Serbia",
           "Europe",
           6.178,
           1.55,
           0.3
          ],
          [
           "Croatia",
           "Europe",
           6.125,
           1.705,
           0.3
          ],
          [
           "Poland",
           "Europe",
           6.123,
           1.758,
           0.3
          ],
          [
           "Hungary",
           "Europe",
           6.086,
           1.748,
           0.3
          ],
          [
           "Portugal",
           "Europe",
           6.016,
           1.76,
           0.3
          ],
          [
           "Greece",
           "Europe",
           5.948,
           1.703,
           0.3
          ],
          [
           "Moldova",
           "Europe",
           5.857,
           1.417,
           0.3
          ],
          [
           "Belarus*",
           "Europe",
           5.821,
           1.562,
           0.3
          ],
          [
           "Bosnia and Herzegovina",
           "Europe",
           5.768,
           1.468,
           0.3
          ],
          [
           "Montenegro",
           "Europe",
           5.547,
           1.573,
           0.3
          ],
          [
           "North Cyprus*",
           "Europe",
           5.467,
           1.815,
           0.3
          ],
          [
           "Russia",
           "Europe",
           5.459,
           1.685,
           0.3
          ],
          [
           "Armenia",
           "Europe",
           5.399,
           1.434,
           0.3
          ],
          [
           "Bulgaria",
           "Europe",
           5.371,
           1.625,
           0.3
          ],
          [
           "North Macedonia",
           "Europe",
           5.199,
           1.505,
           0.3
          ],
          [
           "Albania",
           "Europe",
           5.199,
           1.439,
           0.3
          ],
          [
           "Azerbaijan*",
           "Europe",
           5.173,
           1.458,
           0.3
          ],
          [
           "Ukraine",
           "Europe",
           5.084,
           1.411,
           0.3
          ],
          [
           "Georgia",
           "Europe",
           4.973,
           1.467,
           0.3
          ],
          [
           "Turkey",
           "Europe",
           4.744,
           1.707,
           0.3
          ]
         ],
         "hovertemplate": "continent=%{customdata[1]}<br>country=%{customdata[0]}<br>happiness=%{customdata[2]}<br>gdp=%{customdata[3]}<extra></extra>",
         "legendgroup": "Europe",
         "marker": {
          "color": "#636efa",
          "opacity": 0.6,
          "size": [
           0.3,
           0.3,
           0.3,
           0.3,
           0.3,
           0.3,
           0.3,
           0.3,
           0.3,
           0.3,
           0.3,
           0.3,
           0.3,
           0.3,
           0.3,
           0.3,
           0.3,
           0.3,
           0.3,
           0.3,
           0.3,
           0.3,
           0.3,
           0.3,
           0.3,
           0.3,
           0.3,
           0.3,
           0.3,
           0.3,
           0.3,
           0.3,
           0.3,
           0.3,
           0.3,
           0.3,
           0.3,
           0.3,
           0.3,
           0.3,
           0.3,
           0.3,
           0.3,
           0.3,
           0.3,
           0.3
          ],
          "sizemode": "area",
          "sizeref": 0.00075,
          "symbol": "circle"
         },
         "mode": "markers",
         "name": "Europe",
         "orientation": "v",
         "showlegend": true,
         "type": "scatter",
         "x": [
          -1.6909359,
          -1.5341245,
          -1.991676,
          -1.2826596,
          -1.6766201,
          -0.8567951,
          -1.3212261,
          -1.0869389,
          -1.5072137,
          -0.68177825,
          -0.95094335,
          -1.0606773,
          -1.6566825,
          -1.019593,
          -0.8609093,
          -1.2545602,
          -1.2885493,
          -0.6143095,
          -0.2802204,
          -2.1660347,
          -0.57138056,
          -0.7670073,
          -0.7266616,
          -0.049014654,
          0.31549266,
          -0.4464159,
          -0.99812514,
          -0.34859005,
          -0.14528751,
          -0.14169517,
          0.18951382,
          0.6997108,
          -0.6319271,
          0.45051998,
          -0.1838254,
          0.47659224,
          1.4643657,
          0.96706235,
          0.11103426,
          0.86626285,
          0.60136706,
          0.46699816,
          0.9790487,
          0.98656166,
          0.8851914,
          2.026017
         ],
         "xaxis": "x",
         "y": [
          9.992281,
          9.834429,
          9.443829,
          9.679596,
          9.307104,
          9.52239,
          9.40229,
          9.396964,
          8.704415,
          8.710614,
          8.443842,
          8.157646,
          7.7175927,
          7.519334,
          7.205257,
          6.746508,
          5.573726,
          6.0599766,
          5.8307357,
          4.066895,
          6.213467,
          5.698919,
          5.3363433,
          5.905184,
          4.8482623,
          4.546882,
          3.8070219,
          4.1247573,
          4.333121,
          4.066301,
          3.7398677,
          3.0898845,
          1.5488853,
          2.0614445,
          1.2633183,
          0.1328378,
          0.26343116,
          -0.24978246,
          -1.2035099,
          -0.5941729,
          -2.116852,
          -2.798684,
          -1.5567986,
          -2.2007957,
          -3.6483364,
          -4.010744
         ],
         "yaxis": "y"
        },
        {
         "customdata": [
          [
           "Israel",
           "Asia",
           7.364,
           1.826,
           0.3
          ],
          [
           "Bahrain",
           "Asia",
           6.647,
           1.854,
           0.3
          ],
          [
           "United Arab Emirates",
           "Asia",
           6.576,
           1.998,
           0.3
          ],
          [
           "Saudi Arabia",
           "Asia",
           6.523,
           1.87,
           0.3
          ],
          [
           "Taiwan Province of China",
           "Asia",
           6.512,
           1.897,
           0.3
          ],
          [
           "Singapore",
           "Asia",
           6.48,
           2.149,
           0.3
          ],
          [
           "Kazakhstan",
           "Asia",
           6.234,
           1.668,
           0.3
          ],
          [
           "Kuwait*",
           "Asia",
           6.106,
           1.904,
           0.3
          ],
          [
           "Uzbekistan",
           "Asia",
           6.063,
           1.219,
           0.3
          ],
          [
           "Japan",
           "Asia",
           6.039,
           1.835,
           0.3
          ],
          [
           "South Korea",
           "Asia",
           5.935,
           1.851,
           0.3
          ],
          [
           "Philippines",
           "Asia",
           5.904,
           1.268,
           0.3
          ],
          [
           "Thailand",
           "Asia",
           5.891,
           1.535,
           0.3
          ],
          [
           "Kyrgyzstan",
           "Asia",
           5.828,
           1.069,
           0.3
          ],
          [
           "Mongolia",
           "Asia",
           5.761,
           1.393,
           0.3
          ],
          [
           "Malaysia",
           "Asia",
           5.711,
           1.689,
           0.3
          ],
          [
           "China",
           "Asia",
           5.585,
           1.508,
           0.3
          ],
          [
           "Vietnam",
           "Asia",
           5.485,
           1.252,
           0.3
          ],
          [
           "Turkmenistan*",
           "Asia",
           5.474,
           1.484,
           0.3
          ],
          [
           "Hong Kong S.A.R. of China",
           "Asia",
           5.425,
           1.957,
           0.3
          ],
          [
           "Tajikistan",
           "Asia",
           5.377,
           0.966,
           0.3
          ],
          [
           "Nepal",
           "Asia",
           5.377,
           0.984,
           0.3
          ],
          [
           "Indonesia",
           "Asia",
           5.24,
           1.382,
           0.3
          ],
          [
           "Bangladesh",
           "Asia",
           5.155,
           1.06,
           0.3
          ],
          [
           "Laos",
           "Asia",
           5.14,
           1.239,
           0.3
          ],
          [
           "Iraq",
           "Asia",
           4.941,
           1.289,
           0.3
          ],
          [
           "Iran",
           "Asia",
           4.888,
           1.41,
           0.3
          ],
          [
           "Cambodia",
           "Asia",
           4.64,
           1.019,
           0.3
          ],
          [
           "Pakistan",
           "Asia",
           4.516,
           1.049,
           0.3
          ],
          [
           "Palestinian Territories*",
           "Asia",
           4.483,
           1.148,
           0.3
          ],
          [
           "Myanmar",
           "Asia",
           4.394,
           1.038,
           0.3
          ],
          [
           "Sri Lanka",
           "Asia",
           4.362,
           1.415,
           0.3
          ],
          [
           "Yemen*",
           "Asia",
           4.197,
           0.691,
           0.3
          ],
          [
           "Jordan",
           "Asia",
           4.152,
           1.324,
           0.3
          ],
          [
           "India",
           "Asia",
           3.777,
           1.167,
           0.3
          ],
          [
           "Lebanon",
           "Asia",
           2.955,
           1.392,
           0.3
          ],
          [
           "Afghanistan",
           "Asia",
           2.404,
           0.758,
           0.3
          ]
         ],
         "hovertemplate": "continent=%{customdata[1]}<br>country=%{customdata[0]}<br>happiness=%{customdata[2]}<br>gdp=%{customdata[3]}<extra></extra>",
         "legendgroup": "Asia",
         "marker": {
          "color": "#EF553B",
          "opacity": 0.6,
          "size": [
           0.3,
           0.3,
           0.3,
           0.3,
           0.3,
           0.3,
           0.3,
           0.3,
           0.3,
           0.3,
           0.3,
           0.3,
           0.3,
           0.3,
           0.3,
           0.3,
           0.3,
           0.3,
           0.3,
           0.3,
           0.3,
           0.3,
           0.3,
           0.3,
           0.3,
           0.3,
           0.3,
           0.3,
           0.3,
           0.3,
           0.3,
           0.3,
           0.3,
           0.3,
           0.3,
           0.3,
           0.3
          ],
          "sizemode": "area",
          "sizeref": 0.00075,
          "symbol": "circle"
         },
         "mode": "markers",
         "name": "Asia",
         "orientation": "v",
         "showlegend": true,
         "type": "scatter",
         "x": [
          -1.9986106,
          -1.1928159,
          -0.4431588,
          -0.9874431,
          -0.5721791,
          0.17700998,
          -0.8777979,
          0.4742745,
          -1.8582866,
          0.6072766,
          0.90164465,
          -1.4677763,
          -0.3544318,
          -1.6700093,
          -0.53693926,
          0.50852716,
          0.052561745,
          -0.5293313,
          0.6010435,
          1.8587286,
          -0.96755433,
          -0.8477752,
          0.08026121,
          -0.35841802,
          -0.07111426,
          0.90237856,
          1.3368922,
          0.8692704,
          0.56386554,
          1.751224,
          1.353267,
          2.3930588,
          1.264412,
          2.3882663,
          2.1288435,
          2.687657,
          2.3676038
         ],
         "xaxis": "x",
         "y": [
          8.957641,
          6.871254,
          7.036427,
          6.4250746,
          6.424074,
          7.367343,
          4.6213226,
          4.520035,
          2.1177619,
          4.1257257,
          3.4468853,
          1.5191082,
          2.0924315,
          0.944554,
          0.9776418,
          1.0451934,
          0.14926645,
          -0.90657264,
          -0.2465168,
          0.453337,
          -2.4315462,
          -3.186322,
          -2.1310725,
          -3.9291813,
          -3.5546985,
          -4.2042313,
          -3.967416,
          -5.830132,
          -6.5808215,
          -6.2346263,
          -6.792218,
          -6.1579967,
          -7.5479136,
          -6.9230924,
          -8.225305,
          -9.17365,
          -9.660438
         ],
         "yaxis": "y"
        },
        {
         "customdata": [
          [
           "New Zealand",
           "Oceania",
           7.2,
           1.852,
           0.3
          ],
          [
           "Australia",
           "Oceania",
           7.162,
           1.9,
           0.3
          ]
         ],
         "hovertemplate": "continent=%{customdata[1]}<br>country=%{customdata[0]}<br>happiness=%{customdata[2]}<br>gdp=%{customdata[3]}<extra></extra>",
         "legendgroup": "Oceania",
         "marker": {
          "color": "#00cc96",
          "opacity": 0.6,
          "size": [
           0.3,
           0.3
          ],
          "sizemode": "area",
          "sizeref": 0.00075,
          "symbol": "circle"
         },
         "mode": "markers",
         "name": "Oceania",
         "orientation": "v",
         "showlegend": true,
         "type": "scatter",
         "x": [
          -1.0578591,
          -1.5518762
         ],
         "xaxis": "x",
         "y": [
          9.028359,
          8.732131
         ],
         "yaxis": "y"
        },
        {
         "customdata": [
          [
           "Canada",
           "North America",
           7.025,
           1.886,
           0.3
          ],
          [
           "United States",
           "North America",
           6.977,
           1.982,
           0.3
          ],
          [
           "Costa Rica",
           "North America",
           6.582,
           1.584,
           0.3
          ],
          [
           "Panama",
           "North America",
           6.309,
           1.715,
           0.3
          ],
          [
           "Guatemala*",
           "North America",
           6.262,
           1.274,
           0.3
          ],
          [
           "Nicaragua",
           "North America",
           6.165,
           1.105,
           0.3
          ],
          [
           "Mexico",
           "North America",
           6.128,
           1.552,
           0.3
          ],
          [
           "El Salvador",
           "North America",
           6.12,
           1.265,
           0.3
          ],
          [
           "Honduras",
           "North America",
           6.022,
           1.111,
           0.3
          ],
          [
           "Jamaica",
           "North America",
           5.85,
           1.296,
           0.3
          ],
          [
           "Dominican Republic",
           "North America",
           5.737,
           1.538,
           0.3
          ]
         ],
         "hovertemplate": "continent=%{customdata[1]}<br>country=%{customdata[0]}<br>happiness=%{customdata[2]}<br>gdp=%{customdata[3]}<extra></extra>",
         "legendgroup": "North America",
         "marker": {
          "color": "#ab63fa",
          "opacity": 0.6,
          "size": [
           0.3,
           0.3,
           0.3,
           0.3,
           0.3,
           0.3,
           0.3,
           0.3,
           0.3,
           0.3,
           0.3
          ],
          "sizemode": "area",
          "sizeref": 0.00075,
          "symbol": "circle"
         },
         "mode": "markers",
         "name": "North America",
         "orientation": "v",
         "showlegend": true,
         "type": "scatter",
         "x": [
          -1.1261001,
          -1.5008227,
          -1.6117992,
          -0.6977712,
          -2.1012332,
          -2.1296751,
          -1.1034818,
          -1.9827688,
          -1.9474974,
          -0.9763063,
          0.05637442
         ],
         "xaxis": "x",
         "y": [
          8.453683,
          8.078822,
          5.995972,
          5.0065894,
          2.932922,
          2.283703,
          3.2678685,
          2.4764216,
          1.7695893,
          1.2822194,
          1.0115054
         ],
         "yaxis": "y"
        },
        {
         "customdata": [
          [
           "Uruguay",
           "South America",
           6.474,
           1.615,
           0.3
          ],
          [
           "Brazil",
           "South America",
           6.293,
           1.462,
           0.3
          ],
          [
           "Chile",
           "South America",
           6.172,
           1.651,
           0.3
          ],
          [
           "Argentina",
           "South America",
           5.967,
           1.592,
           0.3
          ],
          [
           "Colombia",
           "South America",
           5.781,
           1.452,
           0.3
          ],
          [
           "Bolivia",
           "South America",
           5.6,
           1.256,
           0.3
          ],
          [
           "Paraguay",
           "South America",
           5.578,
           1.409,
           0.3
          ],
          [
           "Peru",
           "South America",
           5.559,
           1.397,
           0.3
          ],
          [
           "Ecuador",
           "South America",
           5.533,
           1.352,
           0.3
          ],
          [
           "Venezuela",
           "South America",
           4.925,
           0,
           0.3
          ]
         ],
         "hovertemplate": "continent=%{customdata[1]}<br>country=%{customdata[0]}<br>happiness=%{customdata[2]}<br>gdp=%{customdata[3]}<extra></extra>",
         "legendgroup": "South America",
         "marker": {
          "color": "#FFA15A",
          "opacity": 0.6,
          "size": [
           0.3,
           0.3,
           0.3,
           0.3,
           0.3,
           0.3,
           0.3,
           0.3,
           0.3,
           0.3
          ],
          "sizemode": "area",
          "sizeref": 0.00075,
          "symbol": "circle"
         },
         "mode": "markers",
         "name": "South America",
         "orientation": "v",
         "showlegend": true,
         "type": "scatter",
         "x": [
          -1.4038595,
          -1.4921675,
          -0.49875203,
          -0.27130684,
          -0.31587002,
          -0.76953715,
          -0.1453945,
          -0.25052378,
          -0.27904707,
          -1.6769543
         ],
         "xaxis": "x",
         "y": [
          5.7692966,
          4.01893,
          4.138003,
          2.887023,
          1.0796974,
          -0.3275633,
          0.15993336,
          -0.32431433,
          -0.5312304,
          -6.4005904
         ],
         "yaxis": "y"
        },
        {
         "customdata": [
          [
           "Mauritius",
           "Africa",
           6.071,
           1.591,
           0.3
          ],
          [
           "Libya*",
           "Africa",
           5.33,
           1.476,
           0.3
          ],
          [
           "Ivory Coast",
           "Africa",
           5.235,
           1.094,
           0.3
          ],
          [
           "South Africa",
           "Africa",
           5.194,
           1.425,
           0.3
          ],
          [
           "Gambia*",
           "Africa",
           5.164,
           0.785,
           0.3
          ],
          [
           "Algeria",
           "Africa",
           5.122,
           1.363,
           0.3
          ],
          [
           "Liberia*",
           "Africa",
           5.122,
           0.636,
           0.3
          ],
          [
           "Congo",
           "Africa",
           5.075,
           0.95,
           0.3
          ],
          [
           "Morocco",
           "Africa",
           5.06,
           1.208,
           0.3
          ],
          [
           "Mozambique",
           "Africa",
           5.048,
           0.578,
           0.3
          ],
          [
           "Cameroon",
           "Africa",
           5.048,
           0.968,
           0.3
          ],
          [
           "Senegal",
           "Africa",
           5.046,
           0.933,
           0.3
          ],
          [
           "Niger*",
           "Africa",
           5.003,
           0.57,
           0.3
          ],
          [
           "Gabon",
           "Africa",
           4.958,
           1.459,
           0.3
          ],
          [
           "Guinea",
           "Africa",
           4.891,
           0.848,
           0.3
          ],
          [
           "Ghana",
           "Africa",
           4.872,
           1.112,
           0.3
          ],
          [
           "Burkina Faso",
           "Africa",
           4.67,
           0.779,
           0.3
          ],
          [
           "Benin",
           "Africa",
           4.623,
           0.932,
           0.3
          ],
          [
           "Comoros*",
           "Africa",
           4.609,
           0.899,
           0.3
          ],
          [
           "Uganda",
           "Africa",
           4.603,
           0.777,
           0.3
          ],
          [
           "Nigeria",
           "Africa",
           4.552,
           1.079,
           0.3
          ],
          [
           "Kenya",
           "Africa",
           4.543,
           1.032,
           0.3
          ],
          [
           "Tunisia",
           "Africa",
           4.516,
           1.35,
           0.3
          ],
          [
           "Mali",
           "Africa",
           4.479,
           0.792,
           0.3
          ],
          [
           "Namibia",
           "Africa",
           4.459,
           1.292,
           0.3
          ],
          [
           "Eswatini, Kingdom of*",
           "Africa",
           4.396,
           1.274,
           0.3
          ],
          [
           "Madagascar*",
           "Africa",
           4.339,
           0.67,
           0.3
          ],
          [
           "Egypt",
           "Africa",
           4.288,
           1.388,
           0.3
          ],
          [
           "Chad*",
           "Africa",
           4.251,
           0.662,
           0.3
          ],
          [
           "Ethiopia",
           "Africa",
           4.241,
           0.788,
           0.3
          ],
          [
           "Mauritania*",
           "Africa",
           4.153,
           1.1,
           0.3
          ],
          [
           "Togo",
           "Africa",
           4.112,
           0.771,
           0.3
          ],
          [
           "Zambia",
           "Africa",
           3.76,
           0.93,
           0.3
          ],
          [
           "Malawi",
           "Africa",
           3.75,
           0.648,
           0.3
          ],
          [
           "Tanzania",
           "Africa",
           3.702,
           0.848,
           0.3
          ],
          [
           "Sierra Leone",
           "Africa",
           3.574,
           0.686,
           0.3
          ],
          [
           "Lesotho*",
           "Africa",
           3.512,
           0.839,
           0.3
          ],
          [
           "Botswana*",
           "Africa",
           3.471,
           1.503,
           0.3
          ],
          [
           "Rwanda*",
           "Africa",
           3.268,
           0.785,
           0.3
          ],
          [
           "Zimbabwe",
           "Africa",
           2.995,
           0.947,
           0.3
          ]
         ],
         "hovertemplate": "continent=%{customdata[1]}<br>country=%{customdata[0]}<br>happiness=%{customdata[2]}<br>gdp=%{customdata[3]}<extra></extra>",
         "legendgroup": "Africa",
         "marker": {
          "color": "#19d3f3",
          "opacity": 0.6,
          "size": [
           0.3,
           0.3,
           0.3,
           0.3,
           0.3,
           0.3,
           0.3,
           0.3,
           0.3,
           0.3,
           0.3,
           0.3,
           0.3,
           0.3,
           0.3,
           0.3,
           0.3,
           0.3,
           0.3,
           0.3,
           0.3,
           0.3,
           0.3,
           0.3,
           0.3,
           0.3,
           0.3,
           0.3,
           0.3,
           0.3,
           0.3,
           0.3,
           0.3,
           0.3,
           0.3,
           0.3,
           0.3,
           0.3,
           0.3,
           0.3
          ],
          "sizemode": "area",
          "sizeref": 0.00075,
          "symbol": "circle"
         },
         "mode": "markers",
         "name": "Africa",
         "orientation": "v",
         "showlegend": true,
         "type": "scatter",
         "x": [
          -0.6333498,
          0.52380085,
          -0.5517139,
          1.0449464,
          -1.0212276,
          1.3384521,
          -1.0754536,
          -0.46056068,
          0.07646788,
          -1.149464,
          -0.32343322,
          -0.34920162,
          -0.9918217,
          1.1526136,
          -0.3045849,
          0.35885957,
          -0.023411382,
          -0.45135948,
          0.14251181,
          0.5334987,
          1.0470023,
          0.80107105,
          1.8926051,
          0.2990373,
          1.8479462,
          1.8244333,
          0.5663164,
          2.3199787,
          0.51590866,
          1.2025603,
          1.8767384,
          0.8280634,
          1.779825,
          1.3015431,
          1.7378718,
          1.5869565,
          2.1680505,
          2.7392159,
          1.7583739,
          2.3835855
         ],
         "xaxis": "x",
         "y": [
          3.3458042,
          -1.3264571,
          -4.3861427,
          -1.8984206,
          -5.0595984,
          -2.7818441,
          -5.445831,
          -4.987268,
          -4.3616085,
          -5.6811357,
          -5.023082,
          -4.9421096,
          -5.7640505,
          -3.7720783,
          -5.770059,
          -5.15751,
          -6.3982005,
          -6.9977407,
          -6.686139,
          -6.58364,
          -6.268102,
          -6.3836327,
          -5.593312,
          -7.1017714,
          -6.1877484,
          -6.5288982,
          -7.520813,
          -6.558337,
          -7.8292108,
          -7.377556,
          -7.1763015,
          -8.135222,
          -8.348594,
          -8.751371,
          -8.49754,
          -8.869051,
          -8.692164,
          -8.388913,
          -9.316504,
          -9.142536
         ],
         "yaxis": "y"
        }
       ],
       "layout": {
        "legend": {
         "itemsizing": "constant",
         "title": {
          "text": "continent"
         },
         "tracegroupgap": 0
        },
        "margin": {
         "t": 60
        },
        "template": {
         "data": {
          "bar": [
           {
            "error_x": {
             "color": "#2a3f5f"
            },
            "error_y": {
             "color": "#2a3f5f"
            },
            "marker": {
             "line": {
              "color": "#E5ECF6",
              "width": 0.5
             },
             "pattern": {
              "fillmode": "overlay",
              "size": 10,
              "solidity": 0.2
             }
            },
            "type": "bar"
           }
          ],
          "barpolar": [
           {
            "marker": {
             "line": {
              "color": "#E5ECF6",
              "width": 0.5
             },
             "pattern": {
              "fillmode": "overlay",
              "size": 10,
              "solidity": 0.2
             }
            },
            "type": "barpolar"
           }
          ],
          "carpet": [
           {
            "aaxis": {
             "endlinecolor": "#2a3f5f",
             "gridcolor": "white",
             "linecolor": "white",
             "minorgridcolor": "white",
             "startlinecolor": "#2a3f5f"
            },
            "baxis": {
             "endlinecolor": "#2a3f5f",
             "gridcolor": "white",
             "linecolor": "white",
             "minorgridcolor": "white",
             "startlinecolor": "#2a3f5f"
            },
            "type": "carpet"
           }
          ],
          "choropleth": [
           {
            "colorbar": {
             "outlinewidth": 0,
             "ticks": ""
            },
            "type": "choropleth"
           }
          ],
          "contour": [
           {
            "colorbar": {
             "outlinewidth": 0,
             "ticks": ""
            },
            "colorscale": [
             [
              0,
              "#0d0887"
             ],
             [
              0.1111111111111111,
              "#46039f"
             ],
             [
              0.2222222222222222,
              "#7201a8"
             ],
             [
              0.3333333333333333,
              "#9c179e"
             ],
             [
              0.4444444444444444,
              "#bd3786"
             ],
             [
              0.5555555555555556,
              "#d8576b"
             ],
             [
              0.6666666666666666,
              "#ed7953"
             ],
             [
              0.7777777777777778,
              "#fb9f3a"
             ],
             [
              0.8888888888888888,
              "#fdca26"
             ],
             [
              1,
              "#f0f921"
             ]
            ],
            "type": "contour"
           }
          ],
          "contourcarpet": [
           {
            "colorbar": {
             "outlinewidth": 0,
             "ticks": ""
            },
            "type": "contourcarpet"
           }
          ],
          "heatmap": [
           {
            "colorbar": {
             "outlinewidth": 0,
             "ticks": ""
            },
            "colorscale": [
             [
              0,
              "#0d0887"
             ],
             [
              0.1111111111111111,
              "#46039f"
             ],
             [
              0.2222222222222222,
              "#7201a8"
             ],
             [
              0.3333333333333333,
              "#9c179e"
             ],
             [
              0.4444444444444444,
              "#bd3786"
             ],
             [
              0.5555555555555556,
              "#d8576b"
             ],
             [
              0.6666666666666666,
              "#ed7953"
             ],
             [
              0.7777777777777778,
              "#fb9f3a"
             ],
             [
              0.8888888888888888,
              "#fdca26"
             ],
             [
              1,
              "#f0f921"
             ]
            ],
            "type": "heatmap"
           }
          ],
          "heatmapgl": [
           {
            "colorbar": {
             "outlinewidth": 0,
             "ticks": ""
            },
            "colorscale": [
             [
              0,
              "#0d0887"
             ],
             [
              0.1111111111111111,
              "#46039f"
             ],
             [
              0.2222222222222222,
              "#7201a8"
             ],
             [
              0.3333333333333333,
              "#9c179e"
             ],
             [
              0.4444444444444444,
              "#bd3786"
             ],
             [
              0.5555555555555556,
              "#d8576b"
             ],
             [
              0.6666666666666666,
              "#ed7953"
             ],
             [
              0.7777777777777778,
              "#fb9f3a"
             ],
             [
              0.8888888888888888,
              "#fdca26"
             ],
             [
              1,
              "#f0f921"
             ]
            ],
            "type": "heatmapgl"
           }
          ],
          "histogram": [
           {
            "marker": {
             "pattern": {
              "fillmode": "overlay",
              "size": 10,
              "solidity": 0.2
             }
            },
            "type": "histogram"
           }
          ],
          "histogram2d": [
           {
            "colorbar": {
             "outlinewidth": 0,
             "ticks": ""
            },
            "colorscale": [
             [
              0,
              "#0d0887"
             ],
             [
              0.1111111111111111,
              "#46039f"
             ],
             [
              0.2222222222222222,
              "#7201a8"
             ],
             [
              0.3333333333333333,
              "#9c179e"
             ],
             [
              0.4444444444444444,
              "#bd3786"
             ],
             [
              0.5555555555555556,
              "#d8576b"
             ],
             [
              0.6666666666666666,
              "#ed7953"
             ],
             [
              0.7777777777777778,
              "#fb9f3a"
             ],
             [
              0.8888888888888888,
              "#fdca26"
             ],
             [
              1,
              "#f0f921"
             ]
            ],
            "type": "histogram2d"
           }
          ],
          "histogram2dcontour": [
           {
            "colorbar": {
             "outlinewidth": 0,
             "ticks": ""
            },
            "colorscale": [
             [
              0,
              "#0d0887"
             ],
             [
              0.1111111111111111,
              "#46039f"
             ],
             [
              0.2222222222222222,
              "#7201a8"
             ],
             [
              0.3333333333333333,
              "#9c179e"
             ],
             [
              0.4444444444444444,
              "#bd3786"
             ],
             [
              0.5555555555555556,
              "#d8576b"
             ],
             [
              0.6666666666666666,
              "#ed7953"
             ],
             [
              0.7777777777777778,
              "#fb9f3a"
             ],
             [
              0.8888888888888888,
              "#fdca26"
             ],
             [
              1,
              "#f0f921"
             ]
            ],
            "type": "histogram2dcontour"
           }
          ],
          "mesh3d": [
           {
            "colorbar": {
             "outlinewidth": 0,
             "ticks": ""
            },
            "type": "mesh3d"
           }
          ],
          "parcoords": [
           {
            "line": {
             "colorbar": {
              "outlinewidth": 0,
              "ticks": ""
             }
            },
            "type": "parcoords"
           }
          ],
          "pie": [
           {
            "automargin": true,
            "type": "pie"
           }
          ],
          "scatter": [
           {
            "marker": {
             "colorbar": {
              "outlinewidth": 0,
              "ticks": ""
             }
            },
            "type": "scatter"
           }
          ],
          "scatter3d": [
           {
            "line": {
             "colorbar": {
              "outlinewidth": 0,
              "ticks": ""
             }
            },
            "marker": {
             "colorbar": {
              "outlinewidth": 0,
              "ticks": ""
             }
            },
            "type": "scatter3d"
           }
          ],
          "scattercarpet": [
           {
            "marker": {
             "colorbar": {
              "outlinewidth": 0,
              "ticks": ""
             }
            },
            "type": "scattercarpet"
           }
          ],
          "scattergeo": [
           {
            "marker": {
             "colorbar": {
              "outlinewidth": 0,
              "ticks": ""
             }
            },
            "type": "scattergeo"
           }
          ],
          "scattergl": [
           {
            "marker": {
             "colorbar": {
              "outlinewidth": 0,
              "ticks": ""
             }
            },
            "type": "scattergl"
           }
          ],
          "scattermapbox": [
           {
            "marker": {
             "colorbar": {
              "outlinewidth": 0,
              "ticks": ""
             }
            },
            "type": "scattermapbox"
           }
          ],
          "scatterpolar": [
           {
            "marker": {
             "colorbar": {
              "outlinewidth": 0,
              "ticks": ""
             }
            },
            "type": "scatterpolar"
           }
          ],
          "scatterpolargl": [
           {
            "marker": {
             "colorbar": {
              "outlinewidth": 0,
              "ticks": ""
             }
            },
            "type": "scatterpolargl"
           }
          ],
          "scatterternary": [
           {
            "marker": {
             "colorbar": {
              "outlinewidth": 0,
              "ticks": ""
             }
            },
            "type": "scatterternary"
           }
          ],
          "surface": [
           {
            "colorbar": {
             "outlinewidth": 0,
             "ticks": ""
            },
            "colorscale": [
             [
              0,
              "#0d0887"
             ],
             [
              0.1111111111111111,
              "#46039f"
             ],
             [
              0.2222222222222222,
              "#7201a8"
             ],
             [
              0.3333333333333333,
              "#9c179e"
             ],
             [
              0.4444444444444444,
              "#bd3786"
             ],
             [
              0.5555555555555556,
              "#d8576b"
             ],
             [
              0.6666666666666666,
              "#ed7953"
             ],
             [
              0.7777777777777778,
              "#fb9f3a"
             ],
             [
              0.8888888888888888,
              "#fdca26"
             ],
             [
              1,
              "#f0f921"
             ]
            ],
            "type": "surface"
           }
          ],
          "table": [
           {
            "cells": {
             "fill": {
              "color": "#EBF0F8"
             },
             "line": {
              "color": "white"
             }
            },
            "header": {
             "fill": {
              "color": "#C8D4E3"
             },
             "line": {
              "color": "white"
             }
            },
            "type": "table"
           }
          ]
         },
         "layout": {
          "annotationdefaults": {
           "arrowcolor": "#2a3f5f",
           "arrowhead": 0,
           "arrowwidth": 1
          },
          "autotypenumbers": "strict",
          "coloraxis": {
           "colorbar": {
            "outlinewidth": 0,
            "ticks": ""
           }
          },
          "colorscale": {
           "diverging": [
            [
             0,
             "#8e0152"
            ],
            [
             0.1,
             "#c51b7d"
            ],
            [
             0.2,
             "#de77ae"
            ],
            [
             0.3,
             "#f1b6da"
            ],
            [
             0.4,
             "#fde0ef"
            ],
            [
             0.5,
             "#f7f7f7"
            ],
            [
             0.6,
             "#e6f5d0"
            ],
            [
             0.7,
             "#b8e186"
            ],
            [
             0.8,
             "#7fbc41"
            ],
            [
             0.9,
             "#4d9221"
            ],
            [
             1,
             "#276419"
            ]
           ],
           "sequential": [
            [
             0,
             "#0d0887"
            ],
            [
             0.1111111111111111,
             "#46039f"
            ],
            [
             0.2222222222222222,
             "#7201a8"
            ],
            [
             0.3333333333333333,
             "#9c179e"
            ],
            [
             0.4444444444444444,
             "#bd3786"
            ],
            [
             0.5555555555555556,
             "#d8576b"
            ],
            [
             0.6666666666666666,
             "#ed7953"
            ],
            [
             0.7777777777777778,
             "#fb9f3a"
            ],
            [
             0.8888888888888888,
             "#fdca26"
            ],
            [
             1,
             "#f0f921"
            ]
           ],
           "sequentialminus": [
            [
             0,
             "#0d0887"
            ],
            [
             0.1111111111111111,
             "#46039f"
            ],
            [
             0.2222222222222222,
             "#7201a8"
            ],
            [
             0.3333333333333333,
             "#9c179e"
            ],
            [
             0.4444444444444444,
             "#bd3786"
            ],
            [
             0.5555555555555556,
             "#d8576b"
            ],
            [
             0.6666666666666666,
             "#ed7953"
            ],
            [
             0.7777777777777778,
             "#fb9f3a"
            ],
            [
             0.8888888888888888,
             "#fdca26"
            ],
            [
             1,
             "#f0f921"
            ]
           ]
          },
          "colorway": [
           "#636efa",
           "#EF553B",
           "#00cc96",
           "#ab63fa",
           "#FFA15A",
           "#19d3f3",
           "#FF6692",
           "#B6E880",
           "#FF97FF",
           "#FECB52"
          ],
          "font": {
           "color": "#2a3f5f"
          },
          "geo": {
           "bgcolor": "white",
           "lakecolor": "white",
           "landcolor": "#E5ECF6",
           "showlakes": true,
           "showland": true,
           "subunitcolor": "white"
          },
          "hoverlabel": {
           "align": "left"
          },
          "hovermode": "closest",
          "mapbox": {
           "style": "light"
          },
          "paper_bgcolor": "white",
          "plot_bgcolor": "#E5ECF6",
          "polar": {
           "angularaxis": {
            "gridcolor": "white",
            "linecolor": "white",
            "ticks": ""
           },
           "bgcolor": "#E5ECF6",
           "radialaxis": {
            "gridcolor": "white",
            "linecolor": "white",
            "ticks": ""
           }
          },
          "scene": {
           "xaxis": {
            "backgroundcolor": "#E5ECF6",
            "gridcolor": "white",
            "gridwidth": 2,
            "linecolor": "white",
            "showbackground": true,
            "ticks": "",
            "zerolinecolor": "white"
           },
           "yaxis": {
            "backgroundcolor": "#E5ECF6",
            "gridcolor": "white",
            "gridwidth": 2,
            "linecolor": "white",
            "showbackground": true,
            "ticks": "",
            "zerolinecolor": "white"
           },
           "zaxis": {
            "backgroundcolor": "#E5ECF6",
            "gridcolor": "white",
            "gridwidth": 2,
            "linecolor": "white",
            "showbackground": true,
            "ticks": "",
            "zerolinecolor": "white"
           }
          },
          "shapedefaults": {
           "line": {
            "color": "#2a3f5f"
           }
          },
          "ternary": {
           "aaxis": {
            "gridcolor": "white",
            "linecolor": "white",
            "ticks": ""
           },
           "baxis": {
            "gridcolor": "white",
            "linecolor": "white",
            "ticks": ""
           },
           "bgcolor": "#E5ECF6",
           "caxis": {
            "gridcolor": "white",
            "linecolor": "white",
            "ticks": ""
           }
          },
          "title": {
           "x": 0.05
          },
          "xaxis": {
           "automargin": true,
           "gridcolor": "white",
           "linecolor": "white",
           "ticks": "",
           "title": {
            "standoff": 15
           },
           "zerolinecolor": "white",
           "zerolinewidth": 2
          },
          "yaxis": {
           "automargin": true,
           "gridcolor": "white",
           "linecolor": "white",
           "ticks": "",
           "title": {
            "standoff": 15
           },
           "zerolinecolor": "white",
           "zerolinewidth": 2
          }
         }
        },
        "xaxis": {
         "anchor": "y",
         "domain": [
          0,
          1
         ],
         "title": {
          "text": "tsne1"
         }
        },
        "yaxis": {
         "anchor": "x",
         "domain": [
          0,
          1
         ],
         "title": {
          "text": "tsne2"
         }
        }
       }
      },
      "text/html": [
       "<div>                            <div id=\"7cb09a49-cffa-43e2-adff-454ce097dc3c\" class=\"plotly-graph-div\" style=\"height:525px; width:100%;\"></div>            <script type=\"text/javascript\">                require([\"plotly\"], function(Plotly) {                    window.PLOTLYENV=window.PLOTLYENV || {};                                    if (document.getElementById(\"7cb09a49-cffa-43e2-adff-454ce097dc3c\")) {                    Plotly.newPlot(                        \"7cb09a49-cffa-43e2-adff-454ce097dc3c\",                        [{\"customdata\":[[\"Finland\",\"Europe\",7.821,1.892,0.3],[\"Denmark\",\"Europe\",7.636,1.953,0.3],[\"Iceland\",\"Europe\",7.557,1.936,0.3],[\"Switzerland\",\"Europe\",7.512,2.026,0.3],[\"Netherlands\",\"Europe\",7.415,1.945,0.3],[\"Luxembourg*\",\"Europe\",7.404,2.209,0.3],[\"Sweden\",\"Europe\",7.384,1.92,0.3],[\"Norway\",\"Europe\",7.365,1.997,0.3],[\"Austria\",\"Europe\",7.163,1.931,0.3],[\"Ireland\",\"Europe\",7.041,2.129,0.3],[\"Germany\",\"Europe\",7.034,1.924,0.3],[\"United Kingdom\",\"Europe\",6.943,1.867,0.3],[\"Czechia\",\"Europe\",6.92,1.815,0.3],[\"Belgium\",\"Europe\",6.805,1.907,0.3],[\"France\",\"Europe\",6.687,1.863,0.3],[\"Slovenia\",\"Europe\",6.63,1.81,0.3],[\"Romania\",\"Europe\",6.477,1.719,0.3],[\"Spain\",\"Europe\",6.476,1.808,0.3],[\"Italy\",\"Europe\",6.467,1.834,0.3],[\"Kosovo\",\"Europe\",6.455,1.362,0.3],[\"Malta\",\"Europe\",6.447,1.838,0.3],[\"Lithuania\",\"Europe\",6.446,1.804,0.3],[\"Slovakia\",\"Europe\",6.391,1.736,0.3],[\"Estonia\",\"Europe\",6.341,1.793,0.3],[\"Cyprus\",\"Europe\",6.221,1.815,0.3],[\"Latvia\",\"Europe\",6.18,1.732,0.3],[\"Serbia\",\"Europe\",6.178,1.55,0.3],[\"Croatia\",\"Europe\",6.125,1.705,0.3],[\"Poland\",\"Europe\",6.123,1.758,0.3],[\"Hungary\",\"Europe\",6.086,1.748,0.3],[\"Portugal\",\"Europe\",6.016,1.76,0.3],[\"Greece\",\"Europe\",5.948,1.703,0.3],[\"Moldova\",\"Europe\",5.857,1.417,0.3],[\"Belarus*\",\"Europe\",5.821,1.562,0.3],[\"Bosnia and Herzegovina\",\"Europe\",5.768,1.468,0.3],[\"Montenegro\",\"Europe\",5.547,1.573,0.3],[\"North Cyprus*\",\"Europe\",5.467,1.815,0.3],[\"Russia\",\"Europe\",5.459,1.685,0.3],[\"Armenia\",\"Europe\",5.399,1.434,0.3],[\"Bulgaria\",\"Europe\",5.371,1.625,0.3],[\"North Macedonia\",\"Europe\",5.199,1.505,0.3],[\"Albania\",\"Europe\",5.199,1.439,0.3],[\"Azerbaijan*\",\"Europe\",5.173,1.458,0.3],[\"Ukraine\",\"Europe\",5.084,1.411,0.3],[\"Georgia\",\"Europe\",4.973,1.467,0.3],[\"Turkey\",\"Europe\",4.744,1.707,0.3]],\"hovertemplate\":\"continent=%{customdata[1]}<br>country=%{customdata[0]}<br>happiness=%{customdata[2]}<br>gdp=%{customdata[3]}<extra></extra>\",\"legendgroup\":\"Europe\",\"marker\":{\"color\":\"#636efa\",\"opacity\":0.6,\"size\":[0.3,0.3,0.3,0.3,0.3,0.3,0.3,0.3,0.3,0.3,0.3,0.3,0.3,0.3,0.3,0.3,0.3,0.3,0.3,0.3,0.3,0.3,0.3,0.3,0.3,0.3,0.3,0.3,0.3,0.3,0.3,0.3,0.3,0.3,0.3,0.3,0.3,0.3,0.3,0.3,0.3,0.3,0.3,0.3,0.3,0.3],\"sizemode\":\"area\",\"sizeref\":0.00075,\"symbol\":\"circle\"},\"mode\":\"markers\",\"name\":\"Europe\",\"orientation\":\"v\",\"showlegend\":true,\"x\":[-1.6909359,-1.5341245,-1.991676,-1.2826596,-1.6766201,-0.8567951,-1.3212261,-1.0869389,-1.5072137,-0.68177825,-0.95094335,-1.0606773,-1.6566825,-1.019593,-0.8609093,-1.2545602,-1.2885493,-0.6143095,-0.2802204,-2.1660347,-0.57138056,-0.7670073,-0.7266616,-0.049014654,0.31549266,-0.4464159,-0.99812514,-0.34859005,-0.14528751,-0.14169517,0.18951382,0.6997108,-0.6319271,0.45051998,-0.1838254,0.47659224,1.4643657,0.96706235,0.11103426,0.86626285,0.60136706,0.46699816,0.9790487,0.98656166,0.8851914,2.026017],\"xaxis\":\"x\",\"y\":[9.992281,9.834429,9.443829,9.679596,9.307104,9.52239,9.40229,9.396964,8.704415,8.710614,8.443842,8.157646,7.7175927,7.519334,7.205257,6.746508,5.573726,6.0599766,5.8307357,4.066895,6.213467,5.698919,5.3363433,5.905184,4.8482623,4.546882,3.8070219,4.1247573,4.333121,4.066301,3.7398677,3.0898845,1.5488853,2.0614445,1.2633183,0.1328378,0.26343116,-0.24978246,-1.2035099,-0.5941729,-2.116852,-2.798684,-1.5567986,-2.2007957,-3.6483364,-4.010744],\"yaxis\":\"y\",\"type\":\"scatter\"},{\"customdata\":[[\"Israel\",\"Asia\",7.364,1.826,0.3],[\"Bahrain\",\"Asia\",6.647,1.854,0.3],[\"United Arab Emirates\",\"Asia\",6.576,1.998,0.3],[\"Saudi Arabia\",\"Asia\",6.523,1.87,0.3],[\"Taiwan Province of China\",\"Asia\",6.512,1.897,0.3],[\"Singapore\",\"Asia\",6.48,2.149,0.3],[\"Kazakhstan\",\"Asia\",6.234,1.668,0.3],[\"Kuwait*\",\"Asia\",6.106,1.904,0.3],[\"Uzbekistan\",\"Asia\",6.063,1.219,0.3],[\"Japan\",\"Asia\",6.039,1.835,0.3],[\"South Korea\",\"Asia\",5.935,1.851,0.3],[\"Philippines\",\"Asia\",5.904,1.268,0.3],[\"Thailand\",\"Asia\",5.891,1.535,0.3],[\"Kyrgyzstan\",\"Asia\",5.828,1.069,0.3],[\"Mongolia\",\"Asia\",5.761,1.393,0.3],[\"Malaysia\",\"Asia\",5.711,1.689,0.3],[\"China\",\"Asia\",5.585,1.508,0.3],[\"Vietnam\",\"Asia\",5.485,1.252,0.3],[\"Turkmenistan*\",\"Asia\",5.474,1.484,0.3],[\"Hong Kong S.A.R. of China\",\"Asia\",5.425,1.957,0.3],[\"Tajikistan\",\"Asia\",5.377,0.966,0.3],[\"Nepal\",\"Asia\",5.377,0.984,0.3],[\"Indonesia\",\"Asia\",5.24,1.382,0.3],[\"Bangladesh\",\"Asia\",5.155,1.06,0.3],[\"Laos\",\"Asia\",5.14,1.239,0.3],[\"Iraq\",\"Asia\",4.941,1.289,0.3],[\"Iran\",\"Asia\",4.888,1.41,0.3],[\"Cambodia\",\"Asia\",4.64,1.019,0.3],[\"Pakistan\",\"Asia\",4.516,1.049,0.3],[\"Palestinian Territories*\",\"Asia\",4.483,1.148,0.3],[\"Myanmar\",\"Asia\",4.394,1.038,0.3],[\"Sri Lanka\",\"Asia\",4.362,1.415,0.3],[\"Yemen*\",\"Asia\",4.197,0.691,0.3],[\"Jordan\",\"Asia\",4.152,1.324,0.3],[\"India\",\"Asia\",3.777,1.167,0.3],[\"Lebanon\",\"Asia\",2.955,1.392,0.3],[\"Afghanistan\",\"Asia\",2.404,0.758,0.3]],\"hovertemplate\":\"continent=%{customdata[1]}<br>country=%{customdata[0]}<br>happiness=%{customdata[2]}<br>gdp=%{customdata[3]}<extra></extra>\",\"legendgroup\":\"Asia\",\"marker\":{\"color\":\"#EF553B\",\"opacity\":0.6,\"size\":[0.3,0.3,0.3,0.3,0.3,0.3,0.3,0.3,0.3,0.3,0.3,0.3,0.3,0.3,0.3,0.3,0.3,0.3,0.3,0.3,0.3,0.3,0.3,0.3,0.3,0.3,0.3,0.3,0.3,0.3,0.3,0.3,0.3,0.3,0.3,0.3,0.3],\"sizemode\":\"area\",\"sizeref\":0.00075,\"symbol\":\"circle\"},\"mode\":\"markers\",\"name\":\"Asia\",\"orientation\":\"v\",\"showlegend\":true,\"x\":[-1.9986106,-1.1928159,-0.4431588,-0.9874431,-0.5721791,0.17700998,-0.8777979,0.4742745,-1.8582866,0.6072766,0.90164465,-1.4677763,-0.3544318,-1.6700093,-0.53693926,0.50852716,0.052561745,-0.5293313,0.6010435,1.8587286,-0.96755433,-0.8477752,0.08026121,-0.35841802,-0.07111426,0.90237856,1.3368922,0.8692704,0.56386554,1.751224,1.353267,2.3930588,1.264412,2.3882663,2.1288435,2.687657,2.3676038],\"xaxis\":\"x\",\"y\":[8.957641,6.871254,7.036427,6.4250746,6.424074,7.367343,4.6213226,4.520035,2.1177619,4.1257257,3.4468853,1.5191082,2.0924315,0.944554,0.9776418,1.0451934,0.14926645,-0.90657264,-0.2465168,0.453337,-2.4315462,-3.186322,-2.1310725,-3.9291813,-3.5546985,-4.2042313,-3.967416,-5.830132,-6.5808215,-6.2346263,-6.792218,-6.1579967,-7.5479136,-6.9230924,-8.225305,-9.17365,-9.660438],\"yaxis\":\"y\",\"type\":\"scatter\"},{\"customdata\":[[\"New Zealand\",\"Oceania\",7.2,1.852,0.3],[\"Australia\",\"Oceania\",7.162,1.9,0.3]],\"hovertemplate\":\"continent=%{customdata[1]}<br>country=%{customdata[0]}<br>happiness=%{customdata[2]}<br>gdp=%{customdata[3]}<extra></extra>\",\"legendgroup\":\"Oceania\",\"marker\":{\"color\":\"#00cc96\",\"opacity\":0.6,\"size\":[0.3,0.3],\"sizemode\":\"area\",\"sizeref\":0.00075,\"symbol\":\"circle\"},\"mode\":\"markers\",\"name\":\"Oceania\",\"orientation\":\"v\",\"showlegend\":true,\"x\":[-1.0578591,-1.5518762],\"xaxis\":\"x\",\"y\":[9.028359,8.732131],\"yaxis\":\"y\",\"type\":\"scatter\"},{\"customdata\":[[\"Canada\",\"North America\",7.025,1.886,0.3],[\"United States\",\"North America\",6.977,1.982,0.3],[\"Costa Rica\",\"North America\",6.582,1.584,0.3],[\"Panama\",\"North America\",6.309,1.715,0.3],[\"Guatemala*\",\"North America\",6.262,1.274,0.3],[\"Nicaragua\",\"North America\",6.165,1.105,0.3],[\"Mexico\",\"North America\",6.128,1.552,0.3],[\"El Salvador\",\"North America\",6.12,1.265,0.3],[\"Honduras\",\"North America\",6.022,1.111,0.3],[\"Jamaica\",\"North America\",5.85,1.296,0.3],[\"Dominican Republic\",\"North America\",5.737,1.538,0.3]],\"hovertemplate\":\"continent=%{customdata[1]}<br>country=%{customdata[0]}<br>happiness=%{customdata[2]}<br>gdp=%{customdata[3]}<extra></extra>\",\"legendgroup\":\"North America\",\"marker\":{\"color\":\"#ab63fa\",\"opacity\":0.6,\"size\":[0.3,0.3,0.3,0.3,0.3,0.3,0.3,0.3,0.3,0.3,0.3],\"sizemode\":\"area\",\"sizeref\":0.00075,\"symbol\":\"circle\"},\"mode\":\"markers\",\"name\":\"North America\",\"orientation\":\"v\",\"showlegend\":true,\"x\":[-1.1261001,-1.5008227,-1.6117992,-0.6977712,-2.1012332,-2.1296751,-1.1034818,-1.9827688,-1.9474974,-0.9763063,0.05637442],\"xaxis\":\"x\",\"y\":[8.453683,8.078822,5.995972,5.0065894,2.932922,2.283703,3.2678685,2.4764216,1.7695893,1.2822194,1.0115054],\"yaxis\":\"y\",\"type\":\"scatter\"},{\"customdata\":[[\"Uruguay\",\"South America\",6.474,1.615,0.3],[\"Brazil\",\"South America\",6.293,1.462,0.3],[\"Chile\",\"South America\",6.172,1.651,0.3],[\"Argentina\",\"South America\",5.967,1.592,0.3],[\"Colombia\",\"South America\",5.781,1.452,0.3],[\"Bolivia\",\"South America\",5.6,1.256,0.3],[\"Paraguay\",\"South America\",5.578,1.409,0.3],[\"Peru\",\"South America\",5.559,1.397,0.3],[\"Ecuador\",\"South America\",5.533,1.352,0.3],[\"Venezuela\",\"South America\",4.925,0.0,0.3]],\"hovertemplate\":\"continent=%{customdata[1]}<br>country=%{customdata[0]}<br>happiness=%{customdata[2]}<br>gdp=%{customdata[3]}<extra></extra>\",\"legendgroup\":\"South America\",\"marker\":{\"color\":\"#FFA15A\",\"opacity\":0.6,\"size\":[0.3,0.3,0.3,0.3,0.3,0.3,0.3,0.3,0.3,0.3],\"sizemode\":\"area\",\"sizeref\":0.00075,\"symbol\":\"circle\"},\"mode\":\"markers\",\"name\":\"South America\",\"orientation\":\"v\",\"showlegend\":true,\"x\":[-1.4038595,-1.4921675,-0.49875203,-0.27130684,-0.31587002,-0.76953715,-0.1453945,-0.25052378,-0.27904707,-1.6769543],\"xaxis\":\"x\",\"y\":[5.7692966,4.01893,4.138003,2.887023,1.0796974,-0.3275633,0.15993336,-0.32431433,-0.5312304,-6.4005904],\"yaxis\":\"y\",\"type\":\"scatter\"},{\"customdata\":[[\"Mauritius\",\"Africa\",6.071,1.591,0.3],[\"Libya*\",\"Africa\",5.33,1.476,0.3],[\"Ivory Coast\",\"Africa\",5.235,1.094,0.3],[\"South Africa\",\"Africa\",5.194,1.425,0.3],[\"Gambia*\",\"Africa\",5.164,0.785,0.3],[\"Algeria\",\"Africa\",5.122,1.363,0.3],[\"Liberia*\",\"Africa\",5.122,0.636,0.3],[\"Congo\",\"Africa\",5.075,0.95,0.3],[\"Morocco\",\"Africa\",5.06,1.208,0.3],[\"Mozambique\",\"Africa\",5.048,0.578,0.3],[\"Cameroon\",\"Africa\",5.048,0.968,0.3],[\"Senegal\",\"Africa\",5.046,0.933,0.3],[\"Niger*\",\"Africa\",5.003,0.57,0.3],[\"Gabon\",\"Africa\",4.958,1.459,0.3],[\"Guinea\",\"Africa\",4.891,0.848,0.3],[\"Ghana\",\"Africa\",4.872,1.112,0.3],[\"Burkina Faso\",\"Africa\",4.67,0.779,0.3],[\"Benin\",\"Africa\",4.623,0.932,0.3],[\"Comoros*\",\"Africa\",4.609,0.899,0.3],[\"Uganda\",\"Africa\",4.603,0.777,0.3],[\"Nigeria\",\"Africa\",4.552,1.079,0.3],[\"Kenya\",\"Africa\",4.543,1.032,0.3],[\"Tunisia\",\"Africa\",4.516,1.35,0.3],[\"Mali\",\"Africa\",4.479,0.792,0.3],[\"Namibia\",\"Africa\",4.459,1.292,0.3],[\"Eswatini, Kingdom of*\",\"Africa\",4.396,1.274,0.3],[\"Madagascar*\",\"Africa\",4.339,0.67,0.3],[\"Egypt\",\"Africa\",4.288,1.388,0.3],[\"Chad*\",\"Africa\",4.251,0.662,0.3],[\"Ethiopia\",\"Africa\",4.241,0.788,0.3],[\"Mauritania*\",\"Africa\",4.153,1.1,0.3],[\"Togo\",\"Africa\",4.112,0.771,0.3],[\"Zambia\",\"Africa\",3.76,0.93,0.3],[\"Malawi\",\"Africa\",3.75,0.648,0.3],[\"Tanzania\",\"Africa\",3.702,0.848,0.3],[\"Sierra Leone\",\"Africa\",3.574,0.686,0.3],[\"Lesotho*\",\"Africa\",3.512,0.839,0.3],[\"Botswana*\",\"Africa\",3.471,1.503,0.3],[\"Rwanda*\",\"Africa\",3.268,0.785,0.3],[\"Zimbabwe\",\"Africa\",2.995,0.947,0.3]],\"hovertemplate\":\"continent=%{customdata[1]}<br>country=%{customdata[0]}<br>happiness=%{customdata[2]}<br>gdp=%{customdata[3]}<extra></extra>\",\"legendgroup\":\"Africa\",\"marker\":{\"color\":\"#19d3f3\",\"opacity\":0.6,\"size\":[0.3,0.3,0.3,0.3,0.3,0.3,0.3,0.3,0.3,0.3,0.3,0.3,0.3,0.3,0.3,0.3,0.3,0.3,0.3,0.3,0.3,0.3,0.3,0.3,0.3,0.3,0.3,0.3,0.3,0.3,0.3,0.3,0.3,0.3,0.3,0.3,0.3,0.3,0.3,0.3],\"sizemode\":\"area\",\"sizeref\":0.00075,\"symbol\":\"circle\"},\"mode\":\"markers\",\"name\":\"Africa\",\"orientation\":\"v\",\"showlegend\":true,\"x\":[-0.6333498,0.52380085,-0.5517139,1.0449464,-1.0212276,1.3384521,-1.0754536,-0.46056068,0.07646788,-1.149464,-0.32343322,-0.34920162,-0.9918217,1.1526136,-0.3045849,0.35885957,-0.023411382,-0.45135948,0.14251181,0.5334987,1.0470023,0.80107105,1.8926051,0.2990373,1.8479462,1.8244333,0.5663164,2.3199787,0.51590866,1.2025603,1.8767384,0.8280634,1.779825,1.3015431,1.7378718,1.5869565,2.1680505,2.7392159,1.7583739,2.3835855],\"xaxis\":\"x\",\"y\":[3.3458042,-1.3264571,-4.3861427,-1.8984206,-5.0595984,-2.7818441,-5.445831,-4.987268,-4.3616085,-5.6811357,-5.023082,-4.9421096,-5.7640505,-3.7720783,-5.770059,-5.15751,-6.3982005,-6.9977407,-6.686139,-6.58364,-6.268102,-6.3836327,-5.593312,-7.1017714,-6.1877484,-6.5288982,-7.520813,-6.558337,-7.8292108,-7.377556,-7.1763015,-8.135222,-8.348594,-8.751371,-8.49754,-8.869051,-8.692164,-8.388913,-9.316504,-9.142536],\"yaxis\":\"y\",\"type\":\"scatter\"}],                        {\"template\":{\"data\":{\"bar\":[{\"error_x\":{\"color\":\"#2a3f5f\"},\"error_y\":{\"color\":\"#2a3f5f\"},\"marker\":{\"line\":{\"color\":\"#E5ECF6\",\"width\":0.5},\"pattern\":{\"fillmode\":\"overlay\",\"size\":10,\"solidity\":0.2}},\"type\":\"bar\"}],\"barpolar\":[{\"marker\":{\"line\":{\"color\":\"#E5ECF6\",\"width\":0.5},\"pattern\":{\"fillmode\":\"overlay\",\"size\":10,\"solidity\":0.2}},\"type\":\"barpolar\"}],\"carpet\":[{\"aaxis\":{\"endlinecolor\":\"#2a3f5f\",\"gridcolor\":\"white\",\"linecolor\":\"white\",\"minorgridcolor\":\"white\",\"startlinecolor\":\"#2a3f5f\"},\"baxis\":{\"endlinecolor\":\"#2a3f5f\",\"gridcolor\":\"white\",\"linecolor\":\"white\",\"minorgridcolor\":\"white\",\"startlinecolor\":\"#2a3f5f\"},\"type\":\"carpet\"}],\"choropleth\":[{\"colorbar\":{\"outlinewidth\":0,\"ticks\":\"\"},\"type\":\"choropleth\"}],\"contour\":[{\"colorbar\":{\"outlinewidth\":0,\"ticks\":\"\"},\"colorscale\":[[0.0,\"#0d0887\"],[0.1111111111111111,\"#46039f\"],[0.2222222222222222,\"#7201a8\"],[0.3333333333333333,\"#9c179e\"],[0.4444444444444444,\"#bd3786\"],[0.5555555555555556,\"#d8576b\"],[0.6666666666666666,\"#ed7953\"],[0.7777777777777778,\"#fb9f3a\"],[0.8888888888888888,\"#fdca26\"],[1.0,\"#f0f921\"]],\"type\":\"contour\"}],\"contourcarpet\":[{\"colorbar\":{\"outlinewidth\":0,\"ticks\":\"\"},\"type\":\"contourcarpet\"}],\"heatmap\":[{\"colorbar\":{\"outlinewidth\":0,\"ticks\":\"\"},\"colorscale\":[[0.0,\"#0d0887\"],[0.1111111111111111,\"#46039f\"],[0.2222222222222222,\"#7201a8\"],[0.3333333333333333,\"#9c179e\"],[0.4444444444444444,\"#bd3786\"],[0.5555555555555556,\"#d8576b\"],[0.6666666666666666,\"#ed7953\"],[0.7777777777777778,\"#fb9f3a\"],[0.8888888888888888,\"#fdca26\"],[1.0,\"#f0f921\"]],\"type\":\"heatmap\"}],\"heatmapgl\":[{\"colorbar\":{\"outlinewidth\":0,\"ticks\":\"\"},\"colorscale\":[[0.0,\"#0d0887\"],[0.1111111111111111,\"#46039f\"],[0.2222222222222222,\"#7201a8\"],[0.3333333333333333,\"#9c179e\"],[0.4444444444444444,\"#bd3786\"],[0.5555555555555556,\"#d8576b\"],[0.6666666666666666,\"#ed7953\"],[0.7777777777777778,\"#fb9f3a\"],[0.8888888888888888,\"#fdca26\"],[1.0,\"#f0f921\"]],\"type\":\"heatmapgl\"}],\"histogram\":[{\"marker\":{\"pattern\":{\"fillmode\":\"overlay\",\"size\":10,\"solidity\":0.2}},\"type\":\"histogram\"}],\"histogram2d\":[{\"colorbar\":{\"outlinewidth\":0,\"ticks\":\"\"},\"colorscale\":[[0.0,\"#0d0887\"],[0.1111111111111111,\"#46039f\"],[0.2222222222222222,\"#7201a8\"],[0.3333333333333333,\"#9c179e\"],[0.4444444444444444,\"#bd3786\"],[0.5555555555555556,\"#d8576b\"],[0.6666666666666666,\"#ed7953\"],[0.7777777777777778,\"#fb9f3a\"],[0.8888888888888888,\"#fdca26\"],[1.0,\"#f0f921\"]],\"type\":\"histogram2d\"}],\"histogram2dcontour\":[{\"colorbar\":{\"outlinewidth\":0,\"ticks\":\"\"},\"colorscale\":[[0.0,\"#0d0887\"],[0.1111111111111111,\"#46039f\"],[0.2222222222222222,\"#7201a8\"],[0.3333333333333333,\"#9c179e\"],[0.4444444444444444,\"#bd3786\"],[0.5555555555555556,\"#d8576b\"],[0.6666666666666666,\"#ed7953\"],[0.7777777777777778,\"#fb9f3a\"],[0.8888888888888888,\"#fdca26\"],[1.0,\"#f0f921\"]],\"type\":\"histogram2dcontour\"}],\"mesh3d\":[{\"colorbar\":{\"outlinewidth\":0,\"ticks\":\"\"},\"type\":\"mesh3d\"}],\"parcoords\":[{\"line\":{\"colorbar\":{\"outlinewidth\":0,\"ticks\":\"\"}},\"type\":\"parcoords\"}],\"pie\":[{\"automargin\":true,\"type\":\"pie\"}],\"scatter\":[{\"marker\":{\"colorbar\":{\"outlinewidth\":0,\"ticks\":\"\"}},\"type\":\"scatter\"}],\"scatter3d\":[{\"line\":{\"colorbar\":{\"outlinewidth\":0,\"ticks\":\"\"}},\"marker\":{\"colorbar\":{\"outlinewidth\":0,\"ticks\":\"\"}},\"type\":\"scatter3d\"}],\"scattercarpet\":[{\"marker\":{\"colorbar\":{\"outlinewidth\":0,\"ticks\":\"\"}},\"type\":\"scattercarpet\"}],\"scattergeo\":[{\"marker\":{\"colorbar\":{\"outlinewidth\":0,\"ticks\":\"\"}},\"type\":\"scattergeo\"}],\"scattergl\":[{\"marker\":{\"colorbar\":{\"outlinewidth\":0,\"ticks\":\"\"}},\"type\":\"scattergl\"}],\"scattermapbox\":[{\"marker\":{\"colorbar\":{\"outlinewidth\":0,\"ticks\":\"\"}},\"type\":\"scattermapbox\"}],\"scatterpolar\":[{\"marker\":{\"colorbar\":{\"outlinewidth\":0,\"ticks\":\"\"}},\"type\":\"scatterpolar\"}],\"scatterpolargl\":[{\"marker\":{\"colorbar\":{\"outlinewidth\":0,\"ticks\":\"\"}},\"type\":\"scatterpolargl\"}],\"scatterternary\":[{\"marker\":{\"colorbar\":{\"outlinewidth\":0,\"ticks\":\"\"}},\"type\":\"scatterternary\"}],\"surface\":[{\"colorbar\":{\"outlinewidth\":0,\"ticks\":\"\"},\"colorscale\":[[0.0,\"#0d0887\"],[0.1111111111111111,\"#46039f\"],[0.2222222222222222,\"#7201a8\"],[0.3333333333333333,\"#9c179e\"],[0.4444444444444444,\"#bd3786\"],[0.5555555555555556,\"#d8576b\"],[0.6666666666666666,\"#ed7953\"],[0.7777777777777778,\"#fb9f3a\"],[0.8888888888888888,\"#fdca26\"],[1.0,\"#f0f921\"]],\"type\":\"surface\"}],\"table\":[{\"cells\":{\"fill\":{\"color\":\"#EBF0F8\"},\"line\":{\"color\":\"white\"}},\"header\":{\"fill\":{\"color\":\"#C8D4E3\"},\"line\":{\"color\":\"white\"}},\"type\":\"table\"}]},\"layout\":{\"annotationdefaults\":{\"arrowcolor\":\"#2a3f5f\",\"arrowhead\":0,\"arrowwidth\":1},\"autotypenumbers\":\"strict\",\"coloraxis\":{\"colorbar\":{\"outlinewidth\":0,\"ticks\":\"\"}},\"colorscale\":{\"diverging\":[[0,\"#8e0152\"],[0.1,\"#c51b7d\"],[0.2,\"#de77ae\"],[0.3,\"#f1b6da\"],[0.4,\"#fde0ef\"],[0.5,\"#f7f7f7\"],[0.6,\"#e6f5d0\"],[0.7,\"#b8e186\"],[0.8,\"#7fbc41\"],[0.9,\"#4d9221\"],[1,\"#276419\"]],\"sequential\":[[0.0,\"#0d0887\"],[0.1111111111111111,\"#46039f\"],[0.2222222222222222,\"#7201a8\"],[0.3333333333333333,\"#9c179e\"],[0.4444444444444444,\"#bd3786\"],[0.5555555555555556,\"#d8576b\"],[0.6666666666666666,\"#ed7953\"],[0.7777777777777778,\"#fb9f3a\"],[0.8888888888888888,\"#fdca26\"],[1.0,\"#f0f921\"]],\"sequentialminus\":[[0.0,\"#0d0887\"],[0.1111111111111111,\"#46039f\"],[0.2222222222222222,\"#7201a8\"],[0.3333333333333333,\"#9c179e\"],[0.4444444444444444,\"#bd3786\"],[0.5555555555555556,\"#d8576b\"],[0.6666666666666666,\"#ed7953\"],[0.7777777777777778,\"#fb9f3a\"],[0.8888888888888888,\"#fdca26\"],[1.0,\"#f0f921\"]]},\"colorway\":[\"#636efa\",\"#EF553B\",\"#00cc96\",\"#ab63fa\",\"#FFA15A\",\"#19d3f3\",\"#FF6692\",\"#B6E880\",\"#FF97FF\",\"#FECB52\"],\"font\":{\"color\":\"#2a3f5f\"},\"geo\":{\"bgcolor\":\"white\",\"lakecolor\":\"white\",\"landcolor\":\"#E5ECF6\",\"showlakes\":true,\"showland\":true,\"subunitcolor\":\"white\"},\"hoverlabel\":{\"align\":\"left\"},\"hovermode\":\"closest\",\"mapbox\":{\"style\":\"light\"},\"paper_bgcolor\":\"white\",\"plot_bgcolor\":\"#E5ECF6\",\"polar\":{\"angularaxis\":{\"gridcolor\":\"white\",\"linecolor\":\"white\",\"ticks\":\"\"},\"bgcolor\":\"#E5ECF6\",\"radialaxis\":{\"gridcolor\":\"white\",\"linecolor\":\"white\",\"ticks\":\"\"}},\"scene\":{\"xaxis\":{\"backgroundcolor\":\"#E5ECF6\",\"gridcolor\":\"white\",\"gridwidth\":2,\"linecolor\":\"white\",\"showbackground\":true,\"ticks\":\"\",\"zerolinecolor\":\"white\"},\"yaxis\":{\"backgroundcolor\":\"#E5ECF6\",\"gridcolor\":\"white\",\"gridwidth\":2,\"linecolor\":\"white\",\"showbackground\":true,\"ticks\":\"\",\"zerolinecolor\":\"white\"},\"zaxis\":{\"backgroundcolor\":\"#E5ECF6\",\"gridcolor\":\"white\",\"gridwidth\":2,\"linecolor\":\"white\",\"showbackground\":true,\"ticks\":\"\",\"zerolinecolor\":\"white\"}},\"shapedefaults\":{\"line\":{\"color\":\"#2a3f5f\"}},\"ternary\":{\"aaxis\":{\"gridcolor\":\"white\",\"linecolor\":\"white\",\"ticks\":\"\"},\"baxis\":{\"gridcolor\":\"white\",\"linecolor\":\"white\",\"ticks\":\"\"},\"bgcolor\":\"#E5ECF6\",\"caxis\":{\"gridcolor\":\"white\",\"linecolor\":\"white\",\"ticks\":\"\"}},\"title\":{\"x\":0.05},\"xaxis\":{\"automargin\":true,\"gridcolor\":\"white\",\"linecolor\":\"white\",\"ticks\":\"\",\"title\":{\"standoff\":15},\"zerolinecolor\":\"white\",\"zerolinewidth\":2},\"yaxis\":{\"automargin\":true,\"gridcolor\":\"white\",\"linecolor\":\"white\",\"ticks\":\"\",\"title\":{\"standoff\":15},\"zerolinecolor\":\"white\",\"zerolinewidth\":2}}},\"xaxis\":{\"anchor\":\"y\",\"domain\":[0.0,1.0],\"title\":{\"text\":\"tsne1\"}},\"yaxis\":{\"anchor\":\"x\",\"domain\":[0.0,1.0],\"title\":{\"text\":\"tsne2\"}},\"legend\":{\"title\":{\"text\":\"continent\"},\"tracegroupgap\":0,\"itemsizing\":\"constant\"},\"margin\":{\"t\":60}},                        {\"responsive\": true}                    ).then(function(){\n",
       "                            \n",
       "var gd = document.getElementById('7cb09a49-cffa-43e2-adff-454ce097dc3c');\n",
       "var x = new MutationObserver(function (mutations, observer) {{\n",
       "        var display = window.getComputedStyle(gd).display;\n",
       "        if (!display || display === 'none') {{\n",
       "            console.log([gd, 'removed!']);\n",
       "            Plotly.purge(gd);\n",
       "            observer.disconnect();\n",
       "        }}\n",
       "}});\n",
       "\n",
       "// Listen for the removal of the full notebook cells\n",
       "var notebookContainer = gd.closest('#notebook-container');\n",
       "if (notebookContainer) {{\n",
       "    x.observe(notebookContainer, {childList: true});\n",
       "}}\n",
       "\n",
       "// Listen for the clearing of the current output cell\n",
       "var outputEl = gd.closest('.output');\n",
       "if (outputEl) {{\n",
       "    x.observe(outputEl, {childList: true});\n",
       "}}\n",
       "\n",
       "                        })                };                });            </script>        </div>"
      ]
     },
     "metadata": {},
     "output_type": "display_data"
    }
   ],
   "source": [
    "#Add size variable to the dataframe\n",
    "Xt[\"size\"] = .3\n",
    "\n",
    "#Add happiness score and gdp to Xt\n",
    "Xt[\"happiness\"] = happiness.happiness_score.tolist()\n",
    "Xt[\"gdp\"] = happiness.gdp.tolist()\n",
    "\n",
    "#This dictionary allows us to turn on and turn off our chosen variables\n",
    "\n",
    "hover_data={\"country\":True, \n",
    "            \"continent\":True, \n",
    "            \"happiness\":True,\n",
    "            \"gdp\":True,\n",
    "            \"tsne1\":False,\n",
    "            \"tsne2\":False,\n",
    "            \"size\":False}\n",
    "\n",
    "\n",
    "#intialize plotting function\n",
    "fig = px.scatter(Xt, x=\"tsne1\", y = \"tsne2\", color=\"continent\", \n",
    "                 hover_data=hover_data, size=\"size\", opacity=.6)\n",
    "#generate plot\n",
    "fig.show()"
   ]
  },
  {
   "cell_type": "markdown",
   "metadata": {},
   "source": [
    "How does it look now?!"
   ]
  },
  {
   "cell_type": "code",
   "execution_count": null,
   "metadata": {},
   "outputs": [],
   "source": []
  }
 ],
 "metadata": {
  "kernelspec": {
   "display_name": "nlp",
   "language": "python",
   "name": "nlp"
  },
  "language_info": {
   "codemirror_mode": {
    "name": "ipython",
    "version": 3
   },
   "file_extension": ".py",
   "mimetype": "text/x-python",
   "name": "python",
   "nbconvert_exporter": "python",
   "pygments_lexer": "ipython3",
   "version": "3.9.7"
  }
 },
 "nbformat": 4,
 "nbformat_minor": 4
}
