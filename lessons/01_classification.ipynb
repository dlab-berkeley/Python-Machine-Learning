{
 "cells": [
  {
   "cell_type": "markdown",
   "metadata": {},
   "source": [
    "# Classification"
   ]
  },
  {
   "cell_type": "markdown",
   "metadata": {},
   "source": [
    "A common task in computational research is to classify an object based on a set of features. In superivsed machine learning, we can give an algorithm a dataset of training examples that say \"here are specific features, and this is the target class it belongs to\". With enough training examples, a model can be built that recognizes important features in determining an objects class. This model can then be used to predict the class of an object given its known features."
   ]
  },
  {
   "cell_type": "code",
   "execution_count": 1,
   "metadata": {},
   "outputs": [],
   "source": [
    "import pandas as pd\n",
    "import numpy as np\n",
    "import matplotlib.pyplot as plt\n",
    "import seaborn as sb\n",
    "\n",
    "from sklearn.tree import DecisionTreeClassifier, plot_tree\n",
    "from sklearn.linear_model import LogisticRegression\n",
    "from sklearn.preprocessing import OneHotEncoder\n",
    "from sklearn.model_selection import train_test_split, cross_val_score, KFold\n",
    "from sklearn.metrics import classification_report, confusion_matrix, accuracy_score, recall_score, precision_score, f1_score"
   ]
  },
  {
   "cell_type": "markdown",
   "metadata": {},
   "source": [
    "## 1) TelCo Dataset"
   ]
  },
  {
   "cell_type": "markdown",
   "metadata": {},
   "source": [
    "\n",
    "\n",
    "We're going to load in the [telco customer dataset](https://www.kaggle.com/yeanzc/telco-customer-churn-ibm-dataset). Our goal here is to predict customer churn (whether or not customers leave a company's customer base) using information about the customers' behavior.\n",
    "\n",
    "**Data Dictionary**\n",
    "\n",
    "7043 observations with 20 variables\n",
    "\n",
    "CustomerID: A unique ID that identifies each customer.\n",
    "\n",
    "Gender: The customer’s gender: Male, Female.\n",
    "\n",
    "Senior Citizen: Indicates if the customer is 65 or older: Yes, No\n",
    "\n",
    "Partner: Indicate if the customer has a partner: Yes, No\n",
    "\n",
    "Dependents: Indicates if the customer lives with any dependents: Yes, No. Dependents could be children, parents, grandparents, etc.\n",
    "\n",
    "tenure: Indicates the total amount of months that the customer has been with the company by the end of the quarter specified above.\n",
    "\n",
    "Phone Service: Indicates if the customer subscribes to home phone service with the company: Yes, No\n",
    "\n",
    "Multiple Lines: Indicates if the customer subscribes to multiple telephone lines with the company: Yes, No\n",
    "\n",
    "Internet Service: Indicates if the customer subscribes to Internet service with the company: No, DSL, Fiber Optic, Cable.\n",
    "\n",
    "Online Security: Indicates if the customer subscribes to an additional online security service provided by the company: Yes, No\n",
    "\n",
    "Online Backup: Indicates if the customer subscribes to an additional online backup service provided by the company: Yes, No\n",
    "\n",
    "Device Protection: Indicates if the customer subscribes to an additional device protection plan for their Internet equipment provided by the company: Yes, No\n",
    "\n",
    "Tech Support: Indicates if the customer subscribes to an additional technical support plan from the company with reduced wait times: Yes, No\n",
    "\n",
    "Streaming TV: Indicates if the customer uses their Internet service to stream television programing from a third party provider: Yes, No. The company does not charge an additional fee for this service.\n",
    "\n",
    "Streaming Movies: Indicates if the customer uses their Internet service to stream movies from a third party provider: Yes, No. The company does not charge an additional fee for this service.\n",
    "\n",
    "Contract: Indicates the customer’s current contract type: Month-to-Month, One Year, Two Year.\n",
    "\n",
    "Paperless Billing: Indicates if the customer has chosen paperless billing: Yes, No\n",
    "\n",
    "Payment Method: Indicates how the customer pays their bill: Bank Withdrawal, Credit Card, Mailed Check\n",
    "\n",
    "Monthly Charge: Indicates the customer’s current total monthly charge for all their services from the company.\n",
    "\n",
    "Churn: Yes = the customer left the company this quarter. No = the customer remained with the company. Directly related to Churn Value."
   ]
  },
  {
   "cell_type": "code",
   "execution_count": 2,
   "metadata": {},
   "outputs": [
    {
     "data": {
      "text/html": [
       "<div>\n",
       "<style scoped>\n",
       "    .dataframe tbody tr th:only-of-type {\n",
       "        vertical-align: middle;\n",
       "    }\n",
       "\n",
       "    .dataframe tbody tr th {\n",
       "        vertical-align: top;\n",
       "    }\n",
       "\n",
       "    .dataframe thead th {\n",
       "        text-align: right;\n",
       "    }\n",
       "</style>\n",
       "<table border=\"1\" class=\"dataframe\">\n",
       "  <thead>\n",
       "    <tr style=\"text-align: right;\">\n",
       "      <th></th>\n",
       "      <th>phoneservice</th>\n",
       "      <th>internetservice</th>\n",
       "      <th>onlinesecurity</th>\n",
       "      <th>techsupport</th>\n",
       "      <th>streamingtv</th>\n",
       "      <th>streamingmovies</th>\n",
       "      <th>contract</th>\n",
       "      <th>paperlessbilling</th>\n",
       "      <th>paymentmethod</th>\n",
       "      <th>churn</th>\n",
       "      <th>tenure</th>\n",
       "      <th>monthlycharges</th>\n",
       "    </tr>\n",
       "    <tr>\n",
       "      <th>customerID</th>\n",
       "      <th></th>\n",
       "      <th></th>\n",
       "      <th></th>\n",
       "      <th></th>\n",
       "      <th></th>\n",
       "      <th></th>\n",
       "      <th></th>\n",
       "      <th></th>\n",
       "      <th></th>\n",
       "      <th></th>\n",
       "      <th></th>\n",
       "      <th></th>\n",
       "    </tr>\n",
       "  </thead>\n",
       "  <tbody>\n",
       "    <tr>\n",
       "      <th>7590-VHVEG</th>\n",
       "      <td>No</td>\n",
       "      <td>DSL</td>\n",
       "      <td>No</td>\n",
       "      <td>No</td>\n",
       "      <td>No</td>\n",
       "      <td>No</td>\n",
       "      <td>Month-to-month</td>\n",
       "      <td>Yes</td>\n",
       "      <td>Electronic check</td>\n",
       "      <td>No</td>\n",
       "      <td>1</td>\n",
       "      <td>29.85</td>\n",
       "    </tr>\n",
       "    <tr>\n",
       "      <th>5575-GNVDE</th>\n",
       "      <td>Yes</td>\n",
       "      <td>DSL</td>\n",
       "      <td>Yes</td>\n",
       "      <td>No</td>\n",
       "      <td>No</td>\n",
       "      <td>No</td>\n",
       "      <td>One year</td>\n",
       "      <td>No</td>\n",
       "      <td>Mailed check</td>\n",
       "      <td>No</td>\n",
       "      <td>34</td>\n",
       "      <td>56.95</td>\n",
       "    </tr>\n",
       "    <tr>\n",
       "      <th>3668-QPYBK</th>\n",
       "      <td>Yes</td>\n",
       "      <td>DSL</td>\n",
       "      <td>Yes</td>\n",
       "      <td>No</td>\n",
       "      <td>No</td>\n",
       "      <td>No</td>\n",
       "      <td>Month-to-month</td>\n",
       "      <td>Yes</td>\n",
       "      <td>Mailed check</td>\n",
       "      <td>Yes</td>\n",
       "      <td>2</td>\n",
       "      <td>53.85</td>\n",
       "    </tr>\n",
       "    <tr>\n",
       "      <th>7795-CFOCW</th>\n",
       "      <td>No</td>\n",
       "      <td>DSL</td>\n",
       "      <td>Yes</td>\n",
       "      <td>Yes</td>\n",
       "      <td>No</td>\n",
       "      <td>No</td>\n",
       "      <td>One year</td>\n",
       "      <td>No</td>\n",
       "      <td>Bank transfer (automatic)</td>\n",
       "      <td>No</td>\n",
       "      <td>45</td>\n",
       "      <td>42.30</td>\n",
       "    </tr>\n",
       "    <tr>\n",
       "      <th>9237-HQITU</th>\n",
       "      <td>Yes</td>\n",
       "      <td>Fiber optic</td>\n",
       "      <td>No</td>\n",
       "      <td>No</td>\n",
       "      <td>No</td>\n",
       "      <td>No</td>\n",
       "      <td>Month-to-month</td>\n",
       "      <td>Yes</td>\n",
       "      <td>Electronic check</td>\n",
       "      <td>Yes</td>\n",
       "      <td>2</td>\n",
       "      <td>70.70</td>\n",
       "    </tr>\n",
       "  </tbody>\n",
       "</table>\n",
       "</div>"
      ],
      "text/plain": [
       "           phoneservice internetservice onlinesecurity techsupport  \\\n",
       "customerID                                                           \n",
       "7590-VHVEG           No             DSL             No          No   \n",
       "5575-GNVDE          Yes             DSL            Yes          No   \n",
       "3668-QPYBK          Yes             DSL            Yes          No   \n",
       "7795-CFOCW           No             DSL            Yes         Yes   \n",
       "9237-HQITU          Yes     Fiber optic             No          No   \n",
       "\n",
       "           streamingtv streamingmovies        contract paperlessbilling  \\\n",
       "customerID                                                                \n",
       "7590-VHVEG          No              No  Month-to-month              Yes   \n",
       "5575-GNVDE          No              No        One year               No   \n",
       "3668-QPYBK          No              No  Month-to-month              Yes   \n",
       "7795-CFOCW          No              No        One year               No   \n",
       "9237-HQITU          No              No  Month-to-month              Yes   \n",
       "\n",
       "                        paymentmethod churn  tenure  monthlycharges  \n",
       "customerID                                                           \n",
       "7590-VHVEG           Electronic check    No       1           29.85  \n",
       "5575-GNVDE               Mailed check    No      34           56.95  \n",
       "3668-QPYBK               Mailed check   Yes       2           53.85  \n",
       "7795-CFOCW  Bank transfer (automatic)    No      45           42.30  \n",
       "9237-HQITU           Electronic check   Yes       2           70.70  "
      ]
     },
     "execution_count": 2,
     "metadata": {},
     "output_type": "execute_result"
    }
   ],
   "source": [
    "churn = pd.read_csv(\"telco_churn.csv\", index_col=[0])\n",
    "churn.head()"
   ]
  },
  {
   "cell_type": "code",
   "execution_count": 3,
   "metadata": {},
   "outputs": [
    {
     "name": "stdout",
     "output_type": "stream",
     "text": [
      "<class 'pandas.core.frame.DataFrame'>\n",
      "Index: 7032 entries, 7590-VHVEG to 3186-AJIEK\n",
      "Data columns (total 12 columns):\n",
      " #   Column            Non-Null Count  Dtype  \n",
      "---  ------            --------------  -----  \n",
      " 0   phoneservice      7032 non-null   object \n",
      " 1   internetservice   7032 non-null   object \n",
      " 2   onlinesecurity    7032 non-null   object \n",
      " 3   techsupport       7032 non-null   object \n",
      " 4   streamingtv       7032 non-null   object \n",
      " 5   streamingmovies   7032 non-null   object \n",
      " 6   contract          7032 non-null   object \n",
      " 7   paperlessbilling  7032 non-null   object \n",
      " 8   paymentmethod     7032 non-null   object \n",
      " 9   churn             7032 non-null   object \n",
      " 10  tenure            7032 non-null   int64  \n",
      " 11  monthlycharges    7032 non-null   float64\n",
      "dtypes: float64(1), int64(1), object(10)\n",
      "memory usage: 714.2+ KB\n"
     ]
    }
   ],
   "source": [
    "churn.info()"
   ]
  },
  {
   "cell_type": "markdown",
   "metadata": {},
   "source": [
    "We have 11 independent variables and one target variable: `Churn`.\n",
    "\n",
    "Two of our independent variables are numeric, while the nine others are categorical."
   ]
  },
  {
   "cell_type": "code",
   "execution_count": null,
   "metadata": {},
   "outputs": [],
   "source": []
  },
  {
   "cell_type": "markdown",
   "metadata": {},
   "source": [
    "Let's get to know our dataset by conducting some exploratory data analysis. We'll be using some rudimentary data analysis to see there's a relationship between the independent variables and churn."
   ]
  },
  {
   "cell_type": "code",
   "execution_count": 9,
   "metadata": {},
   "outputs": [
    {
     "data": {
      "text/html": [
       "<div>\n",
       "<style scoped>\n",
       "    .dataframe tbody tr th:only-of-type {\n",
       "        vertical-align: middle;\n",
       "    }\n",
       "\n",
       "    .dataframe tbody tr th {\n",
       "        vertical-align: top;\n",
       "    }\n",
       "\n",
       "    .dataframe thead th {\n",
       "        text-align: right;\n",
       "    }\n",
       "</style>\n",
       "<table border=\"1\" class=\"dataframe\">\n",
       "  <thead>\n",
       "    <tr style=\"text-align: right;\">\n",
       "      <th></th>\n",
       "      <th>tenure</th>\n",
       "      <th>monthlycharges</th>\n",
       "    </tr>\n",
       "    <tr>\n",
       "      <th>churn</th>\n",
       "      <th></th>\n",
       "      <th></th>\n",
       "    </tr>\n",
       "  </thead>\n",
       "  <tbody>\n",
       "    <tr>\n",
       "      <th>No</th>\n",
       "      <td>37.650010</td>\n",
       "      <td>61.307408</td>\n",
       "    </tr>\n",
       "    <tr>\n",
       "      <th>Yes</th>\n",
       "      <td>17.979133</td>\n",
       "      <td>74.441332</td>\n",
       "    </tr>\n",
       "  </tbody>\n",
       "</table>\n",
       "</div>"
      ],
      "text/plain": [
       "          tenure  monthlycharges\n",
       "churn                           \n",
       "No     37.650010       61.307408\n",
       "Yes    17.979133       74.441332"
      ]
     },
     "execution_count": 9,
     "metadata": {},
     "output_type": "execute_result"
    }
   ],
   "source": [
    "churn.groupby(\"churn\").mean()"
   ]
  },
  {
   "cell_type": "markdown",
   "metadata": {},
   "source": [
    "**Does this tell us anything informative?**"
   ]
  },
  {
   "cell_type": "code",
   "execution_count": null,
   "metadata": {},
   "outputs": [],
   "source": []
  },
  {
   "cell_type": "code",
   "execution_count": null,
   "metadata": {},
   "outputs": [],
   "source": []
  },
  {
   "cell_type": "code",
   "execution_count": null,
   "metadata": {},
   "outputs": [],
   "source": []
  },
  {
   "cell_type": "markdown",
   "metadata": {},
   "source": [
    "## 2) Logistic Regression\n",
    "\n",
    "Logistic regression is a supervised classification algorithm that is used to predict a binary outcome. Similar to linear regression, this model uses coefficients or betas to make its predictions. However unlike a linear regression, its predictions do not fit a straight line but rather a curve known as the Sigmoid Curve as show in the following image.\n",
    "\n",
    "![](https://miro.medium.com/max/700/1*44qV8LhNzE5hPnta2PaaHw.png)\n",
    "\n",
    "In this chart, the x-axis represents the feature and the y-axis represents the probability of the red class 1 dots. Class predictions are made based on whether or a probability meets or surpasses the 0.5 probability threshold.\n",
    "\n",
    "\n",
    "### Sigmoid Formula\n",
    "\n",
    "$\\LARGE\\Pr(Y_i=1|X_i) = {\\frac1{1 + exp (-(\\beta_0 + \\beta_1X_i + \\beta_2X_2 + \\beta_3X_3))}}$\n",
    "\n"
   ]
  },
  {
   "cell_type": "markdown",
   "metadata": {},
   "source": [
    "### Interpreting the Logistic Regression Coefficients\n",
    "\n",
    "\n",
    "![](https://miro.medium.com/max/1400/1*aPgytc42C1btLtB3YbFTQA.jpeg)\n"
   ]
  },
  {
   "cell_type": "code",
   "execution_count": null,
   "metadata": {},
   "outputs": [],
   "source": []
  },
  {
   "cell_type": "markdown",
   "metadata": {},
   "source": [
    "Our task now is to the logistic regression model to classify churn."
   ]
  },
  {
   "cell_type": "code",
   "execution_count": null,
   "metadata": {},
   "outputs": [],
   "source": []
  },
  {
   "cell_type": "markdown",
   "metadata": {},
   "source": [
    "### Null accuracy\n",
    "\n",
    "One of the first things you need to check in a classification project is the **null accuracy**.\n",
    "\n",
    "This is defined as the proportion of the largest class in the target variable."
   ]
  },
  {
   "cell_type": "code",
   "execution_count": 4,
   "metadata": {},
   "outputs": [
    {
     "data": {
      "text/plain": [
       "No     0.734215\n",
       "Yes    0.265785\n",
       "Name: churn, dtype: float64"
      ]
     },
     "execution_count": 4,
     "metadata": {},
     "output_type": "execute_result"
    }
   ],
   "source": [
    "# Assign y variable\n",
    "y = churn.churn\n",
    "\n",
    "#Grab proporition\n",
    "y.value_counts(normalize =True)"
   ]
  },
  {
   "cell_type": "markdown",
   "metadata": {},
   "source": [
    "- The largest class is `No` which makes up almost 3/4 of the data.\n",
    "- The null accuracy is important because it serves as a benchmark for our model. \n",
    "- Let's say we were to train a \"dummy\" model that simply predicted \"No\" everytime because \"No\" is the largest class.\n",
    "- That would mean we'd have a model that's correct 73.4% of the time without doing any actual model training.\n",
    "- That would also mean that an actual trained model that produced a 75 or 76% accuracy wouldn't be that good of a model because it barely beats the \"dummy\" model."
   ]
  },
  {
   "cell_type": "code",
   "execution_count": null,
   "metadata": {},
   "outputs": [],
   "source": []
  },
  {
   "cell_type": "markdown",
   "metadata": {},
   "source": [
    "Let's train a logistic regression model on the two quantitative variables: `monthlycharges` and `tenure`"
   ]
  },
  {
   "cell_type": "code",
   "execution_count": 5,
   "metadata": {},
   "outputs": [
    {
     "data": {
      "text/html": [
       "<div>\n",
       "<style scoped>\n",
       "    .dataframe tbody tr th:only-of-type {\n",
       "        vertical-align: middle;\n",
       "    }\n",
       "\n",
       "    .dataframe tbody tr th {\n",
       "        vertical-align: top;\n",
       "    }\n",
       "\n",
       "    .dataframe thead th {\n",
       "        text-align: right;\n",
       "    }\n",
       "</style>\n",
       "<table border=\"1\" class=\"dataframe\">\n",
       "  <thead>\n",
       "    <tr style=\"text-align: right;\">\n",
       "      <th></th>\n",
       "      <th>tenure</th>\n",
       "      <th>monthlycharges</th>\n",
       "    </tr>\n",
       "    <tr>\n",
       "      <th>customerID</th>\n",
       "      <th></th>\n",
       "      <th></th>\n",
       "    </tr>\n",
       "  </thead>\n",
       "  <tbody>\n",
       "    <tr>\n",
       "      <th>7590-VHVEG</th>\n",
       "      <td>1</td>\n",
       "      <td>29.85</td>\n",
       "    </tr>\n",
       "    <tr>\n",
       "      <th>5575-GNVDE</th>\n",
       "      <td>34</td>\n",
       "      <td>56.95</td>\n",
       "    </tr>\n",
       "    <tr>\n",
       "      <th>3668-QPYBK</th>\n",
       "      <td>2</td>\n",
       "      <td>53.85</td>\n",
       "    </tr>\n",
       "    <tr>\n",
       "      <th>7795-CFOCW</th>\n",
       "      <td>45</td>\n",
       "      <td>42.30</td>\n",
       "    </tr>\n",
       "    <tr>\n",
       "      <th>9237-HQITU</th>\n",
       "      <td>2</td>\n",
       "      <td>70.70</td>\n",
       "    </tr>\n",
       "  </tbody>\n",
       "</table>\n",
       "</div>"
      ],
      "text/plain": [
       "            tenure  monthlycharges\n",
       "customerID                        \n",
       "7590-VHVEG       1           29.85\n",
       "5575-GNVDE      34           56.95\n",
       "3668-QPYBK       2           53.85\n",
       "7795-CFOCW      45           42.30\n",
       "9237-HQITU       2           70.70"
      ]
     },
     "execution_count": 5,
     "metadata": {},
     "output_type": "execute_result"
    }
   ],
   "source": [
    "#Select just the numerical columns\n",
    "X_num =churn.select_dtypes(\"number\")\n",
    "X_num.head()"
   ]
  },
  {
   "cell_type": "code",
   "execution_count": 6,
   "metadata": {},
   "outputs": [
    {
     "data": {
      "text/plain": [
       "LogisticRegression()"
      ]
     },
     "execution_count": 6,
     "metadata": {},
     "output_type": "execute_result"
    }
   ],
   "source": [
    "#Convert No -> 0 and Yes -> 1. Follows alphanumeric ordering\n",
    "y = y.factorize()[0]\n",
    "\n",
    "#Initialize model\n",
    "lr = LogisticRegression()\n",
    "#Fit on data\n",
    "lr.fit(X_num, y)"
   ]
  },
  {
   "cell_type": "code",
   "execution_count": 7,
   "metadata": {},
   "outputs": [
    {
     "data": {
      "text/plain": [
       "0.7842718998862344"
      ]
     },
     "execution_count": 7,
     "metadata": {},
     "output_type": "execute_result"
    }
   ],
   "source": [
    "#Accuracy score\n",
    "lr.score(X_num, y)"
   ]
  },
  {
   "cell_type": "markdown",
   "metadata": {},
   "source": [
    "### Probability Decision Boundary Plot\n",
    "\n",
    "Let's visualize the logistic regression model. And what we mean by visualize is we're going to plot a 2-d plot that color-encodes the probailities of the the two classes.\n",
    "\n",
    "- Red shaded areas indicate the not churn\n",
    "- Blue shaded areas indicate churn\n",
    "- Shading corresponds to prediction strength"
   ]
  },
  {
   "cell_type": "code",
   "execution_count": 8,
   "metadata": {},
   "outputs": [
    {
     "data": {
      "image/png": "[encoded data removed]",
      "text/plain": [
       "<Figure size 648x576 with 1 Axes>"
      ]
     },
     "metadata": {
      "needs_background": "light"
     },
     "output_type": "display_data"
    }
   ],
   "source": [
    "min1, max1 = X_num.iloc[:, 0].min()-10, X_num.iloc[:, 0].max()+10\n",
    "min2, max2 = X_num.iloc[:, 1].min()-10, X_num.iloc[:, 1].max()+10\n",
    "x1grid = np.arange(min1, max1, 0.1)\n",
    "x2grid = np.arange(min2, max2, 0.1)\n",
    "xx, yy = np.meshgrid(x1grid, x2grid)\n",
    "r1, r2 = xx.flatten(), yy.flatten()\n",
    "r1, r2 = r1.reshape((len(r1), 1)), r2.reshape((len(r2), 1))\n",
    "grid = np.hstack((r1,r2))\n",
    "yhat = lr.predict_proba(grid)[:, 1]\n",
    "zz = yhat.reshape(xx.shape)\n",
    "plt.figure(figsize=(9, 8))\n",
    "plt.contourf(xx, yy, zz, cmap='RdBu', alpha = .4)\n",
    "plt.xlabel(\"Tenure\")\n",
    "plt.ylabel(\"Monthly Charges\");"
   ]
  },
  {
   "cell_type": "code",
   "execution_count": null,
   "metadata": {},
   "outputs": [],
   "source": []
  },
  {
   "cell_type": "markdown",
   "metadata": {},
   "source": [
    "### One-Hot-Encoding\n",
    "\n",
    "Time to train a model using the categorical variables. We obviously cannot throw directly them into a model, we need to do a form of preprocessing called one-hot encoding that turns categorical data into numerical data.\n",
    "\n",
    "One-hot-encoding creates `k` new variables for a single categorical variable with `k` categories (or levels), where each new variable is coded with a `1` for the observations that contain that category, and a `0` for each observation that doesn't. \n",
    "\n",
    "We're going to learn hot to create these variables with both pandas and sklearn."
   ]
  },
  {
   "cell_type": "code",
   "execution_count": null,
   "metadata": {},
   "outputs": [],
   "source": []
  },
  {
   "cell_type": "markdown",
   "metadata": {},
   "source": [
    "Making dummy variables in pandas"
   ]
  },
  {
   "cell_type": "code",
   "execution_count": 9,
   "metadata": {},
   "outputs": [
    {
     "data": {
      "text/plain": [
       "customerID\n",
       "7590-VHVEG             Electronic check\n",
       "5575-GNVDE                 Mailed check\n",
       "3668-QPYBK                 Mailed check\n",
       "7795-CFOCW    Bank transfer (automatic)\n",
       "9237-HQITU             Electronic check\n",
       "Name: paymentmethod, dtype: object"
      ]
     },
     "execution_count": 9,
     "metadata": {},
     "output_type": "execute_result"
    }
   ],
   "source": [
    "#Pick PaymentMethod variable\n",
    "\n",
    "pm = churn.paymentmethod\n",
    "pm.head()"
   ]
  },
  {
   "cell_type": "code",
   "execution_count": 10,
   "metadata": {},
   "outputs": [
    {
     "data": {
      "text/plain": [
       "array(['Electronic check', 'Mailed check', 'Bank transfer (automatic)',\n",
       "       'Credit card (automatic)'], dtype=object)"
      ]
     },
     "execution_count": 10,
     "metadata": {},
     "output_type": "execute_result"
    }
   ],
   "source": [
    "#Show unique categories in paymentmethod\n",
    "pm.unique()"
   ]
  },
  {
   "cell_type": "markdown",
   "metadata": {},
   "source": [
    "`paymentmethod` has four unique variables which means we are going to create a dummy variable dataframe with four columns"
   ]
  },
  {
   "cell_type": "code",
   "execution_count": 11,
   "metadata": {},
   "outputs": [
    {
     "data": {
      "text/html": [
       "<div>\n",
       "<style scoped>\n",
       "    .dataframe tbody tr th:only-of-type {\n",
       "        vertical-align: middle;\n",
       "    }\n",
       "\n",
       "    .dataframe tbody tr th {\n",
       "        vertical-align: top;\n",
       "    }\n",
       "\n",
       "    .dataframe thead th {\n",
       "        text-align: right;\n",
       "    }\n",
       "</style>\n",
       "<table border=\"1\" class=\"dataframe\">\n",
       "  <thead>\n",
       "    <tr style=\"text-align: right;\">\n",
       "      <th></th>\n",
       "      <th>paymentmethod__Bank transfer (automatic)</th>\n",
       "      <th>paymentmethod__Credit card (automatic)</th>\n",
       "      <th>paymentmethod__Electronic check</th>\n",
       "      <th>paymentmethod__Mailed check</th>\n",
       "    </tr>\n",
       "    <tr>\n",
       "      <th>customerID</th>\n",
       "      <th></th>\n",
       "      <th></th>\n",
       "      <th></th>\n",
       "      <th></th>\n",
       "    </tr>\n",
       "  </thead>\n",
       "  <tbody>\n",
       "    <tr>\n",
       "      <th>7590-VHVEG</th>\n",
       "      <td>0</td>\n",
       "      <td>0</td>\n",
       "      <td>1</td>\n",
       "      <td>0</td>\n",
       "    </tr>\n",
       "    <tr>\n",
       "      <th>5575-GNVDE</th>\n",
       "      <td>0</td>\n",
       "      <td>0</td>\n",
       "      <td>0</td>\n",
       "      <td>1</td>\n",
       "    </tr>\n",
       "    <tr>\n",
       "      <th>3668-QPYBK</th>\n",
       "      <td>0</td>\n",
       "      <td>0</td>\n",
       "      <td>0</td>\n",
       "      <td>1</td>\n",
       "    </tr>\n",
       "    <tr>\n",
       "      <th>7795-CFOCW</th>\n",
       "      <td>1</td>\n",
       "      <td>0</td>\n",
       "      <td>0</td>\n",
       "      <td>0</td>\n",
       "    </tr>\n",
       "    <tr>\n",
       "      <th>9237-HQITU</th>\n",
       "      <td>0</td>\n",
       "      <td>0</td>\n",
       "      <td>1</td>\n",
       "      <td>0</td>\n",
       "    </tr>\n",
       "  </tbody>\n",
       "</table>\n",
       "</div>"
      ],
      "text/plain": [
       "            paymentmethod__Bank transfer (automatic)  \\\n",
       "customerID                                             \n",
       "7590-VHVEG                                         0   \n",
       "5575-GNVDE                                         0   \n",
       "3668-QPYBK                                         0   \n",
       "7795-CFOCW                                         1   \n",
       "9237-HQITU                                         0   \n",
       "\n",
       "            paymentmethod__Credit card (automatic)  \\\n",
       "customerID                                           \n",
       "7590-VHVEG                                       0   \n",
       "5575-GNVDE                                       0   \n",
       "3668-QPYBK                                       0   \n",
       "7795-CFOCW                                       0   \n",
       "9237-HQITU                                       0   \n",
       "\n",
       "            paymentmethod__Electronic check  paymentmethod__Mailed check  \n",
       "customerID                                                                \n",
       "7590-VHVEG                                1                            0  \n",
       "5575-GNVDE                                0                            1  \n",
       "3668-QPYBK                                0                            1  \n",
       "7795-CFOCW                                0                            0  \n",
       "9237-HQITU                                1                            0  "
      ]
     },
     "execution_count": 11,
     "metadata": {},
     "output_type": "execute_result"
    }
   ],
   "source": [
    "pm_dummies = pd.get_dummies(pm, prefix=\"paymentmethod_\")\n",
    "pm_dummies.head()"
   ]
  },
  {
   "cell_type": "code",
   "execution_count": null,
   "metadata": {},
   "outputs": [],
   "source": []
  },
  {
   "cell_type": "markdown",
   "metadata": {},
   "source": [
    "`pd.get_dummies` can be used on the entire dataset"
   ]
  },
  {
   "cell_type": "code",
   "execution_count": 12,
   "metadata": {},
   "outputs": [
    {
     "data": {
      "text/html": [
       "<div>\n",
       "<style scoped>\n",
       "    .dataframe tbody tr th:only-of-type {\n",
       "        vertical-align: middle;\n",
       "    }\n",
       "\n",
       "    .dataframe tbody tr th {\n",
       "        vertical-align: top;\n",
       "    }\n",
       "\n",
       "    .dataframe thead th {\n",
       "        text-align: right;\n",
       "    }\n",
       "</style>\n",
       "<table border=\"1\" class=\"dataframe\">\n",
       "  <thead>\n",
       "    <tr style=\"text-align: right;\">\n",
       "      <th></th>\n",
       "      <th>churn</th>\n",
       "      <th>tenure</th>\n",
       "      <th>monthlycharges</th>\n",
       "      <th>phoneservice_No</th>\n",
       "      <th>phoneservice_Yes</th>\n",
       "      <th>internetservice_DSL</th>\n",
       "      <th>internetservice_Fiber optic</th>\n",
       "      <th>internetservice_No</th>\n",
       "      <th>onlinesecurity_No</th>\n",
       "      <th>onlinesecurity_Yes</th>\n",
       "      <th>...</th>\n",
       "      <th>streamingmovies_Yes</th>\n",
       "      <th>contract_Month-to-month</th>\n",
       "      <th>contract_One year</th>\n",
       "      <th>contract_Two year</th>\n",
       "      <th>paperlessbilling_No</th>\n",
       "      <th>paperlessbilling_Yes</th>\n",
       "      <th>paymentmethod_Bank transfer (automatic)</th>\n",
       "      <th>paymentmethod_Credit card (automatic)</th>\n",
       "      <th>paymentmethod_Electronic check</th>\n",
       "      <th>paymentmethod_Mailed check</th>\n",
       "    </tr>\n",
       "    <tr>\n",
       "      <th>customerID</th>\n",
       "      <th></th>\n",
       "      <th></th>\n",
       "      <th></th>\n",
       "      <th></th>\n",
       "      <th></th>\n",
       "      <th></th>\n",
       "      <th></th>\n",
       "      <th></th>\n",
       "      <th></th>\n",
       "      <th></th>\n",
       "      <th></th>\n",
       "      <th></th>\n",
       "      <th></th>\n",
       "      <th></th>\n",
       "      <th></th>\n",
       "      <th></th>\n",
       "      <th></th>\n",
       "      <th></th>\n",
       "      <th></th>\n",
       "      <th></th>\n",
       "      <th></th>\n",
       "    </tr>\n",
       "  </thead>\n",
       "  <tbody>\n",
       "    <tr>\n",
       "      <th>7590-VHVEG</th>\n",
       "      <td>No</td>\n",
       "      <td>1</td>\n",
       "      <td>29.85</td>\n",
       "      <td>1</td>\n",
       "      <td>0</td>\n",
       "      <td>1</td>\n",
       "      <td>0</td>\n",
       "      <td>0</td>\n",
       "      <td>1</td>\n",
       "      <td>0</td>\n",
       "      <td>...</td>\n",
       "      <td>0</td>\n",
       "      <td>1</td>\n",
       "      <td>0</td>\n",
       "      <td>0</td>\n",
       "      <td>0</td>\n",
       "      <td>1</td>\n",
       "      <td>0</td>\n",
       "      <td>0</td>\n",
       "      <td>1</td>\n",
       "      <td>0</td>\n",
       "    </tr>\n",
       "    <tr>\n",
       "      <th>5575-GNVDE</th>\n",
       "      <td>No</td>\n",
       "      <td>34</td>\n",
       "      <td>56.95</td>\n",
       "      <td>0</td>\n",
       "      <td>1</td>\n",
       "      <td>1</td>\n",
       "      <td>0</td>\n",
       "      <td>0</td>\n",
       "      <td>0</td>\n",
       "      <td>1</td>\n",
       "      <td>...</td>\n",
       "      <td>0</td>\n",
       "      <td>0</td>\n",
       "      <td>1</td>\n",
       "      <td>0</td>\n",
       "      <td>1</td>\n",
       "      <td>0</td>\n",
       "      <td>0</td>\n",
       "      <td>0</td>\n",
       "      <td>0</td>\n",
       "      <td>1</td>\n",
       "    </tr>\n",
       "    <tr>\n",
       "      <th>3668-QPYBK</th>\n",
       "      <td>Yes</td>\n",
       "      <td>2</td>\n",
       "      <td>53.85</td>\n",
       "      <td>0</td>\n",
       "      <td>1</td>\n",
       "      <td>1</td>\n",
       "      <td>0</td>\n",
       "      <td>0</td>\n",
       "      <td>0</td>\n",
       "      <td>1</td>\n",
       "      <td>...</td>\n",
       "      <td>0</td>\n",
       "      <td>1</td>\n",
       "      <td>0</td>\n",
       "      <td>0</td>\n",
       "      <td>0</td>\n",
       "      <td>1</td>\n",
       "      <td>0</td>\n",
       "      <td>0</td>\n",
       "      <td>0</td>\n",
       "      <td>1</td>\n",
       "    </tr>\n",
       "    <tr>\n",
       "      <th>7795-CFOCW</th>\n",
       "      <td>No</td>\n",
       "      <td>45</td>\n",
       "      <td>42.30</td>\n",
       "      <td>1</td>\n",
       "      <td>0</td>\n",
       "      <td>1</td>\n",
       "      <td>0</td>\n",
       "      <td>0</td>\n",
       "      <td>0</td>\n",
       "      <td>1</td>\n",
       "      <td>...</td>\n",
       "      <td>0</td>\n",
       "      <td>0</td>\n",
       "      <td>1</td>\n",
       "      <td>0</td>\n",
       "      <td>1</td>\n",
       "      <td>0</td>\n",
       "      <td>1</td>\n",
       "      <td>0</td>\n",
       "      <td>0</td>\n",
       "      <td>0</td>\n",
       "    </tr>\n",
       "    <tr>\n",
       "      <th>9237-HQITU</th>\n",
       "      <td>Yes</td>\n",
       "      <td>2</td>\n",
       "      <td>70.70</td>\n",
       "      <td>0</td>\n",
       "      <td>1</td>\n",
       "      <td>0</td>\n",
       "      <td>1</td>\n",
       "      <td>0</td>\n",
       "      <td>1</td>\n",
       "      <td>0</td>\n",
       "      <td>...</td>\n",
       "      <td>0</td>\n",
       "      <td>1</td>\n",
       "      <td>0</td>\n",
       "      <td>0</td>\n",
       "      <td>0</td>\n",
       "      <td>1</td>\n",
       "      <td>0</td>\n",
       "      <td>0</td>\n",
       "      <td>1</td>\n",
       "      <td>0</td>\n",
       "    </tr>\n",
       "  </tbody>\n",
       "</table>\n",
       "<p>5 rows × 25 columns</p>\n",
       "</div>"
      ],
      "text/plain": [
       "           churn  tenure  monthlycharges  phoneservice_No  phoneservice_Yes  \\\n",
       "customerID                                                                    \n",
       "7590-VHVEG    No       1           29.85                1                 0   \n",
       "5575-GNVDE    No      34           56.95                0                 1   \n",
       "3668-QPYBK   Yes       2           53.85                0                 1   \n",
       "7795-CFOCW    No      45           42.30                1                 0   \n",
       "9237-HQITU   Yes       2           70.70                0                 1   \n",
       "\n",
       "            internetservice_DSL  internetservice_Fiber optic  \\\n",
       "customerID                                                     \n",
       "7590-VHVEG                    1                            0   \n",
       "5575-GNVDE                    1                            0   \n",
       "3668-QPYBK                    1                            0   \n",
       "7795-CFOCW                    1                            0   \n",
       "9237-HQITU                    0                            1   \n",
       "\n",
       "            internetservice_No  onlinesecurity_No  onlinesecurity_Yes  ...  \\\n",
       "customerID                                                             ...   \n",
       "7590-VHVEG                   0                  1                   0  ...   \n",
       "5575-GNVDE                   0                  0                   1  ...   \n",
       "3668-QPYBK                   0                  0                   1  ...   \n",
       "7795-CFOCW                   0                  0                   1  ...   \n",
       "9237-HQITU                   0                  1                   0  ...   \n",
       "\n",
       "            streamingmovies_Yes  contract_Month-to-month  contract_One year  \\\n",
       "customerID                                                                    \n",
       "7590-VHVEG                    0                        1                  0   \n",
       "5575-GNVDE                    0                        0                  1   \n",
       "3668-QPYBK                    0                        1                  0   \n",
       "7795-CFOCW                    0                        0                  1   \n",
       "9237-HQITU                    0                        1                  0   \n",
       "\n",
       "            contract_Two year  paperlessbilling_No  paperlessbilling_Yes  \\\n",
       "customerID                                                                 \n",
       "7590-VHVEG                  0                    0                     1   \n",
       "5575-GNVDE                  0                    1                     0   \n",
       "3668-QPYBK                  0                    0                     1   \n",
       "7795-CFOCW                  0                    1                     0   \n",
       "9237-HQITU                  0                    0                     1   \n",
       "\n",
       "            paymentmethod_Bank transfer (automatic)  \\\n",
       "customerID                                            \n",
       "7590-VHVEG                                        0   \n",
       "5575-GNVDE                                        0   \n",
       "3668-QPYBK                                        0   \n",
       "7795-CFOCW                                        1   \n",
       "9237-HQITU                                        0   \n",
       "\n",
       "            paymentmethod_Credit card (automatic)  \\\n",
       "customerID                                          \n",
       "7590-VHVEG                                      0   \n",
       "5575-GNVDE                                      0   \n",
       "3668-QPYBK                                      0   \n",
       "7795-CFOCW                                      0   \n",
       "9237-HQITU                                      0   \n",
       "\n",
       "            paymentmethod_Electronic check  paymentmethod_Mailed check  \n",
       "customerID                                                              \n",
       "7590-VHVEG                               1                           0  \n",
       "5575-GNVDE                               0                           1  \n",
       "3668-QPYBK                               0                           1  \n",
       "7795-CFOCW                               0                           0  \n",
       "9237-HQITU                               1                           0  \n",
       "\n",
       "[5 rows x 25 columns]"
      ]
     },
     "execution_count": 12,
     "metadata": {},
     "output_type": "execute_result"
    }
   ],
   "source": [
    "#Grab categorical columns, referred to as object by pandas\n",
    "\n",
    "\n",
    "o_cols = churn.select_dtypes(\"object\").columns[:-1] # [:-1] is for excluding the target variable churn \n",
    "churn_dummies = pd.get_dummies(churn, columns=o_cols)\n",
    "churn_dummies.head()"
   ]
  },
  {
   "cell_type": "code",
   "execution_count": null,
   "metadata": {},
   "outputs": [],
   "source": []
  },
  {
   "cell_type": "markdown",
   "metadata": {},
   "source": [
    "**Dummy Variable Trap section**\n",
    "\n",
    "The [\"Dummy Variable Trap\"](https://www.algosome.com/articles/dummy-variable-trap-regression.html) occurs when using One-Hot-Encoding on multiple categorical variables within the same set of features. This is because each set of one-hot-encoded variables can be added together across columns to create a single column of all `1`s, and so are multi-colinear when multiple one-hot-encoded variables exist within a given model.\n",
    "\n",
    "To resolve this,we remove the first one-hot-encoded variable for each categorical variables, resulting in `k-1` so-called \"Dummy Variables\". \n",
    "\n",
    "In pandas we can address the dummy variable trap issue by setting `drop_first` to `True`"
   ]
  },
  {
   "cell_type": "code",
   "execution_count": 13,
   "metadata": {},
   "outputs": [
    {
     "data": {
      "text/html": [
       "<div>\n",
       "<style scoped>\n",
       "    .dataframe tbody tr th:only-of-type {\n",
       "        vertical-align: middle;\n",
       "    }\n",
       "\n",
       "    .dataframe tbody tr th {\n",
       "        vertical-align: top;\n",
       "    }\n",
       "\n",
       "    .dataframe thead th {\n",
       "        text-align: right;\n",
       "    }\n",
       "</style>\n",
       "<table border=\"1\" class=\"dataframe\">\n",
       "  <thead>\n",
       "    <tr style=\"text-align: right;\">\n",
       "      <th></th>\n",
       "      <th>phoneservice__Yes</th>\n",
       "    </tr>\n",
       "    <tr>\n",
       "      <th>customerID</th>\n",
       "      <th></th>\n",
       "    </tr>\n",
       "  </thead>\n",
       "  <tbody>\n",
       "    <tr>\n",
       "      <th>7590-VHVEG</th>\n",
       "      <td>0</td>\n",
       "    </tr>\n",
       "    <tr>\n",
       "      <th>5575-GNVDE</th>\n",
       "      <td>1</td>\n",
       "    </tr>\n",
       "    <tr>\n",
       "      <th>3668-QPYBK</th>\n",
       "      <td>1</td>\n",
       "    </tr>\n",
       "    <tr>\n",
       "      <th>7795-CFOCW</th>\n",
       "      <td>0</td>\n",
       "    </tr>\n",
       "    <tr>\n",
       "      <th>9237-HQITU</th>\n",
       "      <td>1</td>\n",
       "    </tr>\n",
       "  </tbody>\n",
       "</table>\n",
       "</div>"
      ],
      "text/plain": [
       "            phoneservice__Yes\n",
       "customerID                   \n",
       "7590-VHVEG                  0\n",
       "5575-GNVDE                  1\n",
       "3668-QPYBK                  1\n",
       "7795-CFOCW                  0\n",
       "9237-HQITU                  1"
      ]
     },
     "execution_count": 13,
     "metadata": {},
     "output_type": "execute_result"
    }
   ],
   "source": [
    "#Make dummy variables for phoneservice\n",
    "pd.get_dummies(churn.phoneservice, prefix=\"phoneservice_\", drop_first=True).head()"
   ]
  },
  {
   "cell_type": "markdown",
   "metadata": {},
   "source": [
    "Remember it's unneccesary for each of the two categories in phoneservices to have each own's column.\n",
    "\n",
    "Even though \"No\" isn't in the dataframe above, it's still represented in the data by virtue of the 0 value under the `phoneservice__Yes` column."
   ]
  },
  {
   "cell_type": "code",
   "execution_count": null,
   "metadata": {},
   "outputs": [],
   "source": []
  },
  {
   "cell_type": "markdown",
   "metadata": {},
   "source": [
    "Repeat process for entire set of dummy variables"
   ]
  },
  {
   "cell_type": "code",
   "execution_count": 14,
   "metadata": {},
   "outputs": [
    {
     "data": {
      "text/html": [
       "<div>\n",
       "<style scoped>\n",
       "    .dataframe tbody tr th:only-of-type {\n",
       "        vertical-align: middle;\n",
       "    }\n",
       "\n",
       "    .dataframe tbody tr th {\n",
       "        vertical-align: top;\n",
       "    }\n",
       "\n",
       "    .dataframe thead th {\n",
       "        text-align: right;\n",
       "    }\n",
       "</style>\n",
       "<table border=\"1\" class=\"dataframe\">\n",
       "  <thead>\n",
       "    <tr style=\"text-align: right;\">\n",
       "      <th></th>\n",
       "      <th>churn</th>\n",
       "      <th>tenure</th>\n",
       "      <th>monthlycharges</th>\n",
       "      <th>phoneservice_Yes</th>\n",
       "      <th>internetservice_Fiber optic</th>\n",
       "      <th>internetservice_No</th>\n",
       "      <th>onlinesecurity_Yes</th>\n",
       "      <th>techsupport_Yes</th>\n",
       "      <th>streamingtv_Yes</th>\n",
       "      <th>streamingmovies_Yes</th>\n",
       "      <th>contract_One year</th>\n",
       "      <th>contract_Two year</th>\n",
       "      <th>paperlessbilling_Yes</th>\n",
       "      <th>paymentmethod_Credit card (automatic)</th>\n",
       "      <th>paymentmethod_Electronic check</th>\n",
       "      <th>paymentmethod_Mailed check</th>\n",
       "    </tr>\n",
       "    <tr>\n",
       "      <th>customerID</th>\n",
       "      <th></th>\n",
       "      <th></th>\n",
       "      <th></th>\n",
       "      <th></th>\n",
       "      <th></th>\n",
       "      <th></th>\n",
       "      <th></th>\n",
       "      <th></th>\n",
       "      <th></th>\n",
       "      <th></th>\n",
       "      <th></th>\n",
       "      <th></th>\n",
       "      <th></th>\n",
       "      <th></th>\n",
       "      <th></th>\n",
       "      <th></th>\n",
       "    </tr>\n",
       "  </thead>\n",
       "  <tbody>\n",
       "    <tr>\n",
       "      <th>7590-VHVEG</th>\n",
       "      <td>No</td>\n",
       "      <td>1</td>\n",
       "      <td>29.85</td>\n",
       "      <td>0</td>\n",
       "      <td>0</td>\n",
       "      <td>0</td>\n",
       "      <td>0</td>\n",
       "      <td>0</td>\n",
       "      <td>0</td>\n",
       "      <td>0</td>\n",
       "      <td>0</td>\n",
       "      <td>0</td>\n",
       "      <td>1</td>\n",
       "      <td>0</td>\n",
       "      <td>1</td>\n",
       "      <td>0</td>\n",
       "    </tr>\n",
       "    <tr>\n",
       "      <th>5575-GNVDE</th>\n",
       "      <td>No</td>\n",
       "      <td>34</td>\n",
       "      <td>56.95</td>\n",
       "      <td>1</td>\n",
       "      <td>0</td>\n",
       "      <td>0</td>\n",
       "      <td>1</td>\n",
       "      <td>0</td>\n",
       "      <td>0</td>\n",
       "      <td>0</td>\n",
       "      <td>1</td>\n",
       "      <td>0</td>\n",
       "      <td>0</td>\n",
       "      <td>0</td>\n",
       "      <td>0</td>\n",
       "      <td>1</td>\n",
       "    </tr>\n",
       "    <tr>\n",
       "      <th>3668-QPYBK</th>\n",
       "      <td>Yes</td>\n",
       "      <td>2</td>\n",
       "      <td>53.85</td>\n",
       "      <td>1</td>\n",
       "      <td>0</td>\n",
       "      <td>0</td>\n",
       "      <td>1</td>\n",
       "      <td>0</td>\n",
       "      <td>0</td>\n",
       "      <td>0</td>\n",
       "      <td>0</td>\n",
       "      <td>0</td>\n",
       "      <td>1</td>\n",
       "      <td>0</td>\n",
       "      <td>0</td>\n",
       "      <td>1</td>\n",
       "    </tr>\n",
       "    <tr>\n",
       "      <th>7795-CFOCW</th>\n",
       "      <td>No</td>\n",
       "      <td>45</td>\n",
       "      <td>42.30</td>\n",
       "      <td>0</td>\n",
       "      <td>0</td>\n",
       "      <td>0</td>\n",
       "      <td>1</td>\n",
       "      <td>1</td>\n",
       "      <td>0</td>\n",
       "      <td>0</td>\n",
       "      <td>1</td>\n",
       "      <td>0</td>\n",
       "      <td>0</td>\n",
       "      <td>0</td>\n",
       "      <td>0</td>\n",
       "      <td>0</td>\n",
       "    </tr>\n",
       "    <tr>\n",
       "      <th>9237-HQITU</th>\n",
       "      <td>Yes</td>\n",
       "      <td>2</td>\n",
       "      <td>70.70</td>\n",
       "      <td>1</td>\n",
       "      <td>1</td>\n",
       "      <td>0</td>\n",
       "      <td>0</td>\n",
       "      <td>0</td>\n",
       "      <td>0</td>\n",
       "      <td>0</td>\n",
       "      <td>0</td>\n",
       "      <td>0</td>\n",
       "      <td>1</td>\n",
       "      <td>0</td>\n",
       "      <td>1</td>\n",
       "      <td>0</td>\n",
       "    </tr>\n",
       "  </tbody>\n",
       "</table>\n",
       "</div>"
      ],
      "text/plain": [
       "           churn  tenure  monthlycharges  phoneservice_Yes  \\\n",
       "customerID                                                   \n",
       "7590-VHVEG    No       1           29.85                 0   \n",
       "5575-GNVDE    No      34           56.95                 1   \n",
       "3668-QPYBK   Yes       2           53.85                 1   \n",
       "7795-CFOCW    No      45           42.30                 0   \n",
       "9237-HQITU   Yes       2           70.70                 1   \n",
       "\n",
       "            internetservice_Fiber optic  internetservice_No  \\\n",
       "customerID                                                    \n",
       "7590-VHVEG                            0                   0   \n",
       "5575-GNVDE                            0                   0   \n",
       "3668-QPYBK                            0                   0   \n",
       "7795-CFOCW                            0                   0   \n",
       "9237-HQITU                            1                   0   \n",
       "\n",
       "            onlinesecurity_Yes  techsupport_Yes  streamingtv_Yes  \\\n",
       "customerID                                                         \n",
       "7590-VHVEG                   0                0                0   \n",
       "5575-GNVDE                   1                0                0   \n",
       "3668-QPYBK                   1                0                0   \n",
       "7795-CFOCW                   1                1                0   \n",
       "9237-HQITU                   0                0                0   \n",
       "\n",
       "            streamingmovies_Yes  contract_One year  contract_Two year  \\\n",
       "customerID                                                              \n",
       "7590-VHVEG                    0                  0                  0   \n",
       "5575-GNVDE                    0                  1                  0   \n",
       "3668-QPYBK                    0                  0                  0   \n",
       "7795-CFOCW                    0                  1                  0   \n",
       "9237-HQITU                    0                  0                  0   \n",
       "\n",
       "            paperlessbilling_Yes  paymentmethod_Credit card (automatic)  \\\n",
       "customerID                                                                \n",
       "7590-VHVEG                     1                                      0   \n",
       "5575-GNVDE                     0                                      0   \n",
       "3668-QPYBK                     1                                      0   \n",
       "7795-CFOCW                     0                                      0   \n",
       "9237-HQITU                     1                                      0   \n",
       "\n",
       "            paymentmethod_Electronic check  paymentmethod_Mailed check  \n",
       "customerID                                                              \n",
       "7590-VHVEG                               1                           0  \n",
       "5575-GNVDE                               0                           1  \n",
       "3668-QPYBK                               0                           1  \n",
       "7795-CFOCW                               0                           0  \n",
       "9237-HQITU                               1                           0  "
      ]
     },
     "execution_count": 14,
     "metadata": {},
     "output_type": "execute_result"
    }
   ],
   "source": [
    "churn_dummies = pd.get_dummies(churn, columns=o_cols, drop_first=True)\n",
    "churn_dummies.head()"
   ]
  },
  {
   "cell_type": "code",
   "execution_count": 15,
   "metadata": {},
   "outputs": [
    {
     "data": {
      "text/plain": [
       "(7032, 16)"
      ]
     },
     "execution_count": 15,
     "metadata": {},
     "output_type": "execute_result"
    }
   ],
   "source": [
    "#Number of features is reduced from 25 to 16\n",
    "churn_dummies.shape"
   ]
  },
  {
   "cell_type": "code",
   "execution_count": null,
   "metadata": {},
   "outputs": [],
   "source": []
  },
  {
   "cell_type": "markdown",
   "metadata": {},
   "source": [
    "### Sci-kit Learn way"
   ]
  },
  {
   "cell_type": "markdown",
   "metadata": {},
   "source": [
    "Initialize the one hot encoder object. \n",
    "\n",
    "Set drop = 'first' to avoid dummy variable trap."
   ]
  },
  {
   "cell_type": "code",
   "execution_count": 18,
   "metadata": {},
   "outputs": [],
   "source": [
    "\n",
    "ohe = OneHotEncoder(categories='auto', handle_unknown='error', sparse=False, drop=\"first\")"
   ]
  },
  {
   "cell_type": "code",
   "execution_count": 19,
   "metadata": {},
   "outputs": [
    {
     "data": {
      "text/plain": [
       "(7032, 3)"
      ]
     },
     "execution_count": 19,
     "metadata": {},
     "output_type": "execute_result"
    }
   ],
   "source": [
    "#Fit transform on the paymentmethod variable\n",
    "pm = churn[[\"paymentmethod\"]]\n",
    "pm_ohe = ohe.fit_transform(pm)\n",
    "pm_ohe.shape"
   ]
  },
  {
   "cell_type": "code",
   "execution_count": 20,
   "metadata": {},
   "outputs": [
    {
     "data": {
      "text/plain": [
       "(7032, 13)"
      ]
     },
     "execution_count": 20,
     "metadata": {},
     "output_type": "execute_result"
    }
   ],
   "source": [
    "#Fit transform on the object columns variable\n",
    "o_cols = churn.drop(\"churn\", axis = 1).select_dtypes(\"object\")\n",
    "\n",
    "churn_ohe = ohe.fit_transform(o_cols)\n",
    "churn_ohe.shape"
   ]
  },
  {
   "cell_type": "code",
   "execution_count": 24,
   "metadata": {},
   "outputs": [
    {
     "data": {
      "text/html": [
       "<div>\n",
       "<style scoped>\n",
       "    .dataframe tbody tr th:only-of-type {\n",
       "        vertical-align: middle;\n",
       "    }\n",
       "\n",
       "    .dataframe tbody tr th {\n",
       "        vertical-align: top;\n",
       "    }\n",
       "\n",
       "    .dataframe thead th {\n",
       "        text-align: right;\n",
       "    }\n",
       "</style>\n",
       "<table border=\"1\" class=\"dataframe\">\n",
       "  <thead>\n",
       "    <tr style=\"text-align: right;\">\n",
       "      <th></th>\n",
       "      <th>x0_Yes</th>\n",
       "      <th>x1_Fiber optic</th>\n",
       "      <th>x1_No</th>\n",
       "      <th>x2_Yes</th>\n",
       "      <th>x3_Yes</th>\n",
       "      <th>x4_Yes</th>\n",
       "      <th>x5_Yes</th>\n",
       "      <th>x6_One year</th>\n",
       "      <th>x6_Two year</th>\n",
       "      <th>x7_Yes</th>\n",
       "      <th>x8_Credit card (automatic)</th>\n",
       "      <th>x8_Electronic check</th>\n",
       "      <th>x8_Mailed check</th>\n",
       "    </tr>\n",
       "    <tr>\n",
       "      <th>customerID</th>\n",
       "      <th></th>\n",
       "      <th></th>\n",
       "      <th></th>\n",
       "      <th></th>\n",
       "      <th></th>\n",
       "      <th></th>\n",
       "      <th></th>\n",
       "      <th></th>\n",
       "      <th></th>\n",
       "      <th></th>\n",
       "      <th></th>\n",
       "      <th></th>\n",
       "      <th></th>\n",
       "    </tr>\n",
       "  </thead>\n",
       "  <tbody>\n",
       "    <tr>\n",
       "      <th>7590-VHVEG</th>\n",
       "      <td>0.0</td>\n",
       "      <td>0.0</td>\n",
       "      <td>0.0</td>\n",
       "      <td>0.0</td>\n",
       "      <td>0.0</td>\n",
       "      <td>0.0</td>\n",
       "      <td>0.0</td>\n",
       "      <td>0.0</td>\n",
       "      <td>0.0</td>\n",
       "      <td>1.0</td>\n",
       "      <td>0.0</td>\n",
       "      <td>1.0</td>\n",
       "      <td>0.0</td>\n",
       "    </tr>\n",
       "    <tr>\n",
       "      <th>5575-GNVDE</th>\n",
       "      <td>1.0</td>\n",
       "      <td>0.0</td>\n",
       "      <td>0.0</td>\n",
       "      <td>1.0</td>\n",
       "      <td>0.0</td>\n",
       "      <td>0.0</td>\n",
       "      <td>0.0</td>\n",
       "      <td>1.0</td>\n",
       "      <td>0.0</td>\n",
       "      <td>0.0</td>\n",
       "      <td>0.0</td>\n",
       "      <td>0.0</td>\n",
       "      <td>1.0</td>\n",
       "    </tr>\n",
       "    <tr>\n",
       "      <th>3668-QPYBK</th>\n",
       "      <td>1.0</td>\n",
       "      <td>0.0</td>\n",
       "      <td>0.0</td>\n",
       "      <td>1.0</td>\n",
       "      <td>0.0</td>\n",
       "      <td>0.0</td>\n",
       "      <td>0.0</td>\n",
       "      <td>0.0</td>\n",
       "      <td>0.0</td>\n",
       "      <td>1.0</td>\n",
       "      <td>0.0</td>\n",
       "      <td>0.0</td>\n",
       "      <td>1.0</td>\n",
       "    </tr>\n",
       "    <tr>\n",
       "      <th>7795-CFOCW</th>\n",
       "      <td>0.0</td>\n",
       "      <td>0.0</td>\n",
       "      <td>0.0</td>\n",
       "      <td>1.0</td>\n",
       "      <td>1.0</td>\n",
       "      <td>0.0</td>\n",
       "      <td>0.0</td>\n",
       "      <td>1.0</td>\n",
       "      <td>0.0</td>\n",
       "      <td>0.0</td>\n",
       "      <td>0.0</td>\n",
       "      <td>0.0</td>\n",
       "      <td>0.0</td>\n",
       "    </tr>\n",
       "    <tr>\n",
       "      <th>9237-HQITU</th>\n",
       "      <td>1.0</td>\n",
       "      <td>1.0</td>\n",
       "      <td>0.0</td>\n",
       "      <td>0.0</td>\n",
       "      <td>0.0</td>\n",
       "      <td>0.0</td>\n",
       "      <td>0.0</td>\n",
       "      <td>0.0</td>\n",
       "      <td>0.0</td>\n",
       "      <td>1.0</td>\n",
       "      <td>0.0</td>\n",
       "      <td>1.0</td>\n",
       "      <td>0.0</td>\n",
       "    </tr>\n",
       "  </tbody>\n",
       "</table>\n",
       "</div>"
      ],
      "text/plain": [
       "            x0_Yes  x1_Fiber optic  x1_No  x2_Yes  x3_Yes  x4_Yes  x5_Yes  \\\n",
       "customerID                                                                  \n",
       "7590-VHVEG     0.0             0.0    0.0     0.0     0.0     0.0     0.0   \n",
       "5575-GNVDE     1.0             0.0    0.0     1.0     0.0     0.0     0.0   \n",
       "3668-QPYBK     1.0             0.0    0.0     1.0     0.0     0.0     0.0   \n",
       "7795-CFOCW     0.0             0.0    0.0     1.0     1.0     0.0     0.0   \n",
       "9237-HQITU     1.0             1.0    0.0     0.0     0.0     0.0     0.0   \n",
       "\n",
       "            x6_One year  x6_Two year  x7_Yes  x8_Credit card (automatic)  \\\n",
       "customerID                                                                 \n",
       "7590-VHVEG          0.0          0.0     1.0                         0.0   \n",
       "5575-GNVDE          1.0          0.0     0.0                         0.0   \n",
       "3668-QPYBK          0.0          0.0     1.0                         0.0   \n",
       "7795-CFOCW          1.0          0.0     0.0                         0.0   \n",
       "9237-HQITU          0.0          0.0     1.0                         0.0   \n",
       "\n",
       "            x8_Electronic check  x8_Mailed check  \n",
       "customerID                                        \n",
       "7590-VHVEG                  1.0              0.0  \n",
       "5575-GNVDE                  0.0              1.0  \n",
       "3668-QPYBK                  0.0              1.0  \n",
       "7795-CFOCW                  0.0              0.0  \n",
       "9237-HQITU                  1.0              0.0  "
      ]
     },
     "execution_count": 24,
     "metadata": {},
     "output_type": "execute_result"
    }
   ],
   "source": [
    "#Make it dataframe\n",
    "churn_ohe = pd.DataFrame(index=churn.index, data=churn_ohe, columns=ohe.get_feature_names())\n",
    "churn_ohe.head()"
   ]
  },
  {
   "cell_type": "code",
   "execution_count": 26,
   "metadata": {},
   "outputs": [],
   "source": []
  },
  {
   "cell_type": "code",
   "execution_count": null,
   "metadata": {},
   "outputs": [],
   "source": []
  },
  {
   "cell_type": "markdown",
   "metadata": {},
   "source": [
    "Now let's join this with numerical data"
   ]
  },
  {
   "cell_type": "code",
   "execution_count": 26,
   "metadata": {},
   "outputs": [
    {
     "data": {
      "text/html": [
       "<div>\n",
       "<style scoped>\n",
       "    .dataframe tbody tr th:only-of-type {\n",
       "        vertical-align: middle;\n",
       "    }\n",
       "\n",
       "    .dataframe tbody tr th {\n",
       "        vertical-align: top;\n",
       "    }\n",
       "\n",
       "    .dataframe thead th {\n",
       "        text-align: right;\n",
       "    }\n",
       "</style>\n",
       "<table border=\"1\" class=\"dataframe\">\n",
       "  <thead>\n",
       "    <tr style=\"text-align: right;\">\n",
       "      <th></th>\n",
       "      <th>tenure</th>\n",
       "      <th>monthlycharges</th>\n",
       "      <th>x0_Yes</th>\n",
       "      <th>x1_Fiber optic</th>\n",
       "      <th>x1_No</th>\n",
       "      <th>x2_Yes</th>\n",
       "      <th>x3_Yes</th>\n",
       "      <th>x4_Yes</th>\n",
       "      <th>x5_Yes</th>\n",
       "      <th>x6_One year</th>\n",
       "      <th>x6_Two year</th>\n",
       "      <th>x7_Yes</th>\n",
       "      <th>x8_Credit card (automatic)</th>\n",
       "      <th>x8_Electronic check</th>\n",
       "      <th>x8_Mailed check</th>\n",
       "    </tr>\n",
       "    <tr>\n",
       "      <th>customerID</th>\n",
       "      <th></th>\n",
       "      <th></th>\n",
       "      <th></th>\n",
       "      <th></th>\n",
       "      <th></th>\n",
       "      <th></th>\n",
       "      <th></th>\n",
       "      <th></th>\n",
       "      <th></th>\n",
       "      <th></th>\n",
       "      <th></th>\n",
       "      <th></th>\n",
       "      <th></th>\n",
       "      <th></th>\n",
       "      <th></th>\n",
       "    </tr>\n",
       "  </thead>\n",
       "  <tbody>\n",
       "    <tr>\n",
       "      <th>7590-VHVEG</th>\n",
       "      <td>1</td>\n",
       "      <td>29.85</td>\n",
       "      <td>0.0</td>\n",
       "      <td>0.0</td>\n",
       "      <td>0.0</td>\n",
       "      <td>0.0</td>\n",
       "      <td>0.0</td>\n",
       "      <td>0.0</td>\n",
       "      <td>0.0</td>\n",
       "      <td>0.0</td>\n",
       "      <td>0.0</td>\n",
       "      <td>1.0</td>\n",
       "      <td>0.0</td>\n",
       "      <td>1.0</td>\n",
       "      <td>0.0</td>\n",
       "    </tr>\n",
       "    <tr>\n",
       "      <th>5575-GNVDE</th>\n",
       "      <td>34</td>\n",
       "      <td>56.95</td>\n",
       "      <td>1.0</td>\n",
       "      <td>0.0</td>\n",
       "      <td>0.0</td>\n",
       "      <td>1.0</td>\n",
       "      <td>0.0</td>\n",
       "      <td>0.0</td>\n",
       "      <td>0.0</td>\n",
       "      <td>1.0</td>\n",
       "      <td>0.0</td>\n",
       "      <td>0.0</td>\n",
       "      <td>0.0</td>\n",
       "      <td>0.0</td>\n",
       "      <td>1.0</td>\n",
       "    </tr>\n",
       "    <tr>\n",
       "      <th>3668-QPYBK</th>\n",
       "      <td>2</td>\n",
       "      <td>53.85</td>\n",
       "      <td>1.0</td>\n",
       "      <td>0.0</td>\n",
       "      <td>0.0</td>\n",
       "      <td>1.0</td>\n",
       "      <td>0.0</td>\n",
       "      <td>0.0</td>\n",
       "      <td>0.0</td>\n",
       "      <td>0.0</td>\n",
       "      <td>0.0</td>\n",
       "      <td>1.0</td>\n",
       "      <td>0.0</td>\n",
       "      <td>0.0</td>\n",
       "      <td>1.0</td>\n",
       "    </tr>\n",
       "    <tr>\n",
       "      <th>7795-CFOCW</th>\n",
       "      <td>45</td>\n",
       "      <td>42.30</td>\n",
       "      <td>0.0</td>\n",
       "      <td>0.0</td>\n",
       "      <td>0.0</td>\n",
       "      <td>1.0</td>\n",
       "      <td>1.0</td>\n",
       "      <td>0.0</td>\n",
       "      <td>0.0</td>\n",
       "      <td>1.0</td>\n",
       "      <td>0.0</td>\n",
       "      <td>0.0</td>\n",
       "      <td>0.0</td>\n",
       "      <td>0.0</td>\n",
       "      <td>0.0</td>\n",
       "    </tr>\n",
       "    <tr>\n",
       "      <th>9237-HQITU</th>\n",
       "      <td>2</td>\n",
       "      <td>70.70</td>\n",
       "      <td>1.0</td>\n",
       "      <td>1.0</td>\n",
       "      <td>0.0</td>\n",
       "      <td>0.0</td>\n",
       "      <td>0.0</td>\n",
       "      <td>0.0</td>\n",
       "      <td>0.0</td>\n",
       "      <td>0.0</td>\n",
       "      <td>0.0</td>\n",
       "      <td>1.0</td>\n",
       "      <td>0.0</td>\n",
       "      <td>1.0</td>\n",
       "      <td>0.0</td>\n",
       "    </tr>\n",
       "  </tbody>\n",
       "</table>\n",
       "</div>"
      ],
      "text/plain": [
       "            tenure  monthlycharges  x0_Yes  x1_Fiber optic  x1_No  x2_Yes  \\\n",
       "customerID                                                                  \n",
       "7590-VHVEG       1           29.85     0.0             0.0    0.0     0.0   \n",
       "5575-GNVDE      34           56.95     1.0             0.0    0.0     1.0   \n",
       "3668-QPYBK       2           53.85     1.0             0.0    0.0     1.0   \n",
       "7795-CFOCW      45           42.30     0.0             0.0    0.0     1.0   \n",
       "9237-HQITU       2           70.70     1.0             1.0    0.0     0.0   \n",
       "\n",
       "            x3_Yes  x4_Yes  x5_Yes  x6_One year  x6_Two year  x7_Yes  \\\n",
       "customerID                                                             \n",
       "7590-VHVEG     0.0     0.0     0.0          0.0          0.0     1.0   \n",
       "5575-GNVDE     0.0     0.0     0.0          1.0          0.0     0.0   \n",
       "3668-QPYBK     0.0     0.0     0.0          0.0          0.0     1.0   \n",
       "7795-CFOCW     1.0     0.0     0.0          1.0          0.0     0.0   \n",
       "9237-HQITU     0.0     0.0     0.0          0.0          0.0     1.0   \n",
       "\n",
       "            x8_Credit card (automatic)  x8_Electronic check  x8_Mailed check  \n",
       "customerID                                                                    \n",
       "7590-VHVEG                         0.0                  1.0              0.0  \n",
       "5575-GNVDE                         0.0                  0.0              1.0  \n",
       "3668-QPYBK                         0.0                  0.0              1.0  \n",
       "7795-CFOCW                         0.0                  0.0              0.0  \n",
       "9237-HQITU                         0.0                  1.0              0.0  "
      ]
     },
     "execution_count": 26,
     "metadata": {},
     "output_type": "execute_result"
    }
   ],
   "source": [
    "#Concatenate X_num and with churn_ohe.\n",
    "#Set axis = 1 to do a side by side concatenation\n",
    "X = pd.concat([X_num, churn_ohe], axis = 1)\n",
    "X.head()"
   ]
  },
  {
   "cell_type": "code",
   "execution_count": null,
   "metadata": {},
   "outputs": [],
   "source": []
  },
  {
   "cell_type": "markdown",
   "metadata": {},
   "source": [
    "**Now we are ready to do some modeling**"
   ]
  },
  {
   "cell_type": "code",
   "execution_count": null,
   "metadata": {},
   "outputs": [],
   "source": []
  },
  {
   "cell_type": "markdown",
   "metadata": {},
   "source": [
    "### Modeling with Logistic Regression"
   ]
  },
  {
   "cell_type": "markdown",
   "metadata": {},
   "source": [
    "Before we train our model we have to do a train test split.\n",
    "\n",
    "- We use test size of 25%\n",
    "- Set stratify = y to produce the same class proportions in both datasets"
   ]
  },
  {
   "cell_type": "code",
   "execution_count": 27,
   "metadata": {},
   "outputs": [],
   "source": [
    "X_train, X_test, y_train, y_test = train_test_split(X, y, test_size = .25, stratify=y)"
   ]
  },
  {
   "cell_type": "code",
   "execution_count": null,
   "metadata": {},
   "outputs": [],
   "source": []
  },
  {
   "cell_type": "markdown",
   "metadata": {},
   "source": [
    "1. Initialize Model\n",
    "2. Fit model on training data\n",
    "3. Evaluate on training and testing datasets"
   ]
  },
  {
   "cell_type": "code",
   "execution_count": 28,
   "metadata": {},
   "outputs": [
    {
     "data": {
      "text/plain": [
       "LogisticRegression(max_iter=170)"
      ]
     },
     "execution_count": 28,
     "metadata": {},
     "output_type": "execute_result"
    }
   ],
   "source": [
    "lr = LogisticRegression(max_iter=170)\n",
    "lr.fit(X_train, y_train)"
   ]
  },
  {
   "cell_type": "code",
   "execution_count": 29,
   "metadata": {},
   "outputs": [
    {
     "name": "stdout",
     "output_type": "stream",
     "text": [
      "Training score = 0.798, testing score = 0.802\n"
     ]
    }
   ],
   "source": [
    "train_score = lr.score(X_train, y_train)\n",
    "test_score = lr.score(X_test, y_test)\n",
    "\n",
    "print(\"Training score = {}, testing score = {}\".format(train_score.round(3), test_score.round(3)))"
   ]
  },
  {
   "cell_type": "code",
   "execution_count": null,
   "metadata": {},
   "outputs": [],
   "source": []
  },
  {
   "cell_type": "markdown",
   "metadata": {},
   "source": [
    "**How well did we do? Is the model overfit?**"
   ]
  },
  {
   "cell_type": "code",
   "execution_count": null,
   "metadata": {},
   "outputs": [],
   "source": []
  },
  {
   "cell_type": "code",
   "execution_count": null,
   "metadata": {},
   "outputs": [],
   "source": []
  },
  {
   "cell_type": "markdown",
   "metadata": {},
   "source": [
    "However, we've only done a single train test split, there could be bias in how we split the data so we need to execute multiple splits and trainings to make sure our results are representative of what we're trying to model.\n",
    "\n",
    "This is referred to as kfold cross-validation."
   ]
  },
  {
   "cell_type": "markdown",
   "metadata": {},
   "source": [
    "![](https://scikit-learn.org/stable/_images/grid_search_cross_validation.png)"
   ]
  },
  {
   "cell_type": "code",
   "execution_count": 30,
   "metadata": {},
   "outputs": [
    {
     "data": {
      "text/plain": [
       "array([0.80454869, 0.80597015, 0.78733997, 0.79943101, 0.79587482])"
      ]
     },
     "execution_count": 30,
     "metadata": {},
     "output_type": "execute_result"
    }
   ],
   "source": [
    "#Initialize KFold object with\n",
    "kf = KFold(n_splits=5)\n",
    "\n",
    "#Run cross_val_score function\n",
    "cv_results = cross_val_score(LogisticRegression(max_iter=400), X, y, cv=kf, scoring=\"accuracy\")\n",
    "cv_results\n"
   ]
  },
  {
   "cell_type": "code",
   "execution_count": 31,
   "metadata": {},
   "outputs": [
    {
     "data": {
      "text/plain": [
       "0.7986329276195734"
      ]
     },
     "execution_count": 31,
     "metadata": {},
     "output_type": "execute_result"
    }
   ],
   "source": [
    "cv_results.mean()"
   ]
  },
  {
   "cell_type": "markdown",
   "metadata": {},
   "source": [
    "**What does this tell us about the performance of our model?**"
   ]
  },
  {
   "cell_type": "code",
   "execution_count": null,
   "metadata": {},
   "outputs": [],
   "source": []
  },
  {
   "cell_type": "code",
   "execution_count": null,
   "metadata": {},
   "outputs": [],
   "source": []
  },
  {
   "cell_type": "code",
   "execution_count": null,
   "metadata": {},
   "outputs": [],
   "source": []
  },
  {
   "cell_type": "markdown",
   "metadata": {},
   "source": [
    "#### Model Interpretation\n",
    "\n",
    "Let's look at the coefficients to understand what affects churn."
   ]
  },
  {
   "cell_type": "code",
   "execution_count": 32,
   "metadata": {},
   "outputs": [
    {
     "data": {
      "text/plain": [
       "LogisticRegression(max_iter=300)"
      ]
     },
     "execution_count": 32,
     "metadata": {},
     "output_type": "execute_result"
    }
   ],
   "source": [
    "#Retrain model\n",
    "\n",
    "lr = LogisticRegression(max_iter=300)\n",
    "lr.fit(X_train, y_train)"
   ]
  },
  {
   "cell_type": "code",
   "execution_count": 33,
   "metadata": {},
   "outputs": [
    {
     "data": {
      "text/plain": [
       "array([[-0.03293799,  0.01200578, -0.68066802,  0.66250061, -0.59698269,\n",
       "        -0.49938764, -0.424693  ,  0.16909197,  0.11593115, -0.76832998,\n",
       "        -1.35036354,  0.35516166, -0.04772461,  0.29194219, -0.03643844]])"
      ]
     },
     "execution_count": 33,
     "metadata": {},
     "output_type": "execute_result"
    }
   ],
   "source": [
    "#Here's how to grab the coefficients\n",
    "lr.coef_"
   ]
  },
  {
   "cell_type": "markdown",
   "metadata": {},
   "source": [
    "Organize the coefficients and feature names into a pandas series"
   ]
  },
  {
   "cell_type": "code",
   "execution_count": 34,
   "metadata": {},
   "outputs": [],
   "source": [
    "coef = pd.Series(index= X.columns, data=lr.coef_[0])"
   ]
  },
  {
   "cell_type": "code",
   "execution_count": 35,
   "metadata": {},
   "outputs": [
    {
     "data": {
      "text/plain": [
       "x6_Two year                  -1.350364\n",
       "x6_One year                  -0.768330\n",
       "x0_Yes                       -0.680668\n",
       "x1_No                        -0.596983\n",
       "x2_Yes                       -0.499388\n",
       "x3_Yes                       -0.424693\n",
       "x8_Credit card (automatic)   -0.047725\n",
       "x8_Mailed check              -0.036438\n",
       "tenure                       -0.032938\n",
       "monthlycharges                0.012006\n",
       "x5_Yes                        0.115931\n",
       "x4_Yes                        0.169092\n",
       "x8_Electronic check           0.291942\n",
       "x7_Yes                        0.355162\n",
       "x1_Fiber optic                0.662501\n",
       "dtype: float64"
      ]
     },
     "execution_count": 35,
     "metadata": {},
     "output_type": "execute_result"
    }
   ],
   "source": [
    "#Sort coef from least to greatest\n",
    "coef.sort_values()"
   ]
  },
  {
   "cell_type": "markdown",
   "metadata": {},
   "source": [
    "Observations:\n",
    "\n",
    "- A two year contract is the feature most associated not churning.\n",
    "- Having fiber optic internet is the feature most associated with churning."
   ]
  },
  {
   "cell_type": "code",
   "execution_count": null,
   "metadata": {},
   "outputs": [],
   "source": []
  },
  {
   "cell_type": "code",
   "execution_count": null,
   "metadata": {},
   "outputs": [],
   "source": []
  },
  {
   "cell_type": "markdown",
   "metadata": {},
   "source": [
    "#### Model evaluation"
   ]
  },
  {
   "cell_type": "markdown",
   "metadata": {},
   "source": [
    "We've covered accuracy already but there a whole litany of other ways to evaluate the performance of a classification model.\n",
    "\n",
    "$$ Accuracy= \\frac{\\sum{\\text{True Positives}}+\\sum{\\text{True Negatives}}}{\\sum{\\text{Total Population}}}$$"
   ]
  },
  {
   "cell_type": "markdown",
   "metadata": {},
   "source": [
    "#### Confusion Matrix\n",
    "\n",
    "\n",
    "<img src='https://www.dataschool.io/content/images/2015/01/confusion_matrix2.png' width=500>\n",
    "\n",
    "\n",
    "\n",
    "[Confusion Matrix (Wikipedia)](https://en.wikipedia.org/wiki/Confusion_matrix): \n",
    "- true positive (TP): A test result that correctly indicates the presence of a condition or characteristic\n",
    "- true negative (TN): A test result that correctly indicates the absence of a condition or characteristic\n",
    "- false positive (FP): A test result which wrongly indicates that a particular condition or attribute is present\n",
    "- false negative (FN): A test result which wrongly indicates that a particular condition or attribute is absent"
   ]
  },
  {
   "cell_type": "code",
   "execution_count": null,
   "metadata": {},
   "outputs": [],
   "source": []
  },
  {
   "cell_type": "markdown",
   "metadata": {},
   "source": [
    "### Challenge\n",
    "\n",
    "Write down what are TP, TN, FP, and FN of the telco churn dataset"
   ]
  },
  {
   "cell_type": "markdown",
   "metadata": {},
   "source": [
    "Answer:\n",
    "    \n",
    "- TP are customers who churn that the model predicted to churn.\n",
    "- TN are customers who did not churn that the model predicted to not churn.\n",
    "- FP are customers who did not churn that the model predicted to churn.\n",
    "- FN are customers who did churn that the model predicted to not churn."
   ]
  },
  {
   "cell_type": "code",
   "execution_count": null,
   "metadata": {},
   "outputs": [],
   "source": []
  },
  {
   "cell_type": "markdown",
   "metadata": {},
   "source": [
    "\n",
    "1. **Precision**: \n",
    "$$\\frac{\\sum{\\text{True Positives}}}{\\sum{\\text{Predicted Positives}}}$$\n",
    "2. **Recall** (or **Sensitivity**): \n",
    "$$\\frac{\\sum{\\text{True Positives}}}{\\sum{\\text{Condition Positives}}}$$ \n",
    "3. **Specificity** (like recall for negative examples): \n",
    "$$\\frac{\\sum{\\text{True Negatives}}}{\\sum{\\text{Condition Negatives}}}$$\n",
    "\n",
    "\n",
    "\n",
    "\n",
    "<img src='https://upload.wikimedia.org/wikipedia/commons/2/26/Precisionrecall.svg' width=400, height = 300>"
   ]
  },
  {
   "cell_type": "code",
   "execution_count": null,
   "metadata": {},
   "outputs": [],
   "source": []
  },
  {
   "cell_type": "markdown",
   "metadata": {},
   "source": [
    "Let's make a confusion matrix and derive the recall and precision scores."
   ]
  },
  {
   "cell_type": "markdown",
   "metadata": {},
   "source": [
    "First let's make predictions from the test dataset"
   ]
  },
  {
   "cell_type": "code",
   "execution_count": 37,
   "metadata": {},
   "outputs": [],
   "source": [
    "preds = lr.predict(X_test)"
   ]
  },
  {
   "cell_type": "code",
   "execution_count": 38,
   "metadata": {},
   "outputs": [
    {
     "data": {
      "text/plain": [
       "array([[1162,  129],\n",
       "       [ 208,  259]])"
      ]
     },
     "execution_count": 38,
     "metadata": {},
     "output_type": "execute_result"
    }
   ],
   "source": [
    "#Pass y_test and preds into confusion_matrix\n",
    "\n",
    "confusion_matrix(y_test, preds)"
   ]
  },
  {
   "cell_type": "markdown",
   "metadata": {},
   "source": [
    "How many TP, TN, FN, and FP are there?"
   ]
  },
  {
   "cell_type": "code",
   "execution_count": null,
   "metadata": {},
   "outputs": [],
   "source": []
  },
  {
   "cell_type": "markdown",
   "metadata": {},
   "source": [
    "Recall score"
   ]
  },
  {
   "cell_type": "code",
   "execution_count": 39,
   "metadata": {},
   "outputs": [
    {
     "data": {
      "text/plain": [
       "0.5546038543897216"
      ]
     },
     "execution_count": 39,
     "metadata": {},
     "output_type": "execute_result"
    }
   ],
   "source": [
    "recall_score(y_test, preds)"
   ]
  },
  {
   "cell_type": "code",
   "execution_count": null,
   "metadata": {},
   "outputs": [],
   "source": []
  },
  {
   "cell_type": "markdown",
   "metadata": {},
   "source": [
    "Precision score"
   ]
  },
  {
   "cell_type": "code",
   "execution_count": 40,
   "metadata": {},
   "outputs": [
    {
     "data": {
      "text/plain": [
       "0.6675257731958762"
      ]
     },
     "execution_count": 40,
     "metadata": {},
     "output_type": "execute_result"
    }
   ],
   "source": [
    "precision_score(y_test, preds)"
   ]
  },
  {
   "cell_type": "code",
   "execution_count": null,
   "metadata": {},
   "outputs": [],
   "source": []
  },
  {
   "cell_type": "markdown",
   "metadata": {},
   "source": [
    "**Which score is more important in this scenario?**\n",
    "\n",
    "\n",
    "**Imagine a model that produced scores that were switched, which model is the better one?**"
   ]
  },
  {
   "cell_type": "code",
   "execution_count": null,
   "metadata": {},
   "outputs": [],
   "source": []
  },
  {
   "cell_type": "markdown",
   "metadata": {},
   "source": [
    "#### F1 Score"
   ]
  },
  {
   "cell_type": "markdown",
   "metadata": {},
   "source": [
    "![](https://images.deepai.org/glossary-terms/b9c8dec8549a4201ae358483cc6bdfa6/fscore.jpg)"
   ]
  },
  {
   "cell_type": "code",
   "execution_count": 41,
   "metadata": {},
   "outputs": [
    {
     "data": {
      "text/plain": [
       "0.6058479532163742"
      ]
     },
     "execution_count": 41,
     "metadata": {},
     "output_type": "execute_result"
    }
   ],
   "source": [
    "f1_score(y_test, preds)"
   ]
  },
  {
   "cell_type": "code",
   "execution_count": null,
   "metadata": {},
   "outputs": [],
   "source": []
  },
  {
   "cell_type": "code",
   "execution_count": null,
   "metadata": {},
   "outputs": [],
   "source": []
  },
  {
   "cell_type": "code",
   "execution_count": null,
   "metadata": {},
   "outputs": [],
   "source": []
  },
  {
   "cell_type": "markdown",
   "metadata": {},
   "source": [
    "## 2) Decision Trees"
   ]
  },
  {
   "cell_type": "markdown",
   "metadata": {},
   "source": [
    "![](https://static01.nyt.com/images/2008/04/16/us/0416-nat-subOBAMA.jpg)"
   ]
  },
  {
   "cell_type": "markdown",
   "metadata": {},
   "source": [
    "#### Sci-kit learn decision tree example\n",
    "\n",
    "![](https://www.kdnuggets.com/wp-content/uploads/dt-iris-interpretability.jpg)"
   ]
  },
  {
   "cell_type": "markdown",
   "metadata": {},
   "source": [
    "**Decision Trees** are a classification/regression supervised learning algorithm that uses a series of splits to make its predictions.\n",
    "\n",
    "Decision Trees learn from the data by picking the feature-threshold that maximizes the information gain of the target variable. In other words it chooses a splitting point that produces the most imbalanced/pure proportions in the target variable. The goal of the model is to keep splitting until all the data in a terminal node or leaf are exclusively one class.\n",
    "\n",
    "The information gain is measured with either of the following formulas\n",
    "\n",
    "![](https://miro.medium.com/max/884/1*efLrD1ECWl-utII0KYb7tQ.jpeg)\n",
    "\n",
    "![](https://miro.medium.com/max/884/1*vRlwRFknvfgWLBed1vsGoQ.jpeg)\n",
    "\n",
    "The model iterates through a set of values for each feature and then calculate the information gain for each split and the one that produces the lowest value is the designated split."
   ]
  },
  {
   "cell_type": "markdown",
   "metadata": {},
   "source": [
    "**Parameters**\n",
    "\n",
    "criterion: The function to measure the quality of a split. Supported criteria are “gini” for the Gini impurity and “entropy” for the information gain.\n",
    "\n",
    "splitter: The strategy used to choose the split at each node. Supported strategies are “best” to choose the best split and “random” to choose the best random split.\n",
    "\n",
    "max_depth: The maximum depth of the tree. If None, then nodes are expanded until all leaves are pure or until all leaves contain less than min_samples_split samples.\n",
    "\n",
    "min_samples_split: The minimum number of samples required to split an internal node\n",
    "\n",
    "min_samples_leaf: The minimum number of samples required to be at a leaf node. A split point at any depth will only be considered if it leaves at least min_samples_leaf training samples in each of the left and right branches. This may have the effect of smoothing the model, especially in regression.\n",
    "\n",
    "max_features: The number of features to consider when looking for the best split"
   ]
  },
  {
   "cell_type": "code",
   "execution_count": null,
   "metadata": {},
   "outputs": [],
   "source": []
  },
  {
   "cell_type": "markdown",
   "metadata": {},
   "source": [
    "Now let's train a decision tree model on the TelCo Churn dataset."
   ]
  },
  {
   "cell_type": "markdown",
   "metadata": {},
   "source": [
    "We are going to initialize a default DT model, meaning we're not going to pass in any parameters of our own.\n",
    "\n",
    "And like we did before, we are going to fit a model and then evaluate it on the training and testing datasets"
   ]
  },
  {
   "cell_type": "code",
   "execution_count": 43,
   "metadata": {},
   "outputs": [
    {
     "data": {
      "text/plain": [
       "0.9952597648843383"
      ]
     },
     "execution_count": 43,
     "metadata": {},
     "output_type": "execute_result"
    }
   ],
   "source": [
    "#Initialize model\n",
    "dt = DecisionTreeClassifier()\n",
    "\n",
    "#Fit model on the dataset\n",
    "dt.fit(X_train, y_train)\n",
    "\n",
    "#Derive the training accuracy score\n",
    "dt.score(X_train, y_train)"
   ]
  },
  {
   "cell_type": "code",
   "execution_count": null,
   "metadata": {},
   "outputs": [],
   "source": []
  },
  {
   "cell_type": "code",
   "execution_count": null,
   "metadata": {},
   "outputs": [],
   "source": []
  },
  {
   "cell_type": "markdown",
   "metadata": {},
   "source": [
    "**Woohoo we got near perfect model!!!**"
   ]
  },
  {
   "cell_type": "code",
   "execution_count": null,
   "metadata": {},
   "outputs": [],
   "source": []
  },
  {
   "cell_type": "code",
   "execution_count": null,
   "metadata": {},
   "outputs": [],
   "source": []
  },
  {
   "cell_type": "code",
   "execution_count": null,
   "metadata": {},
   "outputs": [],
   "source": []
  },
  {
   "cell_type": "markdown",
   "metadata": {},
   "source": [
    "Or did we......??? (Hint: we didn't)"
   ]
  },
  {
   "cell_type": "code",
   "execution_count": null,
   "metadata": {},
   "outputs": [],
   "source": []
  },
  {
   "cell_type": "code",
   "execution_count": 65,
   "metadata": {},
   "outputs": [
    {
     "data": {
      "text/plain": [
       "0.7258248009101251"
      ]
     },
     "execution_count": 65,
     "metadata": {},
     "output_type": "execute_result"
    }
   ],
   "source": [
    "#testing score\n",
    "dt.score(X_test, y_test)"
   ]
  },
  {
   "cell_type": "code",
   "execution_count": null,
   "metadata": {},
   "outputs": [],
   "source": []
  },
  {
   "cell_type": "markdown",
   "metadata": {},
   "source": [
    "Our testing score is considerably lower. "
   ]
  },
  {
   "cell_type": "code",
   "execution_count": null,
   "metadata": {},
   "outputs": [],
   "source": []
  },
  {
   "cell_type": "markdown",
   "metadata": {},
   "source": [
    "Remember the point of a machine learning model is to keep a machine learning model. We want to be confident that when we apply our model in the real world it will do a decent job of evaluating data it has not seen before."
   ]
  },
  {
   "cell_type": "code",
   "execution_count": null,
   "metadata": {},
   "outputs": [],
   "source": []
  },
  {
   "cell_type": "code",
   "execution_count": null,
   "metadata": {},
   "outputs": [],
   "source": []
  },
  {
   "cell_type": "markdown",
   "metadata": {},
   "source": [
    "Now let's try a model in which we impose a `max_depth` in order to prune the tree. "
   ]
  },
  {
   "cell_type": "code",
   "execution_count": 66,
   "metadata": {},
   "outputs": [
    {
     "name": "stdout",
     "output_type": "stream",
     "text": [
      "Our training score is 0.805 and our testing score is 0.772\n"
     ]
    }
   ],
   "source": [
    "#Initialize\n",
    "dt = DecisionTreeClassifier(max_depth =5)\n",
    "# Fit \n",
    "dt.fit(X_train, y_train)\n",
    "\n",
    "train_score = dt.score(X_train, y_train)\n",
    "test_score = dt.score(X_test, y_test)\n",
    "\n",
    "print(\"Our training score is {} and our testing score is {}\".format(train_score.round(3), test_score.round(3)))"
   ]
  },
  {
   "cell_type": "markdown",
   "metadata": {},
   "source": [
    "The gap between the two scores is considerably lower. We arguably don't have an overfit model anymore."
   ]
  },
  {
   "cell_type": "code",
   "execution_count": null,
   "metadata": {},
   "outputs": [],
   "source": []
  },
  {
   "cell_type": "markdown",
   "metadata": {},
   "source": [
    "Let's see how min_samples_leaf impacts the overfitness of the model"
   ]
  },
  {
   "cell_type": "code",
   "execution_count": 67,
   "metadata": {},
   "outputs": [
    {
     "data": {
      "text/plain": [
       "Index(['tenure', 'monthlycharges', 'phoneservice_Yes',\n",
       "       'internetservice_Fiber optic', 'internetservice_No',\n",
       "       'onlinesecurity_Yes', 'techsupport_Yes', 'streamingtv_Yes',\n",
       "       'streamingmovies_Yes', 'contract_One year', 'contract_Two year',\n",
       "       'paperlessbilling_Yes', 'paymentmethod_Credit card (automatic)',\n",
       "       'paymentmethod_Electronic check', 'paymentmethod_Mailed check'],\n",
       "      dtype='object')"
      ]
     },
     "execution_count": 67,
     "metadata": {},
     "output_type": "execute_result"
    }
   ],
   "source": [
    "X.columns"
   ]
  },
  {
   "cell_type": "code",
   "execution_count": null,
   "metadata": {},
   "outputs": [],
   "source": []
  },
  {
   "cell_type": "code",
   "execution_count": 68,
   "metadata": {},
   "outputs": [
    {
     "name": "stdout",
     "output_type": "stream",
     "text": [
      "Our training score is 0.824 and our testing score is 0.773\n"
     ]
    }
   ],
   "source": [
    "#Initialize\n",
    "dt = DecisionTreeClassifier(min_samples_leaf = 20)\n",
    "# Fit \n",
    "dt.fit(X_train, y_train)\n",
    "\n",
    "train_score = dt.score(X_train, y_train)\n",
    "test_score = dt.score(X_test, y_test)\n",
    "\n",
    "print(\"Our training score is {} and our testing score is {}\".format(train_score.round(3), test_score.round(3)))"
   ]
  },
  {
   "cell_type": "code",
   "execution_count": null,
   "metadata": {},
   "outputs": [],
   "source": []
  },
  {
   "cell_type": "code",
   "execution_count": null,
   "metadata": {},
   "outputs": [],
   "source": []
  },
  {
   "cell_type": "markdown",
   "metadata": {},
   "source": [
    "### Tree Visualization\n",
    "\n",
    "We are going to visualize the actual decision tree.\n",
    "\n",
    "\n",
    "Let's retrain it with a small `max_depth` "
   ]
  },
  {
   "cell_type": "code",
   "execution_count": 69,
   "metadata": {},
   "outputs": [
    {
     "data": {
      "text/plain": [
       "DecisionTreeClassifier(max_depth=3)"
      ]
     },
     "execution_count": 69,
     "metadata": {},
     "output_type": "execute_result"
    }
   ],
   "source": [
    "dt = DecisionTreeClassifier(max_depth = 3)\n",
    "dt.fit(X_train, y_train)"
   ]
  },
  {
   "cell_type": "code",
   "execution_count": 74,
   "metadata": {},
   "outputs": [
    {
     "data": {
      "image/png": "[encoded data removed]",
      "text/plain": [
       "<Figure size 2016x1440 with 1 Axes>"
      ]
     },
     "metadata": {},
     "output_type": "display_data"
    }
   ],
   "source": [
    "plt.figure(figsize=(28, 20))\n",
    "plot_tree(dt, feature_names=X.columns, class_names=[\"No\", \"Yes\"], \n",
    "          filled = True, proportion=True, fontsize=18\n",
    "         );"
   ]
  },
  {
   "cell_type": "code",
   "execution_count": null,
   "metadata": {},
   "outputs": [],
   "source": []
  },
  {
   "cell_type": "markdown",
   "metadata": {},
   "source": [
    "**What does the tree tell us about patterns in the data**"
   ]
  },
  {
   "cell_type": "code",
   "execution_count": null,
   "metadata": {},
   "outputs": [],
   "source": []
  },
  {
   "cell_type": "markdown",
   "metadata": {},
   "source": [
    "Using the tree, how would we make predictions about the following customers?\n",
    "\n",
    "\n",
    "    - Customer A: Been a customer for 20 months, does have fiber optic internet and is on a two year contract.\n",
    "    - Customer B: Been a customer for 10 months and has fiber optic internet"
   ]
  },
  {
   "cell_type": "code",
   "execution_count": null,
   "metadata": {},
   "outputs": [],
   "source": []
  }
 ],
 "metadata": {
  "anaconda-cloud": {},
  "hide_input": false,
  "kernelspec": {
   "display_name": "Python 3 with Fil",
   "language": "python",
   "name": "filprofile"
  },
  "language_info": {
   "codemirror_mode": {
    "name": "ipython",
    "version": 3
   },
   "file_extension": ".py",
   "mimetype": "text/x-python",
   "name": "python",
   "nbconvert_exporter": "python",
   "pygments_lexer": "ipython3",
   "version": "3.9.12"
  },
  "toc": {
   "base_numbering": 1,
   "nav_menu": {},
   "number_sections": false,
   "sideBar": true,
   "skip_h1_title": false,
   "title_cell": "Table of Contents",
   "title_sidebar": "Contents",
   "toc_cell": false,
   "toc_position": {},
   "toc_section_display": "block",
   "toc_window_display": true
  },
  "varInspector": {
   "cols": {
    "lenName": 16,
    "lenType": 16,
    "lenVar": 40
   },
   "kernels_config": {
    "python": {
     "delete_cmd_postfix": "",
     "delete_cmd_prefix": "del ",
     "library": "var_list.py",
     "varRefreshCmd": "print(var_dic_list())"
    },
    "r": {
     "delete_cmd_postfix": ") ",
     "delete_cmd_prefix": "rm(",
     "library": "var_list.r",
     "varRefreshCmd": "cat(var_dic_list()) "
    }
   },
   "types_to_exclude": [
    "module",
    "function",
    "builtin_function_or_method",
    "instance",
    "_Feature"
   ],
   "window_display": false
  }
 },
 "nbformat": 4,
 "nbformat_minor": 4
}
