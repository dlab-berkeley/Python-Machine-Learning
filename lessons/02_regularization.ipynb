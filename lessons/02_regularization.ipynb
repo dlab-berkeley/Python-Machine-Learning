{
 "cells": [
  {
   "cell_type": "markdown",
   "id": "94221baf-86b5-484c-8857-271b4d494718",
   "metadata": {
    "tags": []
   },
   "source": [
    "### GLM - Ridge (L2) Regression\n",
    "\n",
    "Many times, if we fit our models too closely to our training data, this can lead to a phenomenom called **overfitting**. It may seem like a good thing when we are able to match our data as close as possible, but often times there are differences in the data samples in our test set compared to our training set. To avoid this, most models are paired with some form of regularization (or penalization) that tries to account for unseen data in the test set. This may impact the performance on our training data, but can lead to better predictions on test data and improve overall generalization."
   ]
  },
  {
   "cell_type": "markdown",
   "id": "6b27a7aa-800e-451c-ac3d-1ae4bb342ddc",
   "metadata": {},
   "source": [
    "\n",
    "For linear regression models, one form of regularization is known as **Ridge (L2) regression**. Instead of using the least squares loss (which is the loss function used to calculate our MSE cost function): \n",
    "$$ L(\\beta) = \\sum_i^n (y_i - \\hat y_i)^2 $$ \n",
    "\n",
    "In ridge regression we additionally penalize the coefficients by adding a regularization term: \n",
    "\n",
    "$$ L(\\beta) = \\sum_i^n (y_i - \\hat y_i)^2  + \\alpha \\sum_j^p \\beta^2 $$ \n",
    "\n",
    "This regularization term aims to minimize the size of any one coefficient (or weight), penalizing any reliance on a given subset of features which commonly leads to overfitting.\n",
    "\n",
    "Ridge regression takes a **hyperparameter**, called alpha, $\\alpha$ (sometimes lambda, $\\lambda$). This hyperparameter indicates how much regularization should be done. In other words, how much to care about the coefficient penalty term vs how much to care about the sum of squared errors term. The higher the value of alpha the more regularization, and the smaller the resulting coefficients will be. See [here](https://scikit-learn.org/stable/modules/generated/sklearn.linear_model.Ridge.html#sklearn.linear_model.Ridge) for more. \n",
    "\n",
    "If we use an `alpha` value of `0` then we get the same solution as the OLS regression done above. Let's prove that."
   ]
  },
  {
   "cell_type": "code",
   "execution_count": null,
   "id": "bf1faee8-c417-4475-a3c7-2fb2f190a8bc",
   "metadata": {},
   "outputs": [],
   "source": [
    "from sklearn.linear_model import Ridge\n",
    "ridge_reg = Ridge(alpha=0,  # regularization\n",
    "                  solver='auto',\n",
    "                  random_state = rand_seed) \n",
    "ridge_reg.fit(X_train, y_train)\n",
    "\n",
    "# Predictions\n",
    "ridge_train_pred = ridge_reg.predict(X_train)\n",
    "ridge_test_pred = ridge_reg.predict(X_test)"
   ]
  },
  {
   "cell_type": "code",
   "execution_count": null,
   "id": "d4ee030d-8f91-402d-b2d1-de6455d6b3bb",
   "metadata": {},
   "outputs": [],
   "source": [
    "print('Train RMSE: %.04f' % (mse(y_train, ridge_train_pred, squared=False)))\n",
    "print('Test RMSE: %.04f' % (mse(y_test, ridge_test_pred, squared=False)))"
   ]
  },
  {
   "cell_type": "markdown",
   "id": "71796c0e-345b-4b82-9b08-d2114e7215b6",
   "metadata": {},
   "source": [
    "Generally we don't know what the best value hypterparameter values should be, and so we need to leverage some type of trial and error method to determine the best values. We won't cover it today (it's covered in detail on Day 2), but scikit-learn provides a `RidgeCV` model that does just that. It fits a ridge regression model by first using cross-validation to find a good value of alpha. See [here](https://scikit-learn.org/stable/modules/generated/sklearn.linear_model.RidgeCV.html#sklearn.linear_model.RidgeCV) for more."
   ]
  },
  {
   "cell_type": "markdown",
   "id": "1c4902f8-69c8-4952-bf9e-b9bc4f9d261c",
   "metadata": {},
   "source": [
    "Just for our sanity, let's see if we can improve on our baseline linear regression model using a ridge model by setting our alpha value to 0.1."
   ]
  },
  {
   "cell_type": "code",
   "execution_count": null,
   "id": "862640b7-4dee-487b-8308-d8c21aa61bae",
   "metadata": {},
   "outputs": [],
   "source": [
    "ridge_reg = Ridge(alpha=0.1,  # regularization\n",
    "                  solver='auto',\n",
    "                  random_state = rand_seed) \n",
    "ridge_reg.fit(X_train, y_train)\n",
    "\n",
    "# Predictions\n",
    "ridge_train_pred = ridge_reg.predict(X_train)\n",
    "ridge_test_pred = ridge_reg.predict(X_test)"
   ]
  },
  {
   "cell_type": "code",
   "execution_count": null,
   "id": "a98614ab-de89-401f-b166-0eb216a2fe0f",
   "metadata": {},
   "outputs": [],
   "source": [
    "print('Train RMSE: %.04f' % (mse(y_train, ridge_train_pred, squared=False)))\n",
    "print('Test RMSE: %.04f' % (mse(y_test, ridge_test_pred, squared=False)))"
   ]
  },
  {
   "cell_type": "markdown",
   "id": "09ccae9b-2bb1-49a3-bf67-7eb0b22e315f",
   "metadata": {},
   "source": [
    "Looks like despite doing slightly worse on the training set, it did a bit better than using regular OLS on the test set!"
   ]
  },
  {
   "cell_type": "markdown",
   "id": "06a73083-aa63-4b5d-97c0-2ee8668993cb",
   "metadata": {
    "jp-MarkdownHeadingCollapsed": true,
    "tags": []
   },
   "source": [
    "### GLM - Lasso (L1) Regression\n",
    "\n",
    "**Lasso (L1) regression** is another form of regularized regression that penalizes the coefficients in a least squares loss. Rather than taking a squared penalty of the coefficients, Lasso uses an absolute value penalty: \n",
    "\n",
    "$$ L(\\beta) = \\sum_i^n (y_i - \\hat y_i)^2  + \\alpha \\sum_j^p |\\beta| $$ \n",
    "\n",
    "This has a similar effect on making the coefficients smaller, but also has a tendency to force some coefficients to 0. This leads to what is called **sparser** models, and is another way to reduce overfitting introduced by more complex models.\n",
    "\n",
    "See [here](https://scikit-learn.org/stable/modules/generated/sklearn.linear_model.Lasso.html#sklearn.linear_model.Lasso) for more."
   ]
  }
 ],
 "metadata": {
  "kernelspec": {
   "display_name": "nlp",
   "language": "python",
   "name": "nlp"
  },
  "language_info": {
   "codemirror_mode": {
    "name": "ipython",
    "version": 3
   },
   "file_extension": ".py",
   "mimetype": "text/x-python",
   "name": "python",
   "nbconvert_exporter": "python",
   "pygments_lexer": "ipython3",
   "version": "3.9.7"
  }
 },
 "nbformat": 4,
 "nbformat_minor": 5
}
